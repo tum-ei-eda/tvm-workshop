{
  "cells": [
    {
      "cell_type": "markdown",
      "source": [
        "# TVM Workshop [![Open In Colab](https://colab.research.google.com/assets/colab-badge.svg)](https://colab.research.google.com/github/tum-ei-eda/tvm-workshop/blob/main/TVM_Workshop.ipynb)"
      ],
      "metadata": {
        "id": "n7GxGfrXNSAa"
      }
    },
    {
      "cell_type": "markdown",
      "source": [
        "Interactive notebook introducing the essentials of TVM, a machine learning compiler framework."
      ],
      "metadata": {
        "id": "ECJowgn5NWmj"
      }
    },
    {
      "cell_type": "markdown",
      "source": [
        "## 1. Prerequisites"
      ],
      "metadata": {
        "id": "QfUE1Rx_M9F_"
      }
    },
    {
      "cell_type": "markdown",
      "source": [
        "### 1.1 Notebook Environment"
      ],
      "metadata": {
        "id": "Tv9ExXwxKci9"
      }
    },
    {
      "cell_type": "markdown",
      "source": [
        "**Jupyter Notebook**\n",
        "If running this notebook locally (e.g. not in Google Colab) some initial steps have to be done to get started:\n",
        "- Create & enter virtual Python environment\n",
        "- Start jupyter notebook server"
      ],
      "metadata": {
        "id": "fPXDzhrvP1S1"
      }
    },
    {
      "cell_type": "markdown",
      "source": [
        "Allow reloading modules without kernel restarts"
      ],
      "metadata": {
        "id": "lw1y5amMQcde"
      }
    },
    {
      "cell_type": "code",
      "source": [
        "%load_ext autoreload\n",
        "%autoreload 2"
      ],
      "metadata": {
        "id": "JFKJcujYQba-"
      },
      "execution_count": 1,
      "outputs": []
    },
    {
      "cell_type": "markdown",
      "source": [
        "Google Colab provides a *Table of contents* feature in the left sidebar which should be very useful for navigating between the sections of the Notebook. Indvidual seconds can be collapsed for getting a better overview. The sidebar can also be used to access the *Files* explorer. Feels free to look into any of the files used in the following steps. Here you can also download the generated files at the end of each section."
      ],
      "metadata": {
        "id": "VyaCa2tR0B3m"
      }
    },
    {
      "cell_type": "markdown",
      "source": [
        "### 1.2 Python Dependencies"
      ],
      "metadata": {
        "id": "YH0Dc-3iKnYh"
      }
    },
    {
      "cell_type": "markdown",
      "source": [
        "Start with installing with TVM's prebuild python package.\n",
        "\n",
        "*Warning:* This is a nightly release and thing might break at some point in time!"
      ],
      "metadata": {
        "id": "2oZupNlib6Pg"
      }
    },
    {
      "cell_type": "code",
      "source": [
        "!pip install tlcpack-nightly -f https://tlcpack.ai/wheels"
      ],
      "metadata": {
        "colab": {
          "base_uri": "https://localhost:8080/"
        },
        "id": "55Pd6EEomZjx",
        "outputId": "f1880f23-27e1-4ac3-a5ef-8b77ef95cbbb"
      },
      "execution_count": 2,
      "outputs": [
        {
          "output_type": "stream",
          "name": "stdout",
          "text": [
            "Looking in indexes: https://pypi.org/simple, https://us-python.pkg.dev/colab-wheels/public/simple/\n",
            "Looking in links: https://tlcpack.ai/wheels\n",
            "Collecting tlcpack-nightly\n",
            "  Downloading https://github.com/tlc-pack/tlcpack/releases/download/v0.7.dev1/tlcpack_nightly-0.9.dev1821%2Bga571bfbbc-cp37-cp37m-manylinux_2_17_x86_64.manylinux2014_x86_64.whl (43.2 MB)\n",
            "\u001b[K     |████████████████████████████████| 43.2 MB 434 kB/s \n",
            "\u001b[?25hRequirement already satisfied: attrs in /usr/local/lib/python3.7/dist-packages (from tlcpack-nightly) (22.1.0)\n",
            "Requirement already satisfied: numpy in /usr/local/lib/python3.7/dist-packages (from tlcpack-nightly) (1.21.6)\n",
            "Requirement already satisfied: decorator in /usr/local/lib/python3.7/dist-packages (from tlcpack-nightly) (4.4.2)\n",
            "Requirement already satisfied: psutil in /usr/local/lib/python3.7/dist-packages (from tlcpack-nightly) (5.4.8)\n",
            "Collecting synr==0.6.0\n",
            "  Downloading synr-0.6.0-py3-none-any.whl (18 kB)\n",
            "Requirement already satisfied: tornado in /usr/local/lib/python3.7/dist-packages (from tlcpack-nightly) (5.1.1)\n",
            "Requirement already satisfied: scipy in /usr/local/lib/python3.7/dist-packages (from tlcpack-nightly) (1.7.3)\n",
            "Requirement already satisfied: cloudpickle in /usr/local/lib/python3.7/dist-packages (from tlcpack-nightly) (1.5.0)\n",
            "Installing collected packages: synr, tlcpack-nightly\n",
            "Successfully installed synr-0.6.0 tlcpack-nightly-0.9.dev1821+ga571bfbbc\n"
          ]
        }
      ]
    },
    {
      "cell_type": "markdown",
      "source": [],
      "metadata": {
        "id": "s9uolHYiMvl9"
      }
    },
    {
      "cell_type": "code",
      "source": [
        "!pip install tflite==2.1.0"
      ],
      "metadata": {
        "colab": {
          "base_uri": "https://localhost:8080/"
        },
        "id": "pHSfg3q2Mv4K",
        "outputId": "67e55604-3ad1-47e3-fd73-d24e8a4a79fb"
      },
      "execution_count": 3,
      "outputs": [
        {
          "output_type": "stream",
          "name": "stdout",
          "text": [
            "Looking in indexes: https://pypi.org/simple, https://us-python.pkg.dev/colab-wheels/public/simple/\n",
            "Collecting tflite==2.1.0\n",
            "  Downloading tflite-2.1.0-py2.py3-none-any.whl (71 kB)\n",
            "\u001b[K     |████████████████████████████████| 71 kB 180 kB/s \n",
            "\u001b[?25hRequirement already satisfied: flatbuffers in /usr/local/lib/python3.7/dist-packages (from tflite==2.1.0) (2.0.7)\n",
            "Installing collected packages: tflite\n",
            "Successfully installed tflite-2.1.0\n"
          ]
        }
      ]
    },
    {
      "cell_type": "markdown",
      "source": [
        "Python imports"
      ],
      "metadata": {
        "id": "YnP2GkL9cHGm"
      }
    },
    {
      "cell_type": "code",
      "source": [
        "import os\n",
        "import tarfile\n",
        "from pathlib import Path\n",
        "\n",
        "import tflite\n",
        "\n",
        "from PIL import Image\n",
        "from matplotlib import pyplot as plt\n",
        "import numpy as np\n",
        "\n",
        "import tvm\n",
        "from tvm import relay, transform, te\n",
        "from tvm.contrib import graph_executor\n",
        "from tvm.contrib.download import download_testdata"
      ],
      "metadata": {
        "id": "yulfqh7nmnZ4"
      },
      "execution_count": 4,
      "outputs": []
    },
    {
      "cell_type": "markdown",
      "source": [
        "### 1.3 Example Model"
      ],
      "metadata": {
        "id": "bSaNiuFwLkRt"
      }
    },
    {
      "cell_type": "markdown",
      "source": [
        "Let's define a utility for later use."
      ],
      "metadata": {
        "id": "hT-P_TEoLoyu"
      }
    },
    {
      "cell_type": "code",
      "source": [
        "def extract(path):\n",
        "    if path.endswith(\"tgz\") or path.endswith(\"gz\"):\n",
        "        dir_path = os.path.dirname(path)\n",
        "        tar = tarfile.open(path)\n",
        "        tar.extractall(path=dir_path)\n",
        "        tar.close()\n",
        "    else:\n",
        "        raise RuntimeError(\"Could not decompress the file: \" + path)"
      ],
      "metadata": {
        "id": "fBJr4U7cLpHM"
      },
      "execution_count": 5,
      "outputs": []
    },
    {
      "cell_type": "markdown",
      "source": [
        "For demonstration purposes we use a modelnet v1 model in the following. The model format is TFLite, but the following steps work in a similar way for any other supported modem types such as ONNX, TF,..."
      ],
      "metadata": {
        "id": "ABKJtWaRNB3g"
      }
    },
    {
      "cell_type": "code",
      "source": [
        "model_url = \"http://download.tensorflow.org/models/mobilenet_v1_2018_08_02/mobilenet_v1_1.0_224.tgz\"\n",
        "\n",
        "# Download model tar file and extract it to get mobilenet_v1_1.0_224.tflite\n",
        "model_path = download_testdata(model_url, \"mobilenet_v1_1.0_224.tgz\", module=[\"tf\", \"official\"])\n",
        "model_dir = os.path.dirname(model_path)\n",
        "extract(model_path)\n",
        "\n",
        "# Now we can open mobilenet_v1_1.0_224.tflite\n",
        "tflite_model_file = os.path.join(model_dir, \"mobilenet_v1_1.0_224.tflite\")\n",
        "tflite_model_buf = open(tflite_model_file, \"rb\").read()\n",
        "\n",
        "# Get TFLite model from buffer\n",
        "tflite_model = tflite.Model.GetRootAsModel(tflite_model_buf, 0)"
      ],
      "metadata": {
        "id": "87dXsKoZNCJq"
      },
      "execution_count": 6,
      "outputs": []
    },
    {
      "cell_type": "markdown",
      "source": [
        "### 1.4 Test Data"
      ],
      "metadata": {
        "id": "vgb_3dVoMTiL"
      }
    },
    {
      "cell_type": "markdown",
      "source": [
        "As we are dealing with an image classification model, let's shortly visualize the deataset we are dealing with by extracting an image."
      ],
      "metadata": {
        "id": "lDHc8Grj_zAC"
      }
    },
    {
      "cell_type": "code",
      "source": [
        "image_url = \"https://github.com/dmlc/mxnet.js/blob/main/data/cat.png?raw=true\"\n",
        "image_path = download_testdata(image_url, \"cat.png\", module=\"data\")\n",
        "resized_image = Image.open(image_path).resize((224, 224))\n",
        "plt.imshow(resized_image)\n",
        "plt.show()\n",
        "image_data = np.asarray(resized_image).astype(\"float32\")\n",
        "\n",
        "# Add a dimension to the image so that we have NHWC format layout\n",
        "image_data = np.expand_dims(image_data, axis=0)\n",
        "\n",
        "# Preprocess image as described here:\n",
        "# https://github.com/tensorflow/models/blob/edb6ed22a801665946c63d650ab9a0b23d98e1b1/research/slim/preprocessing/inception_preprocessing.py#L243\n",
        "image_data[:, :, :, 0] = 2.0 / 255.0 * image_data[:, :, :, 0] - 1\n",
        "image_data[:, :, :, 1] = 2.0 / 255.0 * image_data[:, :, :, 1] - 1\n",
        "image_data[:, :, :, 2] = 2.0 / 255.0 * image_data[:, :, :, 2] - 1\n",
        "print(\"input\", image_data.shape)"
      ],
      "metadata": {
        "colab": {
          "base_uri": "https://localhost:8080/",
          "height": 287
        },
        "id": "s48Bu5nlMXoi",
        "outputId": "aa96a861-9ae1-4d25-cb28-9cbd0fdf64d7"
      },
      "execution_count": 7,
      "outputs": [
        {
          "output_type": "display_data",
          "data": {
            "text/plain": [
              "<Figure size 432x288 with 1 Axes>"
            ],
            "image/png": "[encoded data removed]"
          },
          "metadata": {
            "needs_background": "light"
          }
        },
        {
          "output_type": "stream",
          "name": "stdout",
          "text": [
            "input (1, 224, 224, 3)\n"
          ]
        }
      ]
    },
    {
      "cell_type": "markdown",
      "source": [
        "## 2. TVM Flow"
      ],
      "metadata": {
        "id": "HooGPzWKcLV3"
      }
    },
    {
      "cell_type": "markdown",
      "source": [
        "After everything is setup, the actual tutorial can begin. It is structured in a mostly sequencial way and (if applicable) covers the required steps for using TVM on the host (i.e. a powerful machine) as well es on an constrained microcontroller (i.e. using an ARM core)."
      ],
      "metadata": {
        "id": "Reszrzq0AQsC"
      }
    },
    {
      "cell_type": "markdown",
      "source": [
        "### 2.1 TVM Frontend"
      ],
      "metadata": {
        "id": "NGtMLeXiPIcw"
      }
    },
    {
      "cell_type": "markdown",
      "source": [
        "TVM's frontend loads a given model and converts it into the high level Relay language."
      ],
      "metadata": {
        "id": "Aacy1aHZA3p4"
      }
    },
    {
      "cell_type": "markdown",
      "source": [
        "Provide information on the input tensors (Name, DataType and Shape)"
      ],
      "metadata": {
        "id": "CtCmbzwhc0Yd"
      }
    },
    {
      "cell_type": "code",
      "source": [
        "input_tensor = \"input\"\n",
        "input_shape = (1, 224, 224, 3)\n",
        "input_dtype = \"float32\""
      ],
      "metadata": {
        "id": "np1cttsRnLE2"
      },
      "execution_count": 8,
      "outputs": []
    },
    {
      "cell_type": "markdown",
      "source": [
        "Convert TFlite Model to Relay IR and extract the constant parameters for later use."
      ],
      "metadata": {
        "id": "VMrKbOHAc3_z"
      }
    },
    {
      "cell_type": "code",
      "source": [
        "mod, params = relay.frontend.from_tflite(\n",
        "    tflite_model, shape_dict={input_tensor: input_shape}, dtype_dict={input_tensor: input_dtype}\n",
        ")"
      ],
      "metadata": {
        "id": "ZG1w4kdHnMit"
      },
      "execution_count": 9,
      "outputs": []
    },
    {
      "cell_type": "markdown",
      "source": [
        "The **Section 2.5** where we will have a look into the files generated by TVM, we can inspect the RelayIR of our model as well!"
      ],
      "metadata": {
        "id": "qmQkGdl5BD1p"
      }
    },
    {
      "cell_type": "markdown",
      "source": [
        "### 2.2 TVM Transformations"
      ],
      "metadata": {
        "id": "5mEZp1_APMQk"
      }
    },
    {
      "cell_type": "markdown",
      "source": [
        "Let's apply Transformations to the model.\n",
        "\n",
        "TFLite models typically use the `NHWC` format to store the weights of a convolutional layer. However, in some situations (especially when performing autotuning) a schedule using a `HCHW` layout can be more efficient. The following code, therefore, applies passes to the RelayIR Module, which transform the weights."
      ],
      "metadata": {
        "id": "lwG1d94LPQm_"
      }
    },
    {
      "cell_type": "code",
      "source": [
        "desired_layout = \"NCHW\"\n",
        "desired_layouts = {\n",
        "    \"nn.conv2d\": [desired_layout, \"default\"],\n",
        "    \"qnn.conv2d\": [desired_layout, \"default\"],\n",
        "}\n",
        "\n",
        "# Convert the layout of the graph where possible.\n",
        "seq = transform.Sequential(\n",
        "    [\n",
        "        relay.transform.RemoveUnusedFunctions(),\n",
        "        relay.transform.ConvertLayout(desired_layouts),\n",
        "    ]\n",
        ")\n",
        "\n",
        "with transform.PassContext(opt_level=3):\n",
        "    mod = seq(mod)"
      ],
      "metadata": {
        "id": "NC2pQGLmPQxo"
      },
      "execution_count": 10,
      "outputs": []
    },
    {
      "cell_type": "markdown",
      "source": [
        "### 2.3 TVM Configuration"
      ],
      "metadata": {
        "id": "2qf399yXcpFA"
      }
    },
    {
      "cell_type": "markdown",
      "source": [
        "Depending of the type of device we are dealing with, we have to provide different information to the TVM compilation pipeline to achieve the expected results. For testing and prototyping during development on a development machine the LLVM-based approach is the easiest. However if we want to deploy our model on a microcontroller in the end, a different approach is required."
      ],
      "metadata": {
        "id": "UyaB1-rpCA9r"
      }
    },
    {
      "cell_type": "markdown",
      "source": [
        "#### 2.3.1 Configure for host"
      ],
      "metadata": {
        "id": "os0Kj0msOa8J"
      }
    },
    {
      "cell_type": "markdown",
      "source": [
        "The most straightforward way to get started with TVM is using the plain `llvm` target. A a later point in time we can add additional information to our target, to make use of target-specific optimizations which are implemented in TVM."
      ],
      "metadata": {
        "id": "fmk8RyzgO08h"
      }
    },
    {
      "cell_type": "code",
      "source": [
        "TARGET = \"llvm\""
      ],
      "metadata": {
        "id": "bw5ygEoIO1LN"
      },
      "execution_count": 11,
      "outputs": []
    },
    {
      "cell_type": "markdown",
      "source": [
        "#### 2.3.1 Configure for Microcontroller"
      ],
      "metadata": {
        "id": "vrMFcqFWOe40"
      }
    },
    {
      "cell_type": "markdown",
      "source": [
        "Next, let's use MicroTVM target based on C backend instead of LLVM. We are using the CRT runtime in combination with the AoT executor as it is more lightweight compared to the full C++ runtime."
      ],
      "metadata": {
        "id": "nNRIWttxc8CF"
      }
    },
    {
      "cell_type": "markdown",
      "source": [
        "While the `graph` executor (which is commented out in the following) requires a lot more ressources in terms of memory and CPU Cycles, it has some advantages which might want to make use of, especially for debugging purposes."
      ],
      "metadata": {
        "id": "5o3zaOmPECJF"
      }
    },
    {
      "cell_type": "code",
      "source": [
        "MICRO_TARGET = tvm.target.target.micro(\"host\")  # resolves to \"c -device=micro\"\n",
        "\n",
        "# Configuration for AoT Executor based on CRT runtime\n",
        "MICRO_RUNTIME = tvm.relay.backend.Runtime(\"crt\", {\"system-lib\": False})\n",
        "MICRO_EXECUTOR = tvm.relay.backend.Executor(\n",
        "    \"aot\", {\"interface-api\": \"c\", \"unpacked-api\": True, \"link-params\": True}\n",
        ")\n",
        "\n",
        "# Configuration for Graph Executor based on CRT runtime\n",
        "# MICRO_RUNTIME = tvm.relay.backend.Runtime(\"crt\", {\"system-lib\": True})\n",
        "# MICRO_EXECUTOR = tvm.relay.backend.Executor(\n",
        "#     \"graph\", {\"link-params\": True}\n",
        "# )"
      ],
      "metadata": {
        "id": "l9xU-jdanN8p"
      },
      "execution_count": 12,
      "outputs": []
    },
    {
      "cell_type": "markdown",
      "source": [
        "These pass configuration options will be passed to the `relay.build()` function in a later step."
      ],
      "metadata": {
        "id": "KCHGiO4Mc_ii"
      }
    },
    {
      "cell_type": "code",
      "source": [
        " MICRO_CFG = {\n",
        "    \"tir.disable_vectorize\": True,  # Vectorization is not supported by non-LLVM targets\n",
        "    # Enable improved memory planning algorithms\n",
        "    \"tir.usmp.enable\": True,  \n",
        "    \"tir.usmp.algorithm\": \"hill_climb\",\n",
        "}"
      ],
      "metadata": {
        "id": "JY_JbfGKnPc-"
      },
      "execution_count": 13,
      "outputs": []
    },
    {
      "cell_type": "markdown",
      "source": [
        "### 2.4 TVM Compilation Pipeline"
      ],
      "metadata": {
        "id": "X10ARWnjNBr8"
      }
    },
    {
      "cell_type": "markdown",
      "source": [
        "Now, we can build the Model which can be achieved using just two lines of code.\n",
        "\n",
        "While this step looks pretty simple, it actually invoces the whole compilation pipeline provided by TVM. Depending on the complexity of the model and the enabled features, it might take a couple of seconds to complete."
      ],
      "metadata": {
        "id": "nU6-kdaMdO0x"
      }
    },
    {
      "cell_type": "markdown",
      "source": [
        "#### 2.4.1 Compile for Host"
      ],
      "metadata": {
        "id": "D62XcmoKPphl"
      }
    },
    {
      "cell_type": "markdown",
      "source": [
        "Here the default C++ based runtime and graph executor is used implicitly."
      ],
      "metadata": {
        "id": "PXXY0io6Eo0v"
      }
    },
    {
      "cell_type": "code",
      "source": [
        "with transform.PassContext(opt_level=3):\n",
        "    lib = relay.build(mod, TARGET, params=params)"
      ],
      "metadata": {
        "colab": {
          "base_uri": "https://localhost:8080/"
        },
        "id": "3e3oEI-_P5LU",
        "outputId": "7ca22da3-ed75-471d-9fcf-05b41faf4567"
      },
      "execution_count": 14,
      "outputs": [
        {
          "output_type": "stream",
          "name": "stderr",
          "text": [
            "/usr/local/lib/python3.7/dist-packages/tvm/driver/build_module.py:268: UserWarning: target_host parameter is going to be deprecated. Please pass in tvm.target.Target(target, host=target_host) instead.\n",
            "  \"target_host parameter is going to be deprecated. \"\n",
            "WARNING:autotvm:One or more operators have not been tuned. Please tune your model for better performance. Use DEBUG logging level to see more details.\n"
          ]
        }
      ]
    },
    {
      "cell_type": "markdown",
      "source": [
        "#### 2.4.2 Compile for Microcontroller"
      ],
      "metadata": {
        "id": "LhslmUfyPz1A"
      }
    },
    {
      "cell_type": "markdown",
      "source": [
        "Do not forget to explicitly pass the chosen executor and runtime to the `relay.build()` function."
      ],
      "metadata": {
        "id": "A4urvAXYEyHg"
      }
    },
    {
      "cell_type": "code",
      "source": [
        "with tvm.transform.PassContext(opt_level=3, config=MICRO_CFG):\n",
        "    micro_lib = relay.build(mod, target=MICRO_TARGET, runtime=MICRO_RUNTIME, executor=MICRO_EXECUTOR, params=params)"
      ],
      "metadata": {
        "id": "_7G1vNV5nUBq"
      },
      "execution_count": 15,
      "outputs": []
    },
    {
      "cell_type": "markdown",
      "source": [
        "### 2.5 TVM Artifacts"
      ],
      "metadata": {
        "id": "cXE5dYe5NLEu"
      }
    },
    {
      "cell_type": "markdown",
      "source": [
        "In the following step we export our codegen artifacts to investigate the generated files. "
      ],
      "metadata": {
        "id": "tKY6pMexVKoF"
      }
    },
    {
      "cell_type": "markdown",
      "source": [
        "#### 2.5.1 Shared Object Library"
      ],
      "metadata": {
        "id": "sgOI1_laVDuv"
      }
    },
    {
      "cell_type": "markdown",
      "source": [
        "Here we export a shared object file containing the libray TVM has generated for our host."
      ],
      "metadata": {
        "id": "WtTSZVwuVHPj"
      }
    },
    {
      "cell_type": "code",
      "source": [
        "shared_object_file = Path(\"module.so\")\n",
        "lib.export_library(shared_object_file)"
      ],
      "metadata": {
        "id": "xypqWGFAFjrl"
      },
      "execution_count": 17,
      "outputs": []
    },
    {
      "cell_type": "markdown",
      "source": [
        "As this object file is not human-readable, we can not really inspect it. However we can load such model back into TVM very easily is shown here:"
      ],
      "metadata": {
        "id": "ioXSJInJF7pE"
      }
    },
    {
      "cell_type": "code",
      "source": [
        "loaded_lib = tvm.runtime.load_module(shared_object_file)"
      ],
      "metadata": {
        "id": "dSXSQc4PGUv6"
      },
      "execution_count": 18,
      "outputs": []
    },
    {
      "cell_type": "markdown",
      "source": [
        "#### 2.5.2 Model Library Format (MLF)"
      ],
      "metadata": {
        "id": "ZCWSxLqlVHTJ"
      }
    },
    {
      "cell_type": "markdown",
      "source": [
        "\n",
        "\n",
        "For MicroTVM targets we are interested in the Model Library Format (MLF) artifact as it contains the sources required to build our target software."
      ],
      "metadata": {
        "id": "ELRctNDBdYzy"
      }
    },
    {
      "cell_type": "code",
      "source": [
        "model_library_format_path = Path(\"mlf\")\n",
        "tvm.micro.export_model_library_format(micro_lib, f\"{model_library_format_path}.tar\")"
      ],
      "metadata": {
        "colab": {
          "base_uri": "https://localhost:8080/"
        },
        "id": "siy6y5lFnc_P",
        "outputId": "54ace72f-5dc2-4ff9-8bf0-4c3625f0c957"
      },
      "execution_count": 19,
      "outputs": [
        {
          "output_type": "execute_result",
          "data": {
            "text/plain": [
              "PosixPath('mlf.tar')"
            ]
          },
          "metadata": {},
          "execution_count": 19
        }
      ]
    },
    {
      "cell_type": "markdown",
      "source": [
        "Extract the MLF archive"
      ],
      "metadata": {
        "id": "5Urixw-7dg6i"
      }
    },
    {
      "cell_type": "code",
      "source": [
        "model_library_format_path.mkdir(exist_ok=True)\n",
        "tar = tarfile.open(f\"{model_library_format_path}.tar\").extractall(\n",
        "    model_library_format_path\n",
        ")"
      ],
      "metadata": {
        "id": "HVHwrumrn_ZX"
      },
      "execution_count": 20,
      "outputs": []
    },
    {
      "cell_type": "markdown",
      "source": [
        "In the following, a truncated version of the contents of the `mlf.tar` archive generated by the previous commands is given.\n",
        "\n",
        "```\n",
        ".\n",
        "├── codegen\n",
        "│   └── host\n",
        "│       ├── include\n",
        "│       │   └── tvmgen_default.h\n",
        "│       └── src\n",
        "│           ├── default_lib0.c\n",
        "│           └── default_lib1.c\n",
        "├── metadata.json\n",
        "├── parameters\n",
        "│   └── default.params\n",
        "├── runtime\n",
        "│   └── ...\n",
        "└── src\n",
        "    └── default.relay\n",
        "```\n",
        "\n",
        "- `codegen/host/` Contains the main artifacts of the TVM compilation flow:\n",
        "  - The generated kernels e.g. `src/default_lib1.c`\n",
        "  - Interfacing code for calling the generated kernels, as well as for passing model inputs and outputs, can be found in `include/tvmgen_default.h` and `src/default_lib0.c`\n",
        "  - *Optional:* If parts of the model are processed by i.e. a hardware accelerator, there may also exist `src/default_lib2.c` etc.\n",
        "- `metadata.json` Contains some information about the model and used workspace buffers (only used by some executors).\n",
        "- `parameters/default.params` Binary file containing the data of all constant tensors used in the model. (Ignored by AoT executor, which automatically includes them into the kernel sources.)\n",
        "- `runtime/` Contains the additional sources required to make use of the generated kernels using the chosen executor/runtime. (here: TVM minimal crt and third party libraries)\n",
        "- `src/relay.txt` The intermediate representation of the model graph before lowering (might be useful for debugging).\n"
      ],
      "metadata": {
        "id": "fhJgqFY-IkOg"
      }
    },
    {
      "cell_type": "markdown",
      "source": [
        "Feel free to look into the generated files in the `mlf` directory by yourself!"
      ],
      "metadata": {
        "id": "cQvRXSEId2Nk"
      }
    },
    {
      "cell_type": "markdown",
      "source": [
        "### 2.6 TVM Model Execution/Evaluation"
      ],
      "metadata": {
        "id": "tE0BgMtGQG2d"
      }
    },
    {
      "cell_type": "markdown",
      "source": [
        "After building the model, we definetly want to test it to check if it produces the expected results. In addition we might want to benchmark it to determine the inference performance."
      ],
      "metadata": {
        "id": "8JvOzJ0yQLQW"
      }
    },
    {
      "cell_type": "markdown",
      "source": [
        "#### 2.6.1 Execution on host"
      ],
      "metadata": {
        "id": "Xjn9Ud3HQTAZ"
      }
    },
    {
      "cell_type": "markdown",
      "source": [
        "Here we use the model previously loaded from the share object library file."
      ],
      "metadata": {
        "id": "cdCouRCSQXbY"
      }
    },
    {
      "cell_type": "code",
      "source": [
        "# Create a runtime executor module\n",
        "module = graph_executor.GraphModule(loaded_lib[\"default\"](tvm.cpu()))\n",
        "\n",
        "# Feed input data\n",
        "module.set_input(input_tensor, tvm.nd.array(image_data))\n",
        "\n",
        "# Run\n",
        "module.run()\n",
        "\n",
        "# Get output\n",
        "tvm_output = module.get_output(0).numpy()\n",
        "tvm_output"
      ],
      "metadata": {
        "id": "7GDW6dt-QLZ6",
        "colab": {
          "base_uri": "https://localhost:8080/"
        },
        "outputId": "0c808f22-432d-492a-8119-ba4a8952885d"
      },
      "execution_count": 24,
      "outputs": [
        {
          "output_type": "execute_result",
          "data": {
            "text/plain": [
              "array([[1.3275057e-07, 1.2741729e-06, 4.9942050e-06, ..., 7.6598380e-06,\n",
              "        1.6978064e-04, 4.6119548e-04]], dtype=float32)"
            ]
          },
          "metadata": {},
          "execution_count": 24
        }
      ]
    },
    {
      "cell_type": "markdown",
      "source": [
        "Here we do some final classification steps"
      ],
      "metadata": {
        "id": "8a34FZyQQZKi"
      }
    },
    {
      "cell_type": "code",
      "source": [
        "# Load label file\n",
        "label_file_url = \"\".join(\n",
        "    [\n",
        "        \"https://raw.githubusercontent.com/\",\n",
        "        \"tensorflow/tensorflow/master/tensorflow/lite/java/demo/\",\n",
        "        \"app/src/main/assets/\",\n",
        "        \"labels_mobilenet_quant_v1_224.txt\",\n",
        "    ]\n",
        ")\n",
        "label_file = \"labels_mobilenet_quant_v1_224.txt\"\n",
        "label_path = download_testdata(label_file_url, label_file, module=\"data\")\n",
        "\n",
        "# List of 1001 classes\n",
        "with open(label_path) as f:\n",
        "    labels = f.readlines()\n",
        "\n",
        "# Convert result to 1D data\n",
        "predictions = np.squeeze(tvm_output)\n",
        "\n",
        "# Get top 1 prediction\n",
        "prediction = np.argmax(predictions)\n",
        "\n",
        "# Convert id to class name and show the result\n",
        "print(\"The image prediction result is: id \" + str(prediction) + \" name: \" + labels[prediction])"
      ],
      "metadata": {
        "colab": {
          "base_uri": "https://localhost:8080/"
        },
        "id": "hHvK153nQZci",
        "outputId": "7aa73dec-9a0b-4d07-95a6-b2f452ff6d66"
      },
      "execution_count": 25,
      "outputs": [
        {
          "output_type": "stream",
          "name": "stdout",
          "text": [
            "The image prediction result is: id 283 name: tiger cat\n",
            "\n"
          ]
        }
      ]
    },
    {
      "cell_type": "markdown",
      "source": [
        "#### 2.6.1 Execution on microcontroller"
      ],
      "metadata": {
        "id": "PKesrht6Qfwe"
      }
    },
    {
      "cell_type": "markdown",
      "source": [
        "To run our model on a MCU, we will use the MicroTVM deployment framework which will be introduced later in **Section 2.10**."
      ],
      "metadata": {
        "id": "TgbSwAQBQkNo"
      }
    },
    {
      "cell_type": "markdown",
      "source": [
        "### 2.7 Command-line interface"
      ],
      "metadata": {
        "id": "TQIsnHYbSWYa"
      }
    },
    {
      "cell_type": "markdown",
      "source": [
        "The previously shown steps can also be accomplished using a simplified command line interface named TVMC. Here are some usage examples for reference:\n",
        "\n",
        "```\n",
        "# Host\n",
        "tvmc compile mobilenet_v1_1.0_224.tflite --output lib.tar --target llvm\n",
        "tvmc run lib.tar --fill-mode random --print-time --print-top 10\n",
        "\n",
        "# Microcontroller\n",
        "tvmc compile mobilenet_v1_1.0_224.tflite --output mlf.tar \\\n",
        "    --target c --runtime crt --executor-aot-interface-api c \\\n",
        "    --executor=aot --executor-aot-unpacked-api=1 --desired-layout NCHW \\\n",
        "    --output-format mlf --pass-config tir.disable_vectorize=1 \\\n",
        "    --pass-config tir.usmp.enable=1 --pass-config tir.usmp.algorithm=hill_climb\n",
        "tvmc micro [create|build|flash] ...\n",
        "tvmc run -device micro ...\n",
        "```"
      ],
      "metadata": {
        "id": "H6w429lzSbu3"
      }
    },
    {
      "cell_type": "markdown",
      "source": [
        "A `--profile` flag is also available for the `tvmc run` command which helps to analyse the per-layer inference times of our model."
      ],
      "metadata": {
        "id": "NPHB5vB1Tw4M"
      }
    },
    {
      "cell_type": "markdown",
      "source": [
        "### 2.8 Auto-tuning"
      ],
      "metadata": {
        "id": "LbwLuscRSgps"
      }
    },
    {
      "cell_type": "markdown",
      "source": [
        "While TVM can optimize a model for a given target device by providing additional information such as the number of cores are the used target architecture. However the default or often called \"fallback\"-schedules are the the name suggest often suboptimal given a random model/target combination. To improve the inference performance in a automated-fashion, TVM provides several interfaces, including AutoTVM and AutoScheduler which are the most established ones and demonstrated int he following.\n",
        "\n",
        "For the sake of simliticy we use the TVMC command line interface for the following cells."
      ],
      "metadata": {
        "id": "sAHJF8gOVen7"
      }
    },
    {
      "cell_type": "markdown",
      "source": [
        "#### 2.8.1 Tuning for host using AutoTVM"
      ],
      "metadata": {
        "id": "m3kuEflrVexM"
      }
    },
    {
      "cell_type": "markdown",
      "source": [
        "AutoTVM extracts a list of tunable tasks of the model and tunes the one after each other by searching a tuning-space given by manually written schdule template for the operators in am model. A JSON long file with the results in generated during the tuning procedure."
      ],
      "metadata": {
        "id": "u1xVgxdnVe1i"
      }
    },
    {
      "cell_type": "markdown",
      "source": [
        "*Hint:* The printed warning can be ignored. They are quite annoying and hopefully removed in the near future."
      ],
      "metadata": {
        "id": "coD3OunQVXqS"
      }
    },
    {
      "cell_type": "code",
      "source": [
        "!tvmc tune $tflite_model_file --target llvm --output autotvm_records.json --desired-layout NCHW --trials 100 --tuner ga"
      ],
      "metadata": {
        "colab": {
          "base_uri": "https://localhost:8080/"
        },
        "id": "FaILij76Vz7g",
        "outputId": "57576c50-2d0f-488c-cc06-0301b115c9d8"
      },
      "execution_count": 26,
      "outputs": [
        {
          "output_type": "stream",
          "name": "stdout",
          "text": [
            "/usr/local/lib/python3.7/dist-packages/tvm/target/target.py:261: UserWarning: target_host parameter is going to be deprecated. Please pass in tvm.target.Target(target, host=target_host) instead.\n",
            "  \"target_host parameter is going to be deprecated. \"\n",
            "[15:55:40] /workspace/tvm/src/relay/transforms/convert_layout.cc:99: Warning: Desired layout(s) not specified for op: nn.avg_pool2d\n",
            "/usr/local/lib/python3.7/dist-packages/tvm/driver/build_module.py:268: UserWarning: target_host parameter is going to be deprecated. Please pass in tvm.target.Target(target, host=target_host) instead.\n",
            "  \"target_host parameter is going to be deprecated. \"\n",
            "[Task  1/20]  Current/Best:    0.00/   0.00 GFLOPS | Progress: (0/5) | 0.00 s/usr/local/lib/python3.7/dist-packages/tvm/driver/build_module.py:268: UserWarning: target_host parameter is going to be deprecated. Please pass in tvm.target.Target(target, host=target_host) instead.\n",
            "  \"target_host parameter is going to be deprecated. \"\n",
            "/usr/local/lib/python3.7/dist-packages/tvm/driver/build_module.py:268: UserWarning: target_host parameter is going to be deprecated. Please pass in tvm.target.Target(target, host=target_host) instead.\n",
            "  \"target_host parameter is going to be deprecated. \"\n",
            "[Task  1/20]  Current/Best:   16.04/  16.09 GFLOPS | Progress: (2/5) | 3.15 s/usr/local/lib/python3.7/dist-packages/tvm/driver/build_module.py:268: UserWarning: target_host parameter is going to be deprecated. Please pass in tvm.target.Target(target, host=target_host) instead.\n",
            "  \"target_host parameter is going to be deprecated. \"\n",
            "/usr/local/lib/python3.7/dist-packages/tvm/driver/build_module.py:268: UserWarning: target_host parameter is going to be deprecated. Please pass in tvm.target.Target(target, host=target_host) instead.\n",
            "  \"target_host parameter is going to be deprecated. \"\n",
            "[Task  1/20]  Current/Best:   13.89/  16.09 GFLOPS | Progress: (4/5) | 4.41 s/usr/local/lib/python3.7/dist-packages/tvm/driver/build_module.py:268: UserWarning: target_host parameter is going to be deprecated. Please pass in tvm.target.Target(target, host=target_host) instead.\n",
            "  \"target_host parameter is going to be deprecated. \"\n",
            "[Task  1/20]  Current/Best:   19.44/  19.44 GFLOPS | Progress: (5/5) | 4.74 s Done.\n",
            "[Task  2/20]  Current/Best:    0.00/   0.00 GFLOPS | Progress: (0/5) | 0.00 s/usr/local/lib/python3.7/dist-packages/tvm/driver/build_module.py:268: UserWarning: target_host parameter is going to be deprecated. Please pass in tvm.target.Target(target, host=target_host) instead.\n",
            "  \"target_host parameter is going to be deprecated. \"\n",
            "/usr/local/lib/python3.7/dist-packages/tvm/driver/build_module.py:268: UserWarning: target_host parameter is going to be deprecated. Please pass in tvm.target.Target(target, host=target_host) instead.\n",
            "  \"target_host parameter is going to be deprecated. \"\n",
            "[Task  2/20]  Current/Best:    9.50/   9.50 GFLOPS | Progress: (2/5) | 1.91 s/usr/local/lib/python3.7/dist-packages/tvm/driver/build_module.py:268: UserWarning: target_host parameter is going to be deprecated. Please pass in tvm.target.Target(target, host=target_host) instead.\n",
            "  \"target_host parameter is going to be deprecated. \"\n",
            "/usr/local/lib/python3.7/dist-packages/tvm/driver/build_module.py:268: UserWarning: target_host parameter is going to be deprecated. Please pass in tvm.target.Target(target, host=target_host) instead.\n",
            "  \"target_host parameter is going to be deprecated. \"\n",
            "[Task  2/20]  Current/Best:    3.92/   9.50 GFLOPS | Progress: (4/5) | 2.81 s/usr/local/lib/python3.7/dist-packages/tvm/driver/build_module.py:268: UserWarning: target_host parameter is going to be deprecated. Please pass in tvm.target.Target(target, host=target_host) instead.\n",
            "  \"target_host parameter is going to be deprecated. \"\n",
            "[Task  2/20]  Current/Best:    6.43/   9.50 GFLOPS | Progress: (5/5) | 3.49 s Done.\n",
            "[Task  3/20]  Current/Best:    0.00/   0.00 GFLOPS | Progress: (0/5) | 0.00 s/usr/local/lib/python3.7/dist-packages/tvm/driver/build_module.py:268: UserWarning: target_host parameter is going to be deprecated. Please pass in tvm.target.Target(target, host=target_host) instead.\n",
            "  \"target_host parameter is going to be deprecated. \"\n",
            "/usr/local/lib/python3.7/dist-packages/tvm/driver/build_module.py:268: UserWarning: target_host parameter is going to be deprecated. Please pass in tvm.target.Target(target, host=target_host) instead.\n",
            "  \"target_host parameter is going to be deprecated. \"\n",
            "[Task  3/20]  Current/Best:    9.37/   9.37 GFLOPS | Progress: (2/5) | 2.28 s/usr/local/lib/python3.7/dist-packages/tvm/driver/build_module.py:268: UserWarning: target_host parameter is going to be deprecated. Please pass in tvm.target.Target(target, host=target_host) instead.\n",
            "  \"target_host parameter is going to be deprecated. \"\n",
            "/usr/local/lib/python3.7/dist-packages/tvm/driver/build_module.py:268: UserWarning: target_host parameter is going to be deprecated. Please pass in tvm.target.Target(target, host=target_host) instead.\n",
            "  \"target_host parameter is going to be deprecated. \"\n",
            "[Task  3/20]  Current/Best:    9.52/  12.83 GFLOPS | Progress: (4/5) | 3.90 s/usr/local/lib/python3.7/dist-packages/tvm/driver/build_module.py:268: UserWarning: target_host parameter is going to be deprecated. Please pass in tvm.target.Target(target, host=target_host) instead.\n",
            "  \"target_host parameter is going to be deprecated. \"\n",
            "[Task  3/20]  Current/Best:   14.74/  14.74 GFLOPS | Progress: (5/5) | 4.24 s Done.\n",
            "[Task  4/20]  Current/Best:    0.00/   0.00 GFLOPS | Progress: (0/5) | 0.00 s/usr/local/lib/python3.7/dist-packages/tvm/driver/build_module.py:268: UserWarning: target_host parameter is going to be deprecated. Please pass in tvm.target.Target(target, host=target_host) instead.\n",
            "  \"target_host parameter is going to be deprecated. \"\n",
            "/usr/local/lib/python3.7/dist-packages/tvm/driver/build_module.py:268: UserWarning: target_host parameter is going to be deprecated. Please pass in tvm.target.Target(target, host=target_host) instead.\n",
            "  \"target_host parameter is going to be deprecated. \"\n",
            "[Task  4/20]  Current/Best:   11.94/  11.94 GFLOPS | Progress: (2/5) | 1.83 s/usr/local/lib/python3.7/dist-packages/tvm/driver/build_module.py:268: UserWarning: target_host parameter is going to be deprecated. Please pass in tvm.target.Target(target, host=target_host) instead.\n",
            "  \"target_host parameter is going to be deprecated. \"\n",
            "/usr/local/lib/python3.7/dist-packages/tvm/driver/build_module.py:268: UserWarning: target_host parameter is going to be deprecated. Please pass in tvm.target.Target(target, host=target_host) instead.\n",
            "  \"target_host parameter is going to be deprecated. \"\n",
            "[Task  4/20]  Current/Best:   12.20/  13.05 GFLOPS | Progress: (4/5) | 2.58 s/usr/local/lib/python3.7/dist-packages/tvm/driver/build_module.py:268: UserWarning: target_host parameter is going to be deprecated. Please pass in tvm.target.Target(target, host=target_host) instead.\n",
            "  \"target_host parameter is going to be deprecated. \"\n",
            "[Task  4/20]  Current/Best:    8.95/  13.05 GFLOPS | Progress: (5/5) | 3.09 s Done.\n",
            "[Task  5/20]  Current/Best:    0.00/   0.00 GFLOPS | Progress: (0/5) | 0.00 s/usr/local/lib/python3.7/dist-packages/tvm/driver/build_module.py:268: UserWarning: target_host parameter is going to be deprecated. Please pass in tvm.target.Target(target, host=target_host) instead.\n",
            "  \"target_host parameter is going to be deprecated. \"\n",
            "/usr/local/lib/python3.7/dist-packages/tvm/driver/build_module.py:268: UserWarning: target_host parameter is going to be deprecated. Please pass in tvm.target.Target(target, host=target_host) instead.\n",
            "  \"target_host parameter is going to be deprecated. \"\n",
            "[Task  5/20]  Current/Best:    9.97/  11.37 GFLOPS | Progress: (2/5) | 4.66 s/usr/local/lib/python3.7/dist-packages/tvm/driver/build_module.py:268: UserWarning: target_host parameter is going to be deprecated. Please pass in tvm.target.Target(target, host=target_host) instead.\n",
            "  \"target_host parameter is going to be deprecated. \"\n",
            "/usr/local/lib/python3.7/dist-packages/tvm/driver/build_module.py:268: UserWarning: target_host parameter is going to be deprecated. Please pass in tvm.target.Target(target, host=target_host) instead.\n",
            "  \"target_host parameter is going to be deprecated. \"\n",
            "[Task  5/20]  Current/Best:   13.59/  13.59 GFLOPS | Progress: (4/5) | 6.08 s/usr/local/lib/python3.7/dist-packages/tvm/driver/build_module.py:268: UserWarning: target_host parameter is going to be deprecated. Please pass in tvm.target.Target(target, host=target_host) instead.\n",
            "  \"target_host parameter is going to be deprecated. \"\n",
            "[Task  5/20]  Current/Best:   13.22/  13.59 GFLOPS | Progress: (5/5) | 7.09 s Done.\n",
            "[Task  6/20]  Current/Best:    0.00/   0.00 GFLOPS | Progress: (0/5) | 0.00 s/usr/local/lib/python3.7/dist-packages/tvm/driver/build_module.py:268: UserWarning: target_host parameter is going to be deprecated. Please pass in tvm.target.Target(target, host=target_host) instead.\n",
            "  \"target_host parameter is going to be deprecated. \"\n",
            "/usr/local/lib/python3.7/dist-packages/tvm/driver/build_module.py:268: UserWarning: target_host parameter is going to be deprecated. Please pass in tvm.target.Target(target, host=target_host) instead.\n",
            "  \"target_host parameter is going to be deprecated. \"\n",
            "[Task  6/20]  Current/Best:    8.16/   8.75 GFLOPS | Progress: (2/5) | 1.80 s/usr/local/lib/python3.7/dist-packages/tvm/driver/build_module.py:268: UserWarning: target_host parameter is going to be deprecated. Please pass in tvm.target.Target(target, host=target_host) instead.\n",
            "  \"target_host parameter is going to be deprecated. \"\n",
            "/usr/local/lib/python3.7/dist-packages/tvm/driver/build_module.py:268: UserWarning: target_host parameter is going to be deprecated. Please pass in tvm.target.Target(target, host=target_host) instead.\n",
            "  \"target_host parameter is going to be deprecated. \"\n",
            "[Task  6/20]  Current/Best:   14.31/  14.31 GFLOPS | Progress: (4/5) | 4.50 s/usr/local/lib/python3.7/dist-packages/tvm/driver/build_module.py:268: UserWarning: target_host parameter is going to be deprecated. Please pass in tvm.target.Target(target, host=target_host) instead.\n",
            "  \"target_host parameter is going to be deprecated. \"\n",
            "[Task  7/20]  Current/Best:    0.00/   0.00 GFLOPS | Progress: (0/5) | 0.00 s/usr/local/lib/python3.7/dist-packages/tvm/driver/build_module.py:268: UserWarning: target_host parameter is going to be deprecated. Please pass in tvm.target.Target(target, host=target_host) instead.\n",
            "  \"target_host parameter is going to be deprecated. \"\n",
            "/usr/local/lib/python3.7/dist-packages/tvm/driver/build_module.py:268: UserWarning: target_host parameter is going to be deprecated. Please pass in tvm.target.Target(target, host=target_host) instead.\n",
            "  \"target_host parameter is going to be deprecated. \"\n",
            "[Task  7/20]  Current/Best:   16.70/  16.70 GFLOPS | Progress: (2/5) | 3.35 s/usr/local/lib/python3.7/dist-packages/tvm/driver/build_module.py:268: UserWarning: target_host parameter is going to be deprecated. Please pass in tvm.target.Target(target, host=target_host) instead.\n",
            "  \"target_host parameter is going to be deprecated. \"\n",
            "/usr/local/lib/python3.7/dist-packages/tvm/driver/build_module.py:268: UserWarning: target_host parameter is going to be deprecated. Please pass in tvm.target.Target(target, host=target_host) instead.\n",
            "  \"target_host parameter is going to be deprecated. \"\n",
            "[Task  7/20]  Current/Best:    3.56/  16.70 GFLOPS | Progress: (4/5) | 4.46 s/usr/local/lib/python3.7/dist-packages/tvm/driver/build_module.py:268: UserWarning: target_host parameter is going to be deprecated. Please pass in tvm.target.Target(target, host=target_host) instead.\n",
            "  \"target_host parameter is going to be deprecated. \"\n",
            "[Task  7/20]  Current/Best:   17.79/  17.79 GFLOPS | Progress: (5/5) | 4.78 s Done.\n",
            "[Task  8/20]  Current/Best:    0.00/   0.00 GFLOPS | Progress: (0/5) | 0.00 s/usr/local/lib/python3.7/dist-packages/tvm/driver/build_module.py:268: UserWarning: target_host parameter is going to be deprecated. Please pass in tvm.target.Target(target, host=target_host) instead.\n",
            "  \"target_host parameter is going to be deprecated. \"\n",
            "/usr/local/lib/python3.7/dist-packages/tvm/driver/build_module.py:268: UserWarning: target_host parameter is going to be deprecated. Please pass in tvm.target.Target(target, host=target_host) instead.\n",
            "  \"target_host parameter is going to be deprecated. \"\n",
            "[Task  8/20]  Current/Best:    7.56/   7.56 GFLOPS | Progress: (2/5) | 2.07 s/usr/local/lib/python3.7/dist-packages/tvm/driver/build_module.py:268: UserWarning: target_host parameter is going to be deprecated. Please pass in tvm.target.Target(target, host=target_host) instead.\n",
            "  \"target_host parameter is going to be deprecated. \"\n",
            "/usr/local/lib/python3.7/dist-packages/tvm/driver/build_module.py:268: UserWarning: target_host parameter is going to be deprecated. Please pass in tvm.target.Target(target, host=target_host) instead.\n",
            "  \"target_host parameter is going to be deprecated. \"\n",
            "[Task  8/20]  Current/Best:    6.21/  12.90 GFLOPS | Progress: (4/5) | 3.14 s/usr/local/lib/python3.7/dist-packages/tvm/driver/build_module.py:268: UserWarning: target_host parameter is going to be deprecated. Please pass in tvm.target.Target(target, host=target_host) instead.\n",
            "  \"target_host parameter is going to be deprecated. \"\n",
            "[Task  8/20]  Current/Best:    6.17/  12.90 GFLOPS | Progress: (5/5) | 7.59 s Done.\n",
            "[Task  9/20]  Current/Best:    0.00/   0.00 GFLOPS | Progress: (0/5) | 0.00 s/usr/local/lib/python3.7/dist-packages/tvm/driver/build_module.py:268: UserWarning: target_host parameter is going to be deprecated. Please pass in tvm.target.Target(target, host=target_host) instead.\n",
            "  \"target_host parameter is going to be deprecated. \"\n",
            "/usr/local/lib/python3.7/dist-packages/tvm/driver/build_module.py:268: UserWarning: target_host parameter is going to be deprecated. Please pass in tvm.target.Target(target, host=target_host) instead.\n",
            "  \"target_host parameter is going to be deprecated. \"\n",
            "[Task  9/20]  Current/Best:   10.44/  10.44 GFLOPS | Progress: (2/5) | 2.23 s/usr/local/lib/python3.7/dist-packages/tvm/driver/build_module.py:268: UserWarning: target_host parameter is going to be deprecated. Please pass in tvm.target.Target(target, host=target_host) instead.\n",
            "  \"target_host parameter is going to be deprecated. \"\n",
            "/usr/local/lib/python3.7/dist-packages/tvm/driver/build_module.py:268: UserWarning: target_host parameter is going to be deprecated. Please pass in tvm.target.Target(target, host=target_host) instead.\n",
            "  \"target_host parameter is going to be deprecated. \"\n",
            "[Task  9/20]  Current/Best:    6.97/  13.89 GFLOPS | Progress: (4/5) | 3.44 s/usr/local/lib/python3.7/dist-packages/tvm/driver/build_module.py:268: UserWarning: target_host parameter is going to be deprecated. Please pass in tvm.target.Target(target, host=target_host) instead.\n",
            "  \"target_host parameter is going to be deprecated. \"\n",
            "[Task  9/20]  Current/Best:   11.09/  13.89 GFLOPS | Progress: (5/5) | 3.98 s Done.\n",
            "[Task 10/20]  Current/Best:    0.00/   0.00 GFLOPS | Progress: (0/5) | 0.00 s/usr/local/lib/python3.7/dist-packages/tvm/driver/build_module.py:268: UserWarning: target_host parameter is going to be deprecated. Please pass in tvm.target.Target(target, host=target_host) instead.\n",
            "  \"target_host parameter is going to be deprecated. \"\n",
            "/usr/local/lib/python3.7/dist-packages/tvm/driver/build_module.py:268: UserWarning: target_host parameter is going to be deprecated. Please pass in tvm.target.Target(target, host=target_host) instead.\n",
            "  \"target_host parameter is going to be deprecated. \"\n",
            "[Task 10/20]  Current/Best:    0.00/   0.00 GFLOPS | Progress: (2/5) | 11.17 s/usr/local/lib/python3.7/dist-packages/tvm/driver/build_module.py:268: UserWarning: target_host parameter is going to be deprecated. Please pass in tvm.target.Target(target, host=target_host) instead.\n",
            "  \"target_host parameter is going to be deprecated. \"\n",
            "/usr/local/lib/python3.7/dist-packages/tvm/driver/build_module.py:268: UserWarning: target_host parameter is going to be deprecated. Please pass in tvm.target.Target(target, host=target_host) instead.\n",
            "  \"target_host parameter is going to be deprecated. \"\n",
            "[Task 10/20]  Current/Best:    6.26/   6.26 GFLOPS | Progress: (4/5) | 13.89 s/usr/local/lib/python3.7/dist-packages/tvm/driver/build_module.py:268: UserWarning: target_host parameter is going to be deprecated. Please pass in tvm.target.Target(target, host=target_host) instead.\n",
            "  \"target_host parameter is going to be deprecated. \"\n",
            "[Task 11/20]  Current/Best:    0.00/   0.00 GFLOPS | Progress: (0/5) | 0.00 s/usr/local/lib/python3.7/dist-packages/tvm/driver/build_module.py:268: UserWarning: target_host parameter is going to be deprecated. Please pass in tvm.target.Target(target, host=target_host) instead.\n",
            "  \"target_host parameter is going to be deprecated. \"\n",
            "/usr/local/lib/python3.7/dist-packages/tvm/driver/build_module.py:268: UserWarning: target_host parameter is going to be deprecated. Please pass in tvm.target.Target(target, host=target_host) instead.\n",
            "  \"target_host parameter is going to be deprecated. \"\n",
            "[Task 11/20]  Current/Best:   16.71/  16.71 GFLOPS | Progress: (2/5) | 4.23 s/usr/local/lib/python3.7/dist-packages/tvm/driver/build_module.py:268: UserWarning: target_host parameter is going to be deprecated. Please pass in tvm.target.Target(target, host=target_host) instead.\n",
            "  \"target_host parameter is going to be deprecated. \"\n",
            "/usr/local/lib/python3.7/dist-packages/tvm/driver/build_module.py:268: UserWarning: target_host parameter is going to be deprecated. Please pass in tvm.target.Target(target, host=target_host) instead.\n",
            "  \"target_host parameter is going to be deprecated. \"\n",
            "[Task 11/20]  Current/Best:   19.59/  19.59 GFLOPS | Progress: (4/5) | 5.07 s/usr/local/lib/python3.7/dist-packages/tvm/driver/build_module.py:268: UserWarning: target_host parameter is going to be deprecated. Please pass in tvm.target.Target(target, host=target_host) instead.\n",
            "  \"target_host parameter is going to be deprecated. \"\n",
            "[Task 11/20]  Current/Best:   11.50/  19.59 GFLOPS | Progress: (5/5) | 9.70 s Done.\n",
            "[Task 12/20]  Current/Best:    0.00/   0.00 GFLOPS | Progress: (0/5) | 0.00 s Done.\n",
            " Done.\n",
            "/usr/local/lib/python3.7/dist-packages/tvm/driver/build_module.py:268: UserWarning: target_host parameter is going to be deprecated. Please pass in tvm.target.Target(target, host=target_host) instead.\n",
            "  \"target_host parameter is going to be deprecated. \"\n",
            "/usr/local/lib/python3.7/dist-packages/tvm/driver/build_module.py:268: UserWarning: target_host parameter is going to be deprecated. Please pass in tvm.target.Target(target, host=target_host) instead.\n",
            "  \"target_host parameter is going to be deprecated. \"\n",
            "[Task 12/20]  Current/Best:    6.53/   6.53 GFLOPS | Progress: (2/5) | 11.31 s/usr/local/lib/python3.7/dist-packages/tvm/driver/build_module.py:268: UserWarning: target_host parameter is going to be deprecated. Please pass in tvm.target.Target(target, host=target_host) instead.\n",
            "  \"target_host parameter is going to be deprecated. \"\n",
            "/usr/local/lib/python3.7/dist-packages/tvm/driver/build_module.py:268: UserWarning: target_host parameter is going to be deprecated. Please pass in tvm.target.Target(target, host=target_host) instead.\n",
            "  \"target_host parameter is going to be deprecated. \"\n",
            "[Task 12/20]  Current/Best:    6.52/  14.30 GFLOPS | Progress: (4/5) | 13.00 s/usr/local/lib/python3.7/dist-packages/tvm/driver/build_module.py:268: UserWarning: target_host parameter is going to be deprecated. Please pass in tvm.target.Target(target, host=target_host) instead.\n",
            "  \"target_host parameter is going to be deprecated. \"\n",
            "[Task 13/20]  Current/Best:    0.00/   0.00 GFLOPS | Progress: (0/5) | 0.00 s/usr/local/lib/python3.7/dist-packages/tvm/driver/build_module.py:268: UserWarning: target_host parameter is going to be deprecated. Please pass in tvm.target.Target(target, host=target_host) instead.\n",
            "  \"target_host parameter is going to be deprecated. \"\n",
            "/usr/local/lib/python3.7/dist-packages/tvm/driver/build_module.py:268: UserWarning: target_host parameter is going to be deprecated. Please pass in tvm.target.Target(target, host=target_host) instead.\n",
            "  \"target_host parameter is going to be deprecated. \"\n",
            "[Task 13/20]  Current/Best:   14.05/  14.13 GFLOPS | Progress: (2/5) | 2.29 s/usr/local/lib/python3.7/dist-packages/tvm/driver/build_module.py:268: UserWarning: target_host parameter is going to be deprecated. Please pass in tvm.target.Target(target, host=target_host) instead.\n",
            "  \"target_host parameter is going to be deprecated. \"\n",
            "/usr/local/lib/python3.7/dist-packages/tvm/driver/build_module.py:268: UserWarning: target_host parameter is going to be deprecated. Please pass in tvm.target.Target(target, host=target_host) instead.\n",
            "  \"target_host parameter is going to be deprecated. \"\n",
            "[Task 13/20]  Current/Best:   14.77/  16.14 GFLOPS | Progress: (4/5) | 3.22 s/usr/local/lib/python3.7/dist-packages/tvm/driver/build_module.py:268: UserWarning: target_host parameter is going to be deprecated. Please pass in tvm.target.Target(target, host=target_host) instead.\n",
            "  \"target_host parameter is going to be deprecated. \"\n",
            "[Task 13/20]  Current/Best:   12.92/  16.14 GFLOPS | Progress: (5/5) | 3.94 s Done.\n",
            "[Task 14/20]  Current/Best:    0.00/   0.00 GFLOPS | Progress: (0/5) | 0.00 s/usr/local/lib/python3.7/dist-packages/tvm/driver/build_module.py:268: UserWarning: target_host parameter is going to be deprecated. Please pass in tvm.target.Target(target, host=target_host) instead.\n",
            "  \"target_host parameter is going to be deprecated. \"\n",
            "/usr/local/lib/python3.7/dist-packages/tvm/driver/build_module.py:268: UserWarning: target_host parameter is going to be deprecated. Please pass in tvm.target.Target(target, host=target_host) instead.\n",
            "  \"target_host parameter is going to be deprecated. \"\n",
            "[Task 14/20]  Current/Best:    5.58/  12.89 GFLOPS | Progress: (2/5) | 1.97 s/usr/local/lib/python3.7/dist-packages/tvm/driver/build_module.py:268: UserWarning: target_host parameter is going to be deprecated. Please pass in tvm.target.Target(target, host=target_host) instead.\n",
            "  \"target_host parameter is going to be deprecated. \"\n",
            "/usr/local/lib/python3.7/dist-packages/tvm/driver/build_module.py:268: UserWarning: target_host parameter is going to be deprecated. Please pass in tvm.target.Target(target, host=target_host) instead.\n",
            "  \"target_host parameter is going to be deprecated. \"\n",
            "[Task 14/20]  Current/Best:    3.86/  12.89 GFLOPS | Progress: (4/5) | 4.22 s/usr/local/lib/python3.7/dist-packages/tvm/driver/build_module.py:268: UserWarning: target_host parameter is going to be deprecated. Please pass in tvm.target.Target(target, host=target_host) instead.\n",
            "  \"target_host parameter is going to be deprecated. \"\n",
            "[Task 15/20]  Current/Best:    0.00/   0.00 GFLOPS | Progress: (0/5) | 0.00 s/usr/local/lib/python3.7/dist-packages/tvm/driver/build_module.py:268: UserWarning: target_host parameter is going to be deprecated. Please pass in tvm.target.Target(target, host=target_host) instead.\n",
            "  \"target_host parameter is going to be deprecated. \"\n",
            "/usr/local/lib/python3.7/dist-packages/tvm/driver/build_module.py:268: UserWarning: target_host parameter is going to be deprecated. Please pass in tvm.target.Target(target, host=target_host) instead.\n",
            "  \"target_host parameter is going to be deprecated. \"\n",
            "[Task 15/20]  Current/Best:    8.20/   8.20 GFLOPS | Progress: (2/5) | 3.01 s/usr/local/lib/python3.7/dist-packages/tvm/driver/build_module.py:268: UserWarning: target_host parameter is going to be deprecated. Please pass in tvm.target.Target(target, host=target_host) instead.\n",
            "  \"target_host parameter is going to be deprecated. \"\n",
            "/usr/local/lib/python3.7/dist-packages/tvm/driver/build_module.py:268: UserWarning: target_host parameter is going to be deprecated. Please pass in tvm.target.Target(target, host=target_host) instead.\n",
            "  \"target_host parameter is going to be deprecated. \"\n",
            "[Task 15/20]  Current/Best:    8.92/  12.30 GFLOPS | Progress: (4/5) | 5.39 s/usr/local/lib/python3.7/dist-packages/tvm/driver/build_module.py:268: UserWarning: target_host parameter is going to be deprecated. Please pass in tvm.target.Target(target, host=target_host) instead.\n",
            "  \"target_host parameter is going to be deprecated. \"\n",
            "[Task 15/20]  Current/Best:   15.43/  15.43 GFLOPS | Progress: (5/5) | 5.87 s Done.\n",
            "[Task 16/20]  Current/Best:    0.00/   0.00 GFLOPS | Progress: (0/5) | 0.00 s/usr/local/lib/python3.7/dist-packages/tvm/driver/build_module.py:268: UserWarning: target_host parameter is going to be deprecated. Please pass in tvm.target.Target(target, host=target_host) instead.\n",
            "  \"target_host parameter is going to be deprecated. \"\n",
            "/usr/local/lib/python3.7/dist-packages/tvm/driver/build_module.py:268: UserWarning: target_host parameter is going to be deprecated. Please pass in tvm.target.Target(target, host=target_host) instead.\n",
            "  \"target_host parameter is going to be deprecated. \"\n",
            "[Task 16/20]  Current/Best:    7.96/   7.96 GFLOPS | Progress: (2/5) | 11.29 s/usr/local/lib/python3.7/dist-packages/tvm/driver/build_module.py:268: UserWarning: target_host parameter is going to be deprecated. Please pass in tvm.target.Target(target, host=target_host) instead.\n",
            "  \"target_host parameter is going to be deprecated. \"\n",
            "/usr/local/lib/python3.7/dist-packages/tvm/driver/build_module.py:268: UserWarning: target_host parameter is going to be deprecated. Please pass in tvm.target.Target(target, host=target_host) instead.\n",
            "  \"target_host parameter is going to be deprecated. \"\n",
            "[Task 16/20]  Current/Best:    6.67/   8.31 GFLOPS | Progress: (4/5) | 13.48 s/usr/local/lib/python3.7/dist-packages/tvm/driver/build_module.py:268: UserWarning: target_host parameter is going to be deprecated. Please pass in tvm.target.Target(target, host=target_host) instead.\n",
            "  \"target_host parameter is going to be deprecated. \"\n",
            "[Task 17/20]  Current/Best:    0.00/   0.00 GFLOPS | Progress: (0/5) | 0.00 s/usr/local/lib/python3.7/dist-packages/tvm/driver/build_module.py:268: UserWarning: target_host parameter is going to be deprecated. Please pass in tvm.target.Target(target, host=target_host) instead.\n",
            "  \"target_host parameter is going to be deprecated. \"\n",
            "/usr/local/lib/python3.7/dist-packages/tvm/driver/build_module.py:268: UserWarning: target_host parameter is going to be deprecated. Please pass in tvm.target.Target(target, host=target_host) instead.\n",
            "  \"target_host parameter is going to be deprecated. \"\n",
            "[Task 17/20]  Current/Best:    9.58/  13.53 GFLOPS | Progress: (2/5) | 3.00 s/usr/local/lib/python3.7/dist-packages/tvm/driver/build_module.py:268: UserWarning: target_host parameter is going to be deprecated. Please pass in tvm.target.Target(target, host=target_host) instead.\n",
            "  \"target_host parameter is going to be deprecated. \"\n",
            "/usr/local/lib/python3.7/dist-packages/tvm/driver/build_module.py:268: UserWarning: target_host parameter is going to be deprecated. Please pass in tvm.target.Target(target, host=target_host) instead.\n",
            "  \"target_host parameter is going to be deprecated. \"\n",
            "[Task 17/20]  Current/Best:    7.54/  13.53 GFLOPS | Progress: (4/5) | 5.36 s/usr/local/lib/python3.7/dist-packages/tvm/driver/build_module.py:268: UserWarning: target_host parameter is going to be deprecated. Please pass in tvm.target.Target(target, host=target_host) instead.\n",
            "  \"target_host parameter is going to be deprecated. \"\n",
            "[Task 17/20]  Current/Best:   12.48/  13.53 GFLOPS | Progress: (5/5) | 6.23 s Done.\n",
            "[Task 18/20]  Current/Best:    0.00/   0.00 GFLOPS | Progress: (0/5) | 0.00 s/usr/local/lib/python3.7/dist-packages/tvm/driver/build_module.py:268: UserWarning: target_host parameter is going to be deprecated. Please pass in tvm.target.Target(target, host=target_host) instead.\n",
            "  \"target_host parameter is going to be deprecated. \"\n",
            "/usr/local/lib/python3.7/dist-packages/tvm/driver/build_module.py:268: UserWarning: target_host parameter is going to be deprecated. Please pass in tvm.target.Target(target, host=target_host) instead.\n",
            "  \"target_host parameter is going to be deprecated. \"\n",
            "[Task 18/20]  Current/Best:   21.35/  21.35 GFLOPS | Progress: (2/5) | 11.29 s/usr/local/lib/python3.7/dist-packages/tvm/driver/build_module.py:268: UserWarning: target_host parameter is going to be deprecated. Please pass in tvm.target.Target(target, host=target_host) instead.\n",
            "  \"target_host parameter is going to be deprecated. \"\n",
            "/usr/local/lib/python3.7/dist-packages/tvm/driver/build_module.py:268: UserWarning: target_host parameter is going to be deprecated. Please pass in tvm.target.Target(target, host=target_host) instead.\n",
            "  \"target_host parameter is going to be deprecated. \"\n",
            "[Task 18/20]  Current/Best:    5.89/  21.35 GFLOPS | Progress: (4/5) | 12.35 s/usr/local/lib/python3.7/dist-packages/tvm/driver/build_module.py:268: UserWarning: target_host parameter is going to be deprecated. Please pass in tvm.target.Target(target, host=target_host) instead.\n",
            "  \"target_host parameter is going to be deprecated. \"\n",
            "[Task 19/20]  Current/Best:    0.00/   0.00 GFLOPS | Progress: (0/5) | 0.00 s/usr/local/lib/python3.7/dist-packages/tvm/driver/build_module.py:268: UserWarning: target_host parameter is going to be deprecated. Please pass in tvm.target.Target(target, host=target_host) instead.\n",
            "  \"target_host parameter is going to be deprecated. \"\n",
            "/usr/local/lib/python3.7/dist-packages/tvm/driver/build_module.py:268: UserWarning: target_host parameter is going to be deprecated. Please pass in tvm.target.Target(target, host=target_host) instead.\n",
            "  \"target_host parameter is going to be deprecated. \"\n",
            "[Task 19/20]  Current/Best:   18.37/  20.60 GFLOPS | Progress: (2/5) | 1.74 s/usr/local/lib/python3.7/dist-packages/tvm/driver/build_module.py:268: UserWarning: target_host parameter is going to be deprecated. Please pass in tvm.target.Target(target, host=target_host) instead.\n",
            "  \"target_host parameter is going to be deprecated. \"\n",
            "/usr/local/lib/python3.7/dist-packages/tvm/driver/build_module.py:268: UserWarning: target_host parameter is going to be deprecated. Please pass in tvm.target.Target(target, host=target_host) instead.\n",
            "  \"target_host parameter is going to be deprecated. \"\n",
            "[Task 19/20]  Current/Best:   10.32/  20.60 GFLOPS | Progress: (4/5) | 9.04 s/usr/local/lib/python3.7/dist-packages/tvm/driver/build_module.py:268: UserWarning: target_host parameter is going to be deprecated. Please pass in tvm.target.Target(target, host=target_host) instead.\n",
            "  \"target_host parameter is going to be deprecated. \"\n",
            "[Task 19/20]  Current/Best:   10.22/  20.60 GFLOPS | Progress: (5/5) | 9.45 s Done.\n",
            "[Task 20/20]  Current/Best:    0.00/   0.00 GFLOPS | Progress: (0/5) | 0.00 s/usr/local/lib/python3.7/dist-packages/tvm/driver/build_module.py:268: UserWarning: target_host parameter is going to be deprecated. Please pass in tvm.target.Target(target, host=target_host) instead.\n",
            "  \"target_host parameter is going to be deprecated. \"\n",
            "/usr/local/lib/python3.7/dist-packages/tvm/driver/build_module.py:268: UserWarning: target_host parameter is going to be deprecated. Please pass in tvm.target.Target(target, host=target_host) instead.\n",
            "  \"target_host parameter is going to be deprecated. \"\n",
            "[Task 20/20]  Current/Best:    3.38/   8.20 GFLOPS | Progress: (2/5) | 2.10 s/usr/local/lib/python3.7/dist-packages/tvm/driver/build_module.py:268: UserWarning: target_host parameter is going to be deprecated. Please pass in tvm.target.Target(target, host=target_host) instead.\n",
            "  \"target_host parameter is going to be deprecated. \"\n",
            "/usr/local/lib/python3.7/dist-packages/tvm/driver/build_module.py:268: UserWarning: target_host parameter is going to be deprecated. Please pass in tvm.target.Target(target, host=target_host) instead.\n",
            "  \"target_host parameter is going to be deprecated. \"\n",
            "[Task 20/20]  Current/Best:    7.65/   8.20 GFLOPS | Progress: (4/5) | 2.83 s/usr/local/lib/python3.7/dist-packages/tvm/driver/build_module.py:268: UserWarning: target_host parameter is going to be deprecated. Please pass in tvm.target.Target(target, host=target_host) instead.\n",
            "  \"target_host parameter is going to be deprecated. \"\n",
            "[Task 20/20]  Current/Best:    3.40/   8.20 GFLOPS | Progress: (5/5) | 3.09 s Done.\n",
            " Done.\n",
            " Done.\n",
            " Done.\n",
            " Done.\n"
          ]
        }
      ]
    },
    {
      "cell_type": "markdown",
      "source": [
        "#### 2.8.2 Tuning for host using AutoScheduler"
      ],
      "metadata": {
        "id": "gS_upWtuWn-Z"
      }
    },
    {
      "cell_type": "markdown",
      "source": [
        "The AutoScheduler is more powerful (as it can derive suitable schedules for a given operator automatically), however this often introduces an overhead in total tuning time due to the more complex tuning infrastructure. The generated results are again written into a JSON file. "
      ],
      "metadata": {
        "id": "csh6QhwZWrug"
      }
    },
    {
      "cell_type": "code",
      "source": [
        "!tvmc tune $tflite_model_file --target llvm --output autoscheduler_records.json --desired-layout NCHW --trials 100 --enable-autoscheduler"
      ],
      "metadata": {
        "colab": {
          "base_uri": "https://localhost:8080/"
        },
        "id": "mDdFLo6XWr9H",
        "outputId": "c3b82c76-b72a-42a3-ca69-b9e78d1ecc00"
      },
      "execution_count": 27,
      "outputs": [
        {
          "output_type": "stream",
          "name": "stdout",
          "text": [
            "/usr/local/lib/python3.7/dist-packages/tvm/target/target.py:261: UserWarning: target_host parameter is going to be deprecated. Please pass in tvm.target.Target(target, host=target_host) instead.\n",
            "  \"target_host parameter is going to be deprecated. \"\n",
            "Get devices for measurement successfully!\n",
            "[16:01:27] /workspace/tvm/src/relay/transforms/convert_layout.cc:99: Warning: Desired layout(s) not specified for op: nn.avg_pool2d\n",
            "/usr/local/lib/python3.7/dist-packages/tvm/driver/build_module.py:268: UserWarning: target_host parameter is going to be deprecated. Please pass in tvm.target.Target(target, host=target_host) instead.\n",
            "  \"target_host parameter is going to be deprecated. \"\n",
            "----------------------------------------------------------------------\n",
            "------------------------------  [ Task Scheduler ]\n",
            "----------------------------------------------------------------------\n",
            "|  ID  |                       Task Description                        | Latency (ms) | Speed (GFLOPS) | Trials |\n",
            "-----------------------------------------------------------------------------------------------------------------\n",
            "|    0 |     vm_mod_fused_nn_contrib_depthwise_conv2d_NCHWc_add_clip_6 |            - |              - |      0 |\n",
            "|    1 |               vm_mod_fused_nn_contrib_conv2d_NCHWc_add_clip_9 |            - |              - |      0 |\n",
            "|    2 |     vm_mod_fused_nn_contrib_depthwise_conv2d_NCHWc_add_clip_5 |            - |              - |      0 |\n",
            "|    3 |     vm_mod_fused_nn_contrib_depthwise_conv2d_NCHWc_add_clip_3 |            - |              - |      0 |\n",
            "|    4 |                 vm_mod_fused_nn_contrib_conv2d_NCHWc_add_clip |            - |              - |      0 |\n",
            "|    5 |     vm_mod_fused_nn_contrib_depthwise_conv2d_NCHWc_add_clip_1 |            - |              - |      0 |\n",
            "|    6 |     vm_mod_fused_nn_contrib_depthwise_conv2d_NCHWc_add_clip_2 |            - |              - |      0 |\n",
            "|    7 |               vm_mod_fused_nn_contrib_conv2d_NCHWc_add_clip_8 |            - |              - |      0 |\n",
            "|    8 |               vm_mod_fused_nn_contrib_conv2d_NCHWc_add_clip_6 |            - |              - |      0 |\n",
            "|    9 |     vm_mod_fused_nn_contrib_depthwise_conv2d_NCHWc_add_clip_8 |            - |              - |      0 |\n",
            "|   10 |                                       vm_mod_fused_nn_softmax |            - |              - |      0 |\n",
            "|   11 |               vm_mod_fused_nn_contrib_conv2d_NCHWc_add_clip_3 |            - |              - |      0 |\n",
            "|   12 |               vm_mod_fused_nn_contrib_conv2d_NCHWc_add_clip_5 |            - |              - |      0 |\n",
            "|   13 |               vm_mod_fused_nn_contrib_conv2d_NCHWc_add_clip_2 |            - |              - |      0 |\n",
            "|   14 |                      vm_mod_fused_nn_contrib_conv2d_NCHWc_add |            - |              - |      0 |\n",
            "|   15 |               vm_mod_fused_nn_contrib_conv2d_NCHWc_add_clip_1 |            - |              - |      0 |\n",
            "|   16 |     vm_mod_fused_nn_contrib_depthwise_conv2d_NCHWc_add_clip_4 |            - |              - |      0 |\n",
            "|   17 |     vm_mod_fused_nn_contrib_depthwise_conv2d_NCHWc_add_clip_7 |            - |              - |      0 |\n",
            "|   18 |               vm_mod_fused_nn_contrib_conv2d_NCHWc_add_clip_4 |            - |              - |      0 |\n",
            "|   19 |       vm_mod_fused_nn_contrib_depthwise_conv2d_NCHWc_add_clip |            - |              - |      0 |\n",
            "|   20 |               vm_mod_fused_nn_contrib_conv2d_NCHWc_add_clip_7 |            - |              - |      0 |\n",
            "|   21 |                                    vm_mod_fused_nn_avg_pool2d |            - |              - |      0 |\n",
            "-----------------------------------------------------------------------------------------------------------------\n",
            "Estimated total latency: - ms\tTrials: 0\tUsed time : 1 s\tNext ID: 0\t\n",
            "----------------------------------------------------------------------\n",
            "------------------------------  [ Search ]\n",
            "----------------------------------------------------------------------\n",
            "Generate Sketches\t\t#s: 3\n",
            "Sample Initial Population\t#s: 1782\tfail_ct: 0\tTime elapsed: 11.79\n",
            "GA Iter: 0\tMax score: 0.9998\tMin score: 0.9969\t#Pop: 8\t#M+: 0\t#M-: 0\n",
            "GA Iter: 4\tMax score: 0.9998\tMin score: 0.9995\t#Pop: 8\t#M+: 1394\t#M-: 41\n",
            "EvolutionarySearch\t\t#s: 8\tTime elapsed: 53.21\n",
            "----------------------------------------------------------------------\n",
            "------------------------------  [ Measure ]\n",
            "----------------------------------------------------------------------\n",
            "Get 4 programs to measure:\n",
            "/usr/local/lib/python3.7/dist-packages/tvm/driver/build_module.py:268: UserWarning: target_host parameter is going to be deprecated. Please pass in tvm.target.Target(target, host=target_host) instead.\n",
            "  \"target_host parameter is going to be deprecated. \"\n",
            "/usr/local/lib/python3.7/dist-packages/tvm/driver/build_module.py:268: UserWarning: target_host parameter is going to be deprecated. Please pass in tvm.target.Target(target, host=target_host) instead.\n",
            "  \"target_host parameter is going to be deprecated. \"\n",
            "./usr/local/lib/python3.7/dist-packages/tvm/driver/build_module.py:268: UserWarning: target_host parameter is going to be deprecated. Please pass in tvm.target.Target(target, host=target_host) instead.\n",
            "  \"target_host parameter is going to be deprecated. \"\n",
            "./usr/local/lib/python3.7/dist-packages/tvm/driver/build_module.py:268: UserWarning: target_host parameter is going to be deprecated. Please pass in tvm.target.Target(target, host=target_host) instead.\n",
            "  \"target_host parameter is going to be deprecated. \"\n",
            "..\n",
            "Time elapsed for measurement: 7.57 s\n",
            "----------------------------------------------------------------------\n",
            "------------------------------  [ Train cost model ]\n",
            "----------------------------------------------------------------------\n",
            "Time elapsed for training: 0.12 s\n",
            "----------------------------------------------------------------------\n",
            "------------------------------  [ Task Scheduler ]\n",
            "----------------------------------------------------------------------\n",
            "|  ID  |                       Task Description                        | Latency (ms) | Speed (GFLOPS) | Trials |\n",
            "-----------------------------------------------------------------------------------------------------------------\n",
            "|    0 |     vm_mod_fused_nn_contrib_depthwise_conv2d_NCHWc_add_clip_6 |        0.235 |           8.98 |      4 |\n",
            "|    1 |               vm_mod_fused_nn_contrib_conv2d_NCHWc_add_clip_9 |            - |              - |      0 |\n",
            "|    2 |     vm_mod_fused_nn_contrib_depthwise_conv2d_NCHWc_add_clip_5 |            - |              - |      0 |\n",
            "|    3 |     vm_mod_fused_nn_contrib_depthwise_conv2d_NCHWc_add_clip_3 |            - |              - |      0 |\n",
            "|    4 |                 vm_mod_fused_nn_contrib_conv2d_NCHWc_add_clip |            - |              - |      0 |\n",
            "|    5 |     vm_mod_fused_nn_contrib_depthwise_conv2d_NCHWc_add_clip_1 |            - |              - |      0 |\n",
            "|    6 |     vm_mod_fused_nn_contrib_depthwise_conv2d_NCHWc_add_clip_2 |            - |              - |      0 |\n",
            "|    7 |               vm_mod_fused_nn_contrib_conv2d_NCHWc_add_clip_8 |            - |              - |      0 |\n",
            "|    8 |               vm_mod_fused_nn_contrib_conv2d_NCHWc_add_clip_6 |            - |              - |      0 |\n",
            "|    9 |     vm_mod_fused_nn_contrib_depthwise_conv2d_NCHWc_add_clip_8 |            - |              - |      0 |\n",
            "|   10 |                                       vm_mod_fused_nn_softmax |            - |              - |      0 |\n",
            "|   11 |               vm_mod_fused_nn_contrib_conv2d_NCHWc_add_clip_3 |            - |              - |      0 |\n",
            "|   12 |               vm_mod_fused_nn_contrib_conv2d_NCHWc_add_clip_5 |            - |              - |      0 |\n",
            "|   13 |               vm_mod_fused_nn_contrib_conv2d_NCHWc_add_clip_2 |            - |              - |      0 |\n",
            "|   14 |                      vm_mod_fused_nn_contrib_conv2d_NCHWc_add |            - |              - |      0 |\n",
            "|   15 |               vm_mod_fused_nn_contrib_conv2d_NCHWc_add_clip_1 |            - |              - |      0 |\n",
            "|   16 |     vm_mod_fused_nn_contrib_depthwise_conv2d_NCHWc_add_clip_4 |            - |              - |      0 |\n",
            "|   17 |     vm_mod_fused_nn_contrib_depthwise_conv2d_NCHWc_add_clip_7 |            - |              - |      0 |\n",
            "|   18 |               vm_mod_fused_nn_contrib_conv2d_NCHWc_add_clip_4 |            - |              - |      0 |\n",
            "|   19 |       vm_mod_fused_nn_contrib_depthwise_conv2d_NCHWc_add_clip |            - |              - |      0 |\n",
            "|   20 |               vm_mod_fused_nn_contrib_conv2d_NCHWc_add_clip_7 |            - |              - |      0 |\n",
            "|   21 |                                    vm_mod_fused_nn_avg_pool2d |            - |              - |      0 |\n",
            "-----------------------------------------------------------------------------------------------------------------\n",
            "Estimated total latency: - ms\tTrials: 4\tUsed time : 73 s\tNext ID: 1\t\n",
            "----------------------------------------------------------------------\n",
            "------------------------------  [ Search ]\n",
            "----------------------------------------------------------------------\n",
            "Generate Sketches\t\t#s: 3\n",
            "Sample Initial Population\t#s: 1984\tfail_ct: 2\tTime elapsed: 5.42\n",
            "GA Iter: 0\tMax score: 0.9990\tMin score: 0.9953\t#Pop: 8\t#M+: 0\t#M-: 0\n",
            "GA Iter: 4\tMax score: 0.9999\tMin score: 0.9992\t#Pop: 8\t#M+: 1379\t#M-: 74\n",
            "EvolutionarySearch\t\t#s: 8\tTime elapsed: 21.82\n",
            "----------------------------------------------------------------------\n",
            "------------------------------  [ Measure ]\n",
            "----------------------------------------------------------------------\n",
            "Get 4 programs to measure:\n",
            "/usr/local/lib/python3.7/dist-packages/tvm/driver/build_module.py:268: UserWarning: target_host parameter is going to be deprecated. Please pass in tvm.target.Target(target, host=target_host) instead.\n",
            "  \"target_host parameter is going to be deprecated. \"\n",
            "/usr/local/lib/python3.7/dist-packages/tvm/driver/build_module.py:268: UserWarning: target_host parameter is going to be deprecated. Please pass in tvm.target.Target(target, host=target_host) instead.\n",
            "  \"target_host parameter is going to be deprecated. \"\n",
            "./usr/local/lib/python3.7/dist-packages/tvm/driver/build_module.py:268: UserWarning: target_host parameter is going to be deprecated. Please pass in tvm.target.Target(target, host=target_host) instead.\n",
            "  \"target_host parameter is going to be deprecated. \"\n",
            "./usr/local/lib/python3.7/dist-packages/tvm/driver/build_module.py:268: UserWarning: target_host parameter is going to be deprecated. Please pass in tvm.target.Target(target, host=target_host) instead.\n",
            "  \"target_host parameter is going to be deprecated. \"\n",
            "..\n",
            "Time elapsed for measurement: 3.55 s\n",
            "----------------------------------------------------------------------\n",
            "------------------------------  [ Train cost model ]\n",
            "----------------------------------------------------------------------\n",
            "Time elapsed for training: 0.07 s\n",
            "----------------------------------------------------------------------\n",
            "------------------------------  [ Task Scheduler ]\n",
            "----------------------------------------------------------------------\n",
            "|  ID  |                       Task Description                        | Latency (ms) | Speed (GFLOPS) | Trials |\n",
            "-----------------------------------------------------------------------------------------------------------------\n",
            "|    0 |     vm_mod_fused_nn_contrib_depthwise_conv2d_NCHWc_add_clip_6 |        0.235 |           8.98 |      4 |\n",
            "|    1 |               vm_mod_fused_nn_contrib_conv2d_NCHWc_add_clip_9 |       11.393 |           9.03 |      4 |\n",
            "|    2 |     vm_mod_fused_nn_contrib_depthwise_conv2d_NCHWc_add_clip_5 |            - |              - |      0 |\n",
            "|    3 |     vm_mod_fused_nn_contrib_depthwise_conv2d_NCHWc_add_clip_3 |            - |              - |      0 |\n",
            "|    4 |                 vm_mod_fused_nn_contrib_conv2d_NCHWc_add_clip |            - |              - |      0 |\n",
            "|    5 |     vm_mod_fused_nn_contrib_depthwise_conv2d_NCHWc_add_clip_1 |            - |              - |      0 |\n",
            "|    6 |     vm_mod_fused_nn_contrib_depthwise_conv2d_NCHWc_add_clip_2 |            - |              - |      0 |\n",
            "|    7 |               vm_mod_fused_nn_contrib_conv2d_NCHWc_add_clip_8 |            - |              - |      0 |\n",
            "|    8 |               vm_mod_fused_nn_contrib_conv2d_NCHWc_add_clip_6 |            - |              - |      0 |\n",
            "|    9 |     vm_mod_fused_nn_contrib_depthwise_conv2d_NCHWc_add_clip_8 |            - |              - |      0 |\n",
            "|   10 |                                       vm_mod_fused_nn_softmax |            - |              - |      0 |\n",
            "|   11 |               vm_mod_fused_nn_contrib_conv2d_NCHWc_add_clip_3 |            - |              - |      0 |\n",
            "|   12 |               vm_mod_fused_nn_contrib_conv2d_NCHWc_add_clip_5 |            - |              - |      0 |\n",
            "|   13 |               vm_mod_fused_nn_contrib_conv2d_NCHWc_add_clip_2 |            - |              - |      0 |\n",
            "|   14 |                      vm_mod_fused_nn_contrib_conv2d_NCHWc_add |            - |              - |      0 |\n",
            "|   15 |               vm_mod_fused_nn_contrib_conv2d_NCHWc_add_clip_1 |            - |              - |      0 |\n",
            "|   16 |     vm_mod_fused_nn_contrib_depthwise_conv2d_NCHWc_add_clip_4 |            - |              - |      0 |\n",
            "|   17 |     vm_mod_fused_nn_contrib_depthwise_conv2d_NCHWc_add_clip_7 |            - |              - |      0 |\n",
            "|   18 |               vm_mod_fused_nn_contrib_conv2d_NCHWc_add_clip_4 |            - |              - |      0 |\n",
            "|   19 |       vm_mod_fused_nn_contrib_depthwise_conv2d_NCHWc_add_clip |            - |              - |      0 |\n",
            "|   20 |               vm_mod_fused_nn_contrib_conv2d_NCHWc_add_clip_7 |            - |              - |      0 |\n",
            "|   21 |                                    vm_mod_fused_nn_avg_pool2d |            - |              - |      0 |\n",
            "-----------------------------------------------------------------------------------------------------------------\n",
            "Estimated total latency: - ms\tTrials: 8\tUsed time : 104 s\tNext ID: 2\t\n",
            "----------------------------------------------------------------------\n",
            "------------------------------  [ Search ]\n",
            "----------------------------------------------------------------------\n",
            "Generate Sketches\t\t#s: 3\n",
            "Sample Initial Population\t#s: 1750\tfail_ct: 0\tTime elapsed: 9.02\n",
            "GA Iter: 0\tMax score: 0.9998\tMin score: 0.9974\t#Pop: 8\t#M+: 0\t#M-: 0\n",
            "GA Iter: 4\tMax score: 0.9998\tMin score: 0.9990\t#Pop: 8\t#M+: 1386\t#M-: 39\n",
            "EvolutionarySearch\t\t#s: 8\tTime elapsed: 41.61\n",
            "----------------------------------------------------------------------\n",
            "------------------------------  [ Measure ]\n",
            "----------------------------------------------------------------------\n",
            "Get 4 programs to measure:\n",
            "/usr/local/lib/python3.7/dist-packages/tvm/driver/build_module.py:268: UserWarning: target_host parameter is going to be deprecated. Please pass in tvm.target.Target(target, host=target_host) instead.\n",
            "  \"target_host parameter is going to be deprecated. \"\n",
            "/usr/local/lib/python3.7/dist-packages/tvm/driver/build_module.py:268: UserWarning: target_host parameter is going to be deprecated. Please pass in tvm.target.Target(target, host=target_host) instead.\n",
            "  \"target_host parameter is going to be deprecated. \"\n",
            "./usr/local/lib/python3.7/dist-packages/tvm/driver/build_module.py:268: UserWarning: target_host parameter is going to be deprecated. Please pass in tvm.target.Target(target, host=target_host) instead.\n",
            "  \"target_host parameter is going to be deprecated. \"\n",
            "./usr/local/lib/python3.7/dist-packages/tvm/driver/build_module.py:268: UserWarning: target_host parameter is going to be deprecated. Please pass in tvm.target.Target(target, host=target_host) instead.\n",
            "  \"target_host parameter is going to be deprecated. \"\n",
            "..\n",
            "Time elapsed for measurement: 4.54 s\n",
            "----------------------------------------------------------------------\n",
            "------------------------------  [ Train cost model ]\n",
            "----------------------------------------------------------------------\n",
            "Time elapsed for training: 0.08 s\n",
            "----------------------------------------------------------------------\n",
            "------------------------------  [ Task Scheduler ]\n",
            "----------------------------------------------------------------------\n",
            "|  ID  |                       Task Description                        | Latency (ms) | Speed (GFLOPS) | Trials |\n",
            "-----------------------------------------------------------------------------------------------------------------\n",
            "|    0 |     vm_mod_fused_nn_contrib_depthwise_conv2d_NCHWc_add_clip_6 |        0.235 |           8.98 |      4 |\n",
            "|    1 |               vm_mod_fused_nn_contrib_conv2d_NCHWc_add_clip_9 |       11.393 |           9.03 |      4 |\n",
            "|    2 |     vm_mod_fused_nn_contrib_depthwise_conv2d_NCHWc_add_clip_5 |        0.230 |           4.58 |      4 |\n",
            "|    3 |     vm_mod_fused_nn_contrib_depthwise_conv2d_NCHWc_add_clip_3 |            - |              - |      0 |\n",
            "|    4 |                 vm_mod_fused_nn_contrib_conv2d_NCHWc_add_clip |            - |              - |      0 |\n",
            "|    5 |     vm_mod_fused_nn_contrib_depthwise_conv2d_NCHWc_add_clip_1 |            - |              - |      0 |\n",
            "|    6 |     vm_mod_fused_nn_contrib_depthwise_conv2d_NCHWc_add_clip_2 |            - |              - |      0 |\n",
            "|    7 |               vm_mod_fused_nn_contrib_conv2d_NCHWc_add_clip_8 |            - |              - |      0 |\n",
            "|    8 |               vm_mod_fused_nn_contrib_conv2d_NCHWc_add_clip_6 |            - |              - |      0 |\n",
            "|    9 |     vm_mod_fused_nn_contrib_depthwise_conv2d_NCHWc_add_clip_8 |            - |              - |      0 |\n",
            "|   10 |                                       vm_mod_fused_nn_softmax |            - |              - |      0 |\n",
            "|   11 |               vm_mod_fused_nn_contrib_conv2d_NCHWc_add_clip_3 |            - |              - |      0 |\n",
            "|   12 |               vm_mod_fused_nn_contrib_conv2d_NCHWc_add_clip_5 |            - |              - |      0 |\n",
            "|   13 |               vm_mod_fused_nn_contrib_conv2d_NCHWc_add_clip_2 |            - |              - |      0 |\n",
            "|   14 |                      vm_mod_fused_nn_contrib_conv2d_NCHWc_add |            - |              - |      0 |\n",
            "|   15 |               vm_mod_fused_nn_contrib_conv2d_NCHWc_add_clip_1 |            - |              - |      0 |\n",
            "|   16 |     vm_mod_fused_nn_contrib_depthwise_conv2d_NCHWc_add_clip_4 |            - |              - |      0 |\n",
            "|   17 |     vm_mod_fused_nn_contrib_depthwise_conv2d_NCHWc_add_clip_7 |            - |              - |      0 |\n",
            "|   18 |               vm_mod_fused_nn_contrib_conv2d_NCHWc_add_clip_4 |            - |              - |      0 |\n",
            "|   19 |       vm_mod_fused_nn_contrib_depthwise_conv2d_NCHWc_add_clip |            - |              - |      0 |\n",
            "|   20 |               vm_mod_fused_nn_contrib_conv2d_NCHWc_add_clip_7 |            - |              - |      0 |\n",
            "|   21 |                                    vm_mod_fused_nn_avg_pool2d |            - |              - |      0 |\n",
            "-----------------------------------------------------------------------------------------------------------------\n",
            "Estimated total latency: - ms\tTrials: 12\tUsed time : 160 s\tNext ID: 3\t\n",
            "----------------------------------------------------------------------\n",
            "------------------------------  [ Search ]\n",
            "----------------------------------------------------------------------\n",
            "Generate Sketches\t\t#s: 3\n",
            "Sample Initial Population\t#s: 1797\tfail_ct: 0\tTime elapsed: 9.44\n",
            "GA Iter: 0\tMax score: 0.9984\tMin score: 0.9913\t#Pop: 8\t#M+: 0\t#M-: 0\n",
            "GA Iter: 4\tMax score: 0.9999\tMin score: 0.9994\t#Pop: 8\t#M+: 1387\t#M-: 43\n",
            "EvolutionarySearch\t\t#s: 8\tTime elapsed: 42.22\n",
            "----------------------------------------------------------------------\n",
            "------------------------------  [ Measure ]\n",
            "----------------------------------------------------------------------\n",
            "Get 4 programs to measure:\n",
            "/usr/local/lib/python3.7/dist-packages/tvm/driver/build_module.py:268: UserWarning: target_host parameter is going to be deprecated. Please pass in tvm.target.Target(target, host=target_host) instead.\n",
            "  \"target_host parameter is going to be deprecated. \"\n",
            "./usr/local/lib/python3.7/dist-packages/tvm/driver/build_module.py:268: UserWarning: target_host parameter is going to be deprecated. Please pass in tvm.target.Target(target, host=target_host) instead.\n",
            "  \"target_host parameter is going to be deprecated. \"\n",
            "/usr/local/lib/python3.7/dist-packages/tvm/driver/build_module.py:268: UserWarning: target_host parameter is going to be deprecated. Please pass in tvm.target.Target(target, host=target_host) instead.\n",
            "  \"target_host parameter is going to be deprecated. \"\n",
            "./usr/local/lib/python3.7/dist-packages/tvm/driver/build_module.py:268: UserWarning: target_host parameter is going to be deprecated. Please pass in tvm.target.Target(target, host=target_host) instead.\n",
            "  \"target_host parameter is going to be deprecated. \"\n",
            "..\n",
            "Time elapsed for measurement: 9.41 s\n",
            "----------------------------------------------------------------------\n",
            "------------------------------  [ Train cost model ]\n",
            "----------------------------------------------------------------------\n",
            "Time elapsed for training: 0.11 s\n",
            "----------------------------------------------------------------------\n",
            "------------------------------  [ Task Scheduler ]\n",
            "----------------------------------------------------------------------\n",
            "|  ID  |                       Task Description                        | Latency (ms) | Speed (GFLOPS) | Trials |\n",
            "-----------------------------------------------------------------------------------------------------------------\n",
            "|    0 |     vm_mod_fused_nn_contrib_depthwise_conv2d_NCHWc_add_clip_6 |        0.235 |           8.98 |      4 |\n",
            "|    1 |               vm_mod_fused_nn_contrib_conv2d_NCHWc_add_clip_9 |       11.393 |           9.03 |      4 |\n",
            "|    2 |     vm_mod_fused_nn_contrib_depthwise_conv2d_NCHWc_add_clip_5 |        0.230 |           4.58 |      4 |\n",
            "|    3 |     vm_mod_fused_nn_contrib_depthwise_conv2d_NCHWc_add_clip_3 |        0.439 |           4.80 |      4 |\n",
            "|    4 |                 vm_mod_fused_nn_contrib_conv2d_NCHWc_add_clip |            - |              - |      0 |\n",
            "|    5 |     vm_mod_fused_nn_contrib_depthwise_conv2d_NCHWc_add_clip_1 |            - |              - |      0 |\n",
            "|    6 |     vm_mod_fused_nn_contrib_depthwise_conv2d_NCHWc_add_clip_2 |            - |              - |      0 |\n",
            "|    7 |               vm_mod_fused_nn_contrib_conv2d_NCHWc_add_clip_8 |            - |              - |      0 |\n",
            "|    8 |               vm_mod_fused_nn_contrib_conv2d_NCHWc_add_clip_6 |            - |              - |      0 |\n",
            "|    9 |     vm_mod_fused_nn_contrib_depthwise_conv2d_NCHWc_add_clip_8 |            - |              - |      0 |\n",
            "|   10 |                                       vm_mod_fused_nn_softmax |            - |              - |      0 |\n",
            "|   11 |               vm_mod_fused_nn_contrib_conv2d_NCHWc_add_clip_3 |            - |              - |      0 |\n",
            "|   12 |               vm_mod_fused_nn_contrib_conv2d_NCHWc_add_clip_5 |            - |              - |      0 |\n",
            "|   13 |               vm_mod_fused_nn_contrib_conv2d_NCHWc_add_clip_2 |            - |              - |      0 |\n",
            "|   14 |                      vm_mod_fused_nn_contrib_conv2d_NCHWc_add |            - |              - |      0 |\n",
            "|   15 |               vm_mod_fused_nn_contrib_conv2d_NCHWc_add_clip_1 |            - |              - |      0 |\n",
            "|   16 |     vm_mod_fused_nn_contrib_depthwise_conv2d_NCHWc_add_clip_4 |            - |              - |      0 |\n",
            "|   17 |     vm_mod_fused_nn_contrib_depthwise_conv2d_NCHWc_add_clip_7 |            - |              - |      0 |\n",
            "|   18 |               vm_mod_fused_nn_contrib_conv2d_NCHWc_add_clip_4 |            - |              - |      0 |\n",
            "|   19 |       vm_mod_fused_nn_contrib_depthwise_conv2d_NCHWc_add_clip |            - |              - |      0 |\n",
            "|   20 |               vm_mod_fused_nn_contrib_conv2d_NCHWc_add_clip_7 |            - |              - |      0 |\n",
            "|   21 |                                    vm_mod_fused_nn_avg_pool2d |            - |              - |      0 |\n",
            "-----------------------------------------------------------------------------------------------------------------\n",
            "Estimated total latency: - ms\tTrials: 16\tUsed time : 221 s\tNext ID: 4\t\n",
            "----------------------------------------------------------------------\n",
            "------------------------------  [ Search ]\n",
            "----------------------------------------------------------------------\n",
            "Generate Sketches\t\t#s: 3\n",
            "Sample Initial Population\t#s: 1812\tfail_ct: 0\tTime elapsed: 8.91\n",
            "GA Iter: 0\tMax score: 0.9989\tMin score: 0.9930\t#Pop: 8\t#M+: 0\t#M-: 0\n",
            "GA Iter: 4\tMax score: 0.9998\tMin score: 0.9990\t#Pop: 8\t#M+: 1389\t#M-: 35\n",
            "EvolutionarySearch\t\t#s: 8\tTime elapsed: 40.01\n",
            "----------------------------------------------------------------------\n",
            "------------------------------  [ Measure ]\n",
            "----------------------------------------------------------------------\n",
            "Get 4 programs to measure:\n",
            "/usr/local/lib/python3.7/dist-packages/tvm/driver/build_module.py:268: UserWarning: target_host parameter is going to be deprecated. Please pass in tvm.target.Target(target, host=target_host) instead.\n",
            "  \"target_host parameter is going to be deprecated. \"\n",
            "./usr/local/lib/python3.7/dist-packages/tvm/driver/build_module.py:268: UserWarning: target_host parameter is going to be deprecated. Please pass in tvm.target.Target(target, host=target_host) instead.\n",
            "  \"target_host parameter is going to be deprecated. \"\n",
            "/usr/local/lib/python3.7/dist-packages/tvm/driver/build_module.py:268: UserWarning: target_host parameter is going to be deprecated. Please pass in tvm.target.Target(target, host=target_host) instead.\n",
            "  \"target_host parameter is going to be deprecated. \"\n",
            "./usr/local/lib/python3.7/dist-packages/tvm/driver/build_module.py:268: UserWarning: target_host parameter is going to be deprecated. Please pass in tvm.target.Target(target, host=target_host) instead.\n",
            "  \"target_host parameter is going to be deprecated. \"\n",
            "..\n",
            "Time elapsed for measurement: 6.57 s\n",
            "----------------------------------------------------------------------\n",
            "------------------------------  [ Train cost model ]\n",
            "----------------------------------------------------------------------\n",
            "Time elapsed for training: 0.13 s\n",
            "----------------------------------------------------------------------\n",
            "------------------------------  [ Task Scheduler ]\n",
            "----------------------------------------------------------------------\n",
            "|  ID  |                       Task Description                        | Latency (ms) | Speed (GFLOPS) | Trials |\n",
            "-----------------------------------------------------------------------------------------------------------------\n",
            "|    0 |     vm_mod_fused_nn_contrib_depthwise_conv2d_NCHWc_add_clip_6 |        0.235 |           8.98 |      4 |\n",
            "|    1 |               vm_mod_fused_nn_contrib_conv2d_NCHWc_add_clip_9 |       11.393 |           9.03 |      4 |\n",
            "|    2 |     vm_mod_fused_nn_contrib_depthwise_conv2d_NCHWc_add_clip_5 |        0.230 |           4.58 |      4 |\n",
            "|    3 |     vm_mod_fused_nn_contrib_depthwise_conv2d_NCHWc_add_clip_3 |        0.439 |           4.80 |      4 |\n",
            "|    4 |                 vm_mod_fused_nn_contrib_conv2d_NCHWc_add_clip |        2.162 |          10.58 |      4 |\n",
            "|    5 |     vm_mod_fused_nn_contrib_depthwise_conv2d_NCHWc_add_clip_1 |            - |              - |      0 |\n",
            "|    6 |     vm_mod_fused_nn_contrib_depthwise_conv2d_NCHWc_add_clip_2 |            - |              - |      0 |\n",
            "|    7 |               vm_mod_fused_nn_contrib_conv2d_NCHWc_add_clip_8 |            - |              - |      0 |\n",
            "|    8 |               vm_mod_fused_nn_contrib_conv2d_NCHWc_add_clip_6 |            - |              - |      0 |\n",
            "|    9 |     vm_mod_fused_nn_contrib_depthwise_conv2d_NCHWc_add_clip_8 |            - |              - |      0 |\n",
            "|   10 |                                       vm_mod_fused_nn_softmax |            - |              - |      0 |\n",
            "|   11 |               vm_mod_fused_nn_contrib_conv2d_NCHWc_add_clip_3 |            - |              - |      0 |\n",
            "|   12 |               vm_mod_fused_nn_contrib_conv2d_NCHWc_add_clip_5 |            - |              - |      0 |\n",
            "|   13 |               vm_mod_fused_nn_contrib_conv2d_NCHWc_add_clip_2 |            - |              - |      0 |\n",
            "|   14 |                      vm_mod_fused_nn_contrib_conv2d_NCHWc_add |            - |              - |      0 |\n",
            "|   15 |               vm_mod_fused_nn_contrib_conv2d_NCHWc_add_clip_1 |            - |              - |      0 |\n",
            "|   16 |     vm_mod_fused_nn_contrib_depthwise_conv2d_NCHWc_add_clip_4 |            - |              - |      0 |\n",
            "|   17 |     vm_mod_fused_nn_contrib_depthwise_conv2d_NCHWc_add_clip_7 |            - |              - |      0 |\n",
            "|   18 |               vm_mod_fused_nn_contrib_conv2d_NCHWc_add_clip_4 |            - |              - |      0 |\n",
            "|   19 |       vm_mod_fused_nn_contrib_depthwise_conv2d_NCHWc_add_clip |            - |              - |      0 |\n",
            "|   20 |               vm_mod_fused_nn_contrib_conv2d_NCHWc_add_clip_7 |            - |              - |      0 |\n",
            "|   21 |                                    vm_mod_fused_nn_avg_pool2d |            - |              - |      0 |\n",
            "-----------------------------------------------------------------------------------------------------------------\n",
            "Estimated total latency: - ms\tTrials: 20\tUsed time : 277 s\tNext ID: 5\t\n",
            "----------------------------------------------------------------------\n",
            "------------------------------  [ Search ]\n",
            "----------------------------------------------------------------------\n",
            "Generate Sketches\t\t#s: 3\n",
            "Sample Initial Population\t#s: 1778\tfail_ct: 0\tTime elapsed: 9.64\n",
            "GA Iter: 0\tMax score: 1.0000\tMin score: 0.9957\t#Pop: 8\t#M+: 0\t#M-: 0\n",
            "GA Iter: 4\tMax score: 1.0000\tMin score: 0.9991\t#Pop: 8\t#M+: 1384\t#M-: 38\n",
            "EvolutionarySearch\t\t#s: 8\tTime elapsed: 42.84\n",
            "----------------------------------------------------------------------\n",
            "------------------------------  [ Measure ]\n",
            "----------------------------------------------------------------------\n",
            "Get 4 programs to measure:\n",
            "/usr/local/lib/python3.7/dist-packages/tvm/driver/build_module.py:268: UserWarning: target_host parameter is going to be deprecated. Please pass in tvm.target.Target(target, host=target_host) instead.\n",
            "  \"target_host parameter is going to be deprecated. \"\n",
            "/usr/local/lib/python3.7/dist-packages/tvm/driver/build_module.py:268: UserWarning: target_host parameter is going to be deprecated. Please pass in tvm.target.Target(target, host=target_host) instead.\n",
            "  \"target_host parameter is going to be deprecated. \"\n",
            "./usr/local/lib/python3.7/dist-packages/tvm/driver/build_module.py:268: UserWarning: target_host parameter is going to be deprecated. Please pass in tvm.target.Target(target, host=target_host) instead.\n",
            "  \"target_host parameter is going to be deprecated. \"\n",
            "./usr/local/lib/python3.7/dist-packages/tvm/driver/build_module.py:268: UserWarning: target_host parameter is going to be deprecated. Please pass in tvm.target.Target(target, host=target_host) instead.\n",
            "  \"target_host parameter is going to be deprecated. \"\n",
            "..\n",
            "Time elapsed for measurement: 7.55 s\n",
            "----------------------------------------------------------------------\n",
            "------------------------------  [ Train cost model ]\n",
            "----------------------------------------------------------------------\n",
            "Time elapsed for training: 0.15 s\n",
            "----------------------------------------------------------------------\n",
            "------------------------------  [ Task Scheduler ]\n",
            "----------------------------------------------------------------------\n",
            "|  ID  |                       Task Description                        | Latency (ms) | Speed (GFLOPS) | Trials |\n",
            "-----------------------------------------------------------------------------------------------------------------\n",
            "|    0 |     vm_mod_fused_nn_contrib_depthwise_conv2d_NCHWc_add_clip_6 |        0.235 |           8.98 |      4 |\n",
            "|    1 |               vm_mod_fused_nn_contrib_conv2d_NCHWc_add_clip_9 |       11.393 |           9.03 |      4 |\n",
            "|    2 |     vm_mod_fused_nn_contrib_depthwise_conv2d_NCHWc_add_clip_5 |        0.230 |           4.58 |      4 |\n",
            "|    3 |     vm_mod_fused_nn_contrib_depthwise_conv2d_NCHWc_add_clip_3 |        0.439 |           4.80 |      4 |\n",
            "|    4 |                 vm_mod_fused_nn_contrib_conv2d_NCHWc_add_clip |        2.162 |          10.58 |      4 |\n",
            "|    5 |     vm_mod_fused_nn_contrib_depthwise_conv2d_NCHWc_add_clip_1 |        0.636 |           6.62 |      4 |\n",
            "|    6 |     vm_mod_fused_nn_contrib_depthwise_conv2d_NCHWc_add_clip_2 |            - |              - |      0 |\n",
            "|    7 |               vm_mod_fused_nn_contrib_conv2d_NCHWc_add_clip_8 |            - |              - |      0 |\n",
            "|    8 |               vm_mod_fused_nn_contrib_conv2d_NCHWc_add_clip_6 |            - |              - |      0 |\n",
            "|    9 |     vm_mod_fused_nn_contrib_depthwise_conv2d_NCHWc_add_clip_8 |            - |              - |      0 |\n",
            "|   10 |                                       vm_mod_fused_nn_softmax |            - |              - |      0 |\n",
            "|   11 |               vm_mod_fused_nn_contrib_conv2d_NCHWc_add_clip_3 |            - |              - |      0 |\n",
            "|   12 |               vm_mod_fused_nn_contrib_conv2d_NCHWc_add_clip_5 |            - |              - |      0 |\n",
            "|   13 |               vm_mod_fused_nn_contrib_conv2d_NCHWc_add_clip_2 |            - |              - |      0 |\n",
            "|   14 |                      vm_mod_fused_nn_contrib_conv2d_NCHWc_add |            - |              - |      0 |\n",
            "|   15 |               vm_mod_fused_nn_contrib_conv2d_NCHWc_add_clip_1 |            - |              - |      0 |\n",
            "|   16 |     vm_mod_fused_nn_contrib_depthwise_conv2d_NCHWc_add_clip_4 |            - |              - |      0 |\n",
            "|   17 |     vm_mod_fused_nn_contrib_depthwise_conv2d_NCHWc_add_clip_7 |            - |              - |      0 |\n",
            "|   18 |               vm_mod_fused_nn_contrib_conv2d_NCHWc_add_clip_4 |            - |              - |      0 |\n",
            "|   19 |       vm_mod_fused_nn_contrib_depthwise_conv2d_NCHWc_add_clip |            - |              - |      0 |\n",
            "|   20 |               vm_mod_fused_nn_contrib_conv2d_NCHWc_add_clip_7 |            - |              - |      0 |\n",
            "|   21 |                                    vm_mod_fused_nn_avg_pool2d |            - |              - |      0 |\n",
            "-----------------------------------------------------------------------------------------------------------------\n",
            "Estimated total latency: - ms\tTrials: 24\tUsed time : 337 s\tNext ID: 6\t\n",
            "----------------------------------------------------------------------\n",
            "------------------------------  [ Search ]\n",
            "----------------------------------------------------------------------\n",
            "Generate Sketches\t\t#s: 3\n",
            "Sample Initial Population\t#s: 1810\tfail_ct: 0\tTime elapsed: 10.47\n",
            "GA Iter: 0\tMax score: 1.0000\tMin score: 0.9955\t#Pop: 8\t#M+: 0\t#M-: 0\n",
            "GA Iter: 4\tMax score: 1.0000\tMin score: 0.9994\t#Pop: 8\t#M+: 1395\t#M-: 40\n",
            "EvolutionarySearch\t\t#s: 8\tTime elapsed: 46.63\n",
            "----------------------------------------------------------------------\n",
            "------------------------------  [ Measure ]\n",
            "----------------------------------------------------------------------\n",
            "Get 4 programs to measure:\n",
            "/usr/local/lib/python3.7/dist-packages/tvm/driver/build_module.py:268: UserWarning: target_host parameter is going to be deprecated. Please pass in tvm.target.Target(target, host=target_host) instead.\n",
            "  \"target_host parameter is going to be deprecated. \"\n",
            "/usr/local/lib/python3.7/dist-packages/tvm/driver/build_module.py:268: UserWarning: target_host parameter is going to be deprecated. Please pass in tvm.target.Target(target, host=target_host) instead.\n",
            "  \"target_host parameter is going to be deprecated. \"\n",
            "./usr/local/lib/python3.7/dist-packages/tvm/driver/build_module.py:268: UserWarning: target_host parameter is going to be deprecated. Please pass in tvm.target.Target(target, host=target_host) instead.\n",
            "  \"target_host parameter is going to be deprecated. \"\n",
            "./usr/local/lib/python3.7/dist-packages/tvm/driver/build_module.py:268: UserWarning: target_host parameter is going to be deprecated. Please pass in tvm.target.Target(target, host=target_host) instead.\n",
            "  \"target_host parameter is going to be deprecated. \"\n",
            "..\n",
            "Time elapsed for measurement: 6.77 s\n",
            "----------------------------------------------------------------------\n",
            "------------------------------  [ Train cost model ]\n",
            "----------------------------------------------------------------------\n",
            "Time elapsed for training: 0.16 s\n",
            "----------------------------------------------------------------------\n",
            "------------------------------  [ Task Scheduler ]\n",
            "----------------------------------------------------------------------\n",
            "|  ID  |                       Task Description                        | Latency (ms) | Speed (GFLOPS) | Trials |\n",
            "-----------------------------------------------------------------------------------------------------------------\n",
            "|    0 |     vm_mod_fused_nn_contrib_depthwise_conv2d_NCHWc_add_clip_6 |        0.235 |           8.98 |      4 |\n",
            "|    1 |               vm_mod_fused_nn_contrib_conv2d_NCHWc_add_clip_9 |       11.393 |           9.03 |      4 |\n",
            "|    2 |     vm_mod_fused_nn_contrib_depthwise_conv2d_NCHWc_add_clip_5 |        0.230 |           4.58 |      4 |\n",
            "|    3 |     vm_mod_fused_nn_contrib_depthwise_conv2d_NCHWc_add_clip_3 |        0.439 |           4.80 |      4 |\n",
            "|    4 |                 vm_mod_fused_nn_contrib_conv2d_NCHWc_add_clip |        2.162 |          10.58 |      4 |\n",
            "|    5 |     vm_mod_fused_nn_contrib_depthwise_conv2d_NCHWc_add_clip_1 |        0.636 |           6.62 |      4 |\n",
            "|    6 |     vm_mod_fused_nn_contrib_depthwise_conv2d_NCHWc_add_clip_2 |        1.718 |           4.91 |      4 |\n",
            "|    7 |               vm_mod_fused_nn_contrib_conv2d_NCHWc_add_clip_8 |            - |              - |      0 |\n",
            "|    8 |               vm_mod_fused_nn_contrib_conv2d_NCHWc_add_clip_6 |            - |              - |      0 |\n",
            "|    9 |     vm_mod_fused_nn_contrib_depthwise_conv2d_NCHWc_add_clip_8 |            - |              - |      0 |\n",
            "|   10 |                                       vm_mod_fused_nn_softmax |            - |              - |      0 |\n",
            "|   11 |               vm_mod_fused_nn_contrib_conv2d_NCHWc_add_clip_3 |            - |              - |      0 |\n",
            "|   12 |               vm_mod_fused_nn_contrib_conv2d_NCHWc_add_clip_5 |            - |              - |      0 |\n",
            "|   13 |               vm_mod_fused_nn_contrib_conv2d_NCHWc_add_clip_2 |            - |              - |      0 |\n",
            "|   14 |                      vm_mod_fused_nn_contrib_conv2d_NCHWc_add |            - |              - |      0 |\n",
            "|   15 |               vm_mod_fused_nn_contrib_conv2d_NCHWc_add_clip_1 |            - |              - |      0 |\n",
            "|   16 |     vm_mod_fused_nn_contrib_depthwise_conv2d_NCHWc_add_clip_4 |            - |              - |      0 |\n",
            "|   17 |     vm_mod_fused_nn_contrib_depthwise_conv2d_NCHWc_add_clip_7 |            - |              - |      0 |\n",
            "|   18 |               vm_mod_fused_nn_contrib_conv2d_NCHWc_add_clip_4 |            - |              - |      0 |\n",
            "|   19 |       vm_mod_fused_nn_contrib_depthwise_conv2d_NCHWc_add_clip |            - |              - |      0 |\n",
            "|   20 |               vm_mod_fused_nn_contrib_conv2d_NCHWc_add_clip_7 |            - |              - |      0 |\n",
            "|   21 |                                    vm_mod_fused_nn_avg_pool2d |            - |              - |      0 |\n",
            "-----------------------------------------------------------------------------------------------------------------\n",
            "Estimated total latency: - ms\tTrials: 28\tUsed time : 401 s\tNext ID: 7\t\n",
            "----------------------------------------------------------------------\n",
            "------------------------------  [ Search ]\n",
            "----------------------------------------------------------------------\n",
            "Generate Sketches\t\t#s: 3\n",
            "Sample Initial Population\t#s: 1977\tfail_ct: 5\tTime elapsed: 4.93\n",
            "GA Iter: 0\tMax score: 0.9999\tMin score: 0.9974\t#Pop: 8\t#M+: 0\t#M-: 0\n",
            "GA Iter: 4\tMax score: 1.0000\tMin score: 0.9995\t#Pop: 8\t#M+: 1386\t#M-: 88\n",
            "EvolutionarySearch\t\t#s: 8\tTime elapsed: 20.74\n",
            "----------------------------------------------------------------------\n",
            "------------------------------  [ Measure ]\n",
            "----------------------------------------------------------------------\n",
            "Get 4 programs to measure:\n",
            "/usr/local/lib/python3.7/dist-packages/tvm/driver/build_module.py:268: UserWarning: target_host parameter is going to be deprecated. Please pass in tvm.target.Target(target, host=target_host) instead.\n",
            "  \"target_host parameter is going to be deprecated. \"\n",
            "/usr/local/lib/python3.7/dist-packages/tvm/driver/build_module.py:268: UserWarning: target_host parameter is going to be deprecated. Please pass in tvm.target.Target(target, host=target_host) instead.\n",
            "  \"target_host parameter is going to be deprecated. \"\n",
            "./usr/local/lib/python3.7/dist-packages/tvm/driver/build_module.py:268: UserWarning: target_host parameter is going to be deprecated. Please pass in tvm.target.Target(target, host=target_host) instead.\n",
            "  \"target_host parameter is going to be deprecated. \"\n",
            "./usr/local/lib/python3.7/dist-packages/tvm/driver/build_module.py:268: UserWarning: target_host parameter is going to be deprecated. Please pass in tvm.target.Target(target, host=target_host) instead.\n",
            "  \"target_host parameter is going to be deprecated. \"\n",
            "..\n",
            "Time elapsed for measurement: 6.05 s\n",
            "----------------------------------------------------------------------\n",
            "------------------------------  [ Train cost model ]\n",
            "----------------------------------------------------------------------\n",
            "Time elapsed for training: 0.16 s\n",
            "----------------------------------------------------------------------\n",
            "------------------------------  [ Task Scheduler ]\n",
            "----------------------------------------------------------------------\n",
            "|  ID  |                       Task Description                        | Latency (ms) | Speed (GFLOPS) | Trials |\n",
            "-----------------------------------------------------------------------------------------------------------------\n",
            "|    0 |     vm_mod_fused_nn_contrib_depthwise_conv2d_NCHWc_add_clip_6 |        0.235 |           8.98 |      4 |\n",
            "|    1 |               vm_mod_fused_nn_contrib_conv2d_NCHWc_add_clip_9 |       11.393 |           9.03 |      4 |\n",
            "|    2 |     vm_mod_fused_nn_contrib_depthwise_conv2d_NCHWc_add_clip_5 |        0.230 |           4.58 |      4 |\n",
            "|    3 |     vm_mod_fused_nn_contrib_depthwise_conv2d_NCHWc_add_clip_3 |        0.439 |           4.80 |      4 |\n",
            "|    4 |                 vm_mod_fused_nn_contrib_conv2d_NCHWc_add_clip |        2.162 |          10.58 |      4 |\n",
            "|    5 |     vm_mod_fused_nn_contrib_depthwise_conv2d_NCHWc_add_clip_1 |        0.636 |           6.62 |      4 |\n",
            "|    6 |     vm_mod_fused_nn_contrib_depthwise_conv2d_NCHWc_add_clip_2 |        1.718 |           4.91 |      4 |\n",
            "|    7 |               vm_mod_fused_nn_contrib_conv2d_NCHWc_add_clip_8 |        7.420 |           6.95 |      4 |\n",
            "|    8 |               vm_mod_fused_nn_contrib_conv2d_NCHWc_add_clip_6 |            - |              - |      0 |\n",
            "|    9 |     vm_mod_fused_nn_contrib_depthwise_conv2d_NCHWc_add_clip_8 |            - |              - |      0 |\n",
            "|   10 |                                       vm_mod_fused_nn_softmax |            - |              - |      0 |\n",
            "|   11 |               vm_mod_fused_nn_contrib_conv2d_NCHWc_add_clip_3 |            - |              - |      0 |\n",
            "|   12 |               vm_mod_fused_nn_contrib_conv2d_NCHWc_add_clip_5 |            - |              - |      0 |\n",
            "|   13 |               vm_mod_fused_nn_contrib_conv2d_NCHWc_add_clip_2 |            - |              - |      0 |\n",
            "|   14 |                      vm_mod_fused_nn_contrib_conv2d_NCHWc_add |            - |              - |      0 |\n",
            "|   15 |               vm_mod_fused_nn_contrib_conv2d_NCHWc_add_clip_1 |            - |              - |      0 |\n",
            "|   16 |     vm_mod_fused_nn_contrib_depthwise_conv2d_NCHWc_add_clip_4 |            - |              - |      0 |\n",
            "|   17 |     vm_mod_fused_nn_contrib_depthwise_conv2d_NCHWc_add_clip_7 |            - |              - |      0 |\n",
            "|   18 |               vm_mod_fused_nn_contrib_conv2d_NCHWc_add_clip_4 |            - |              - |      0 |\n",
            "|   19 |       vm_mod_fused_nn_contrib_depthwise_conv2d_NCHWc_add_clip |            - |              - |      0 |\n",
            "|   20 |               vm_mod_fused_nn_contrib_conv2d_NCHWc_add_clip_7 |            - |              - |      0 |\n",
            "|   21 |                                    vm_mod_fused_nn_avg_pool2d |            - |              - |      0 |\n",
            "-----------------------------------------------------------------------------------------------------------------\n",
            "Estimated total latency: - ms\tTrials: 32\tUsed time : 433 s\tNext ID: 8\t\n",
            "----------------------------------------------------------------------\n",
            "------------------------------  [ Search ]\n",
            "----------------------------------------------------------------------\n",
            "Generate Sketches\t\t#s: 3\n",
            "Sample Initial Population\t#s: 2010\tfail_ct: 0\tTime elapsed: 5.41\n",
            "GA Iter: 0\tMax score: 1.0000\tMin score: 0.9970\t#Pop: 8\t#M+: 0\t#M-: 0\n",
            "GA Iter: 4\tMax score: 1.0000\tMin score: 0.9996\t#Pop: 8\t#M+: 1377\t#M-: 67\n",
            "EvolutionarySearch\t\t#s: 8\tTime elapsed: 22.65\n",
            "----------------------------------------------------------------------\n",
            "------------------------------  [ Measure ]\n",
            "----------------------------------------------------------------------\n",
            "Get 4 programs to measure:\n",
            "/usr/local/lib/python3.7/dist-packages/tvm/driver/build_module.py:268: UserWarning: target_host parameter is going to be deprecated. Please pass in tvm.target.Target(target, host=target_host) instead.\n",
            "  \"target_host parameter is going to be deprecated. \"\n",
            "/usr/local/lib/python3.7/dist-packages/tvm/driver/build_module.py:268: UserWarning: target_host parameter is going to be deprecated. Please pass in tvm.target.Target(target, host=target_host) instead.\n",
            "  \"target_host parameter is going to be deprecated. \"\n",
            "./usr/local/lib/python3.7/dist-packages/tvm/driver/build_module.py:268: UserWarning: target_host parameter is going to be deprecated. Please pass in tvm.target.Target(target, host=target_host) instead.\n",
            "  \"target_host parameter is going to be deprecated. \"\n",
            "../usr/local/lib/python3.7/dist-packages/tvm/driver/build_module.py:268: UserWarning: target_host parameter is going to be deprecated. Please pass in tvm.target.Target(target, host=target_host) instead.\n",
            "  \"target_host parameter is going to be deprecated. \"\n",
            ".\n",
            "Time elapsed for measurement: 13.90 s\n",
            "----------------------------------------------------------------------\n",
            "------------------------------  [ Train cost model ]\n",
            "----------------------------------------------------------------------\n",
            "Time elapsed for training: 0.19 s\n",
            "----------------------------------------------------------------------\n",
            "------------------------------  [ Task Scheduler ]\n",
            "----------------------------------------------------------------------\n",
            "|  ID  |                       Task Description                        | Latency (ms) | Speed (GFLOPS) | Trials |\n",
            "-----------------------------------------------------------------------------------------------------------------\n",
            "|    0 |     vm_mod_fused_nn_contrib_depthwise_conv2d_NCHWc_add_clip_6 |        0.235 |           8.98 |      4 |\n",
            "|    1 |               vm_mod_fused_nn_contrib_conv2d_NCHWc_add_clip_9 |       11.393 |           9.03 |      4 |\n",
            "|    2 |     vm_mod_fused_nn_contrib_depthwise_conv2d_NCHWc_add_clip_5 |        0.230 |           4.58 |      4 |\n",
            "|    3 |     vm_mod_fused_nn_contrib_depthwise_conv2d_NCHWc_add_clip_3 |        0.439 |           4.80 |      4 |\n",
            "|    4 |                 vm_mod_fused_nn_contrib_conv2d_NCHWc_add_clip |        2.162 |          10.58 |      4 |\n",
            "|    5 |     vm_mod_fused_nn_contrib_depthwise_conv2d_NCHWc_add_clip_1 |        0.636 |           6.62 |      4 |\n",
            "|    6 |     vm_mod_fused_nn_contrib_depthwise_conv2d_NCHWc_add_clip_2 |        1.718 |           4.91 |      4 |\n",
            "|    7 |               vm_mod_fused_nn_contrib_conv2d_NCHWc_add_clip_8 |        7.420 |           6.95 |      4 |\n",
            "|    8 |               vm_mod_fused_nn_contrib_conv2d_NCHWc_add_clip_6 |        4.603 |          11.23 |      4 |\n",
            "|    9 |     vm_mod_fused_nn_contrib_depthwise_conv2d_NCHWc_add_clip_8 |            - |              - |      0 |\n",
            "|   10 |                                       vm_mod_fused_nn_softmax |            - |              - |      0 |\n",
            "|   11 |               vm_mod_fused_nn_contrib_conv2d_NCHWc_add_clip_3 |            - |              - |      0 |\n",
            "|   12 |               vm_mod_fused_nn_contrib_conv2d_NCHWc_add_clip_5 |            - |              - |      0 |\n",
            "|   13 |               vm_mod_fused_nn_contrib_conv2d_NCHWc_add_clip_2 |            - |              - |      0 |\n",
            "|   14 |                      vm_mod_fused_nn_contrib_conv2d_NCHWc_add |            - |              - |      0 |\n",
            "|   15 |               vm_mod_fused_nn_contrib_conv2d_NCHWc_add_clip_1 |            - |              - |      0 |\n",
            "|   16 |     vm_mod_fused_nn_contrib_depthwise_conv2d_NCHWc_add_clip_4 |            - |              - |      0 |\n",
            "|   17 |     vm_mod_fused_nn_contrib_depthwise_conv2d_NCHWc_add_clip_7 |            - |              - |      0 |\n",
            "|   18 |               vm_mod_fused_nn_contrib_conv2d_NCHWc_add_clip_4 |            - |              - |      0 |\n",
            "|   19 |       vm_mod_fused_nn_contrib_depthwise_conv2d_NCHWc_add_clip |            - |              - |      0 |\n",
            "|   20 |               vm_mod_fused_nn_contrib_conv2d_NCHWc_add_clip_7 |            - |              - |      0 |\n",
            "|   21 |                                    vm_mod_fused_nn_avg_pool2d |            - |              - |      0 |\n",
            "-----------------------------------------------------------------------------------------------------------------\n",
            "Estimated total latency: - ms\tTrials: 36\tUsed time : 475 s\tNext ID: 9\t\n",
            "----------------------------------------------------------------------\n",
            "------------------------------  [ Search ]\n",
            "----------------------------------------------------------------------\n",
            "Generate Sketches\t\t#s: 3\n",
            "Sample Initial Population\t#s: 1750\tfail_ct: 1\tTime elapsed: 8.80\n",
            "GA Iter: 0\tMax score: 0.9997\tMin score: 0.9963\t#Pop: 8\t#M+: 0\t#M-: 0\n",
            "GA Iter: 4\tMax score: 1.0000\tMin score: 0.9992\t#Pop: 8\t#M+: 1372\t#M-: 41\n",
            "EvolutionarySearch\t\t#s: 8\tTime elapsed: 40.19\n",
            "----------------------------------------------------------------------\n",
            "------------------------------  [ Measure ]\n",
            "----------------------------------------------------------------------\n",
            "Get 4 programs to measure:\n",
            "/usr/local/lib/python3.7/dist-packages/tvm/driver/build_module.py:268: UserWarning: target_host parameter is going to be deprecated. Please pass in tvm.target.Target(target, host=target_host) instead.\n",
            "  \"target_host parameter is going to be deprecated. \"\n",
            "/usr/local/lib/python3.7/dist-packages/tvm/driver/build_module.py:268: UserWarning: target_host parameter is going to be deprecated. Please pass in tvm.target.Target(target, host=target_host) instead.\n",
            "  \"target_host parameter is going to be deprecated. \"\n",
            "./usr/local/lib/python3.7/dist-packages/tvm/driver/build_module.py:268: UserWarning: target_host parameter is going to be deprecated. Please pass in tvm.target.Target(target, host=target_host) instead.\n",
            "  \"target_host parameter is going to be deprecated. \"\n",
            "./usr/local/lib/python3.7/dist-packages/tvm/driver/build_module.py:268: UserWarning: target_host parameter is going to be deprecated. Please pass in tvm.target.Target(target, host=target_host) instead.\n",
            "  \"target_host parameter is going to be deprecated. \"\n",
            "..\n",
            "Time elapsed for measurement: 14.58 s\n",
            "----------------------------------------------------------------------\n",
            "------------------------------  [ Train cost model ]\n",
            "----------------------------------------------------------------------\n",
            "Time elapsed for training: 0.19 s\n",
            "----------------------------------------------------------------------\n",
            "------------------------------  [ Task Scheduler ]\n",
            "----------------------------------------------------------------------\n",
            "|  ID  |                       Task Description                        | Latency (ms) | Speed (GFLOPS) | Trials |\n",
            "-----------------------------------------------------------------------------------------------------------------\n",
            "|    0 |     vm_mod_fused_nn_contrib_depthwise_conv2d_NCHWc_add_clip_6 |        0.235 |           8.98 |      4 |\n",
            "|    1 |               vm_mod_fused_nn_contrib_conv2d_NCHWc_add_clip_9 |       11.393 |           9.03 |      4 |\n",
            "|    2 |     vm_mod_fused_nn_contrib_depthwise_conv2d_NCHWc_add_clip_5 |        0.230 |           4.58 |      4 |\n",
            "|    3 |     vm_mod_fused_nn_contrib_depthwise_conv2d_NCHWc_add_clip_3 |        0.439 |           4.80 |      4 |\n",
            "|    4 |                 vm_mod_fused_nn_contrib_conv2d_NCHWc_add_clip |        2.162 |          10.58 |      4 |\n",
            "|    5 |     vm_mod_fused_nn_contrib_depthwise_conv2d_NCHWc_add_clip_1 |        0.636 |           6.62 |      4 |\n",
            "|    6 |     vm_mod_fused_nn_contrib_depthwise_conv2d_NCHWc_add_clip_2 |        1.718 |           4.91 |      4 |\n",
            "|    7 |               vm_mod_fused_nn_contrib_conv2d_NCHWc_add_clip_8 |        7.420 |           6.95 |      4 |\n",
            "|    8 |               vm_mod_fused_nn_contrib_conv2d_NCHWc_add_clip_6 |        4.603 |          11.23 |      4 |\n",
            "|    9 |     vm_mod_fused_nn_contrib_depthwise_conv2d_NCHWc_add_clip_8 |        0.079 |          13.38 |      4 |\n",
            "|   10 |                                       vm_mod_fused_nn_softmax |            - |              - |      0 |\n",
            "|   11 |               vm_mod_fused_nn_contrib_conv2d_NCHWc_add_clip_3 |            - |              - |      0 |\n",
            "|   12 |               vm_mod_fused_nn_contrib_conv2d_NCHWc_add_clip_5 |            - |              - |      0 |\n",
            "|   13 |               vm_mod_fused_nn_contrib_conv2d_NCHWc_add_clip_2 |            - |              - |      0 |\n",
            "|   14 |                      vm_mod_fused_nn_contrib_conv2d_NCHWc_add |            - |              - |      0 |\n",
            "|   15 |               vm_mod_fused_nn_contrib_conv2d_NCHWc_add_clip_1 |            - |              - |      0 |\n",
            "|   16 |     vm_mod_fused_nn_contrib_depthwise_conv2d_NCHWc_add_clip_4 |            - |              - |      0 |\n",
            "|   17 |     vm_mod_fused_nn_contrib_depthwise_conv2d_NCHWc_add_clip_7 |            - |              - |      0 |\n",
            "|   18 |               vm_mod_fused_nn_contrib_conv2d_NCHWc_add_clip_4 |            - |              - |      0 |\n",
            "|   19 |       vm_mod_fused_nn_contrib_depthwise_conv2d_NCHWc_add_clip |            - |              - |      0 |\n",
            "|   20 |               vm_mod_fused_nn_contrib_conv2d_NCHWc_add_clip_7 |            - |              - |      0 |\n",
            "|   21 |                                    vm_mod_fused_nn_avg_pool2d |            - |              - |      0 |\n",
            "-----------------------------------------------------------------------------------------------------------------\n",
            "Estimated total latency: - ms\tTrials: 40\tUsed time : 539 s\tNext ID: 10\t\n",
            "----------------------------------------------------------------------\n",
            "------------------------------  [ Search ]\n",
            "----------------------------------------------------------------------\n",
            "Generate Sketches\t\t#s: 9\n",
            "Sample Initial Population\t#s: 1146\tfail_ct: 145\tTime elapsed: 2.50\n",
            "GA Iter: 0\tMax score: 0.9985\tMin score: 0.9869\t#Pop: 8\t#M+: 0\t#M-: 0\n",
            "GA Iter: 4\tMax score: 0.9999\tMin score: 0.9989\t#Pop: 8\t#M+: 1381\t#M-: 116\n",
            "EvolutionarySearch\t\t#s: 8\tTime elapsed: 13.12\n",
            "----------------------------------------------------------------------\n",
            "------------------------------  [ Measure ]\n",
            "----------------------------------------------------------------------\n",
            "Get 4 programs to measure:\n",
            "/usr/local/lib/python3.7/dist-packages/tvm/driver/build_module.py:268: UserWarning: target_host parameter is going to be deprecated. Please pass in tvm.target.Target(target, host=target_host) instead.\n",
            "  \"target_host parameter is going to be deprecated. \"\n",
            "/usr/local/lib/python3.7/dist-packages/tvm/driver/build_module.py:268: UserWarning: target_host parameter is going to be deprecated. Please pass in tvm.target.Target(target, host=target_host) instead.\n",
            "  \"target_host parameter is going to be deprecated. \"\n",
            "./usr/local/lib/python3.7/dist-packages/tvm/driver/build_module.py:268: UserWarning: target_host parameter is going to be deprecated. Please pass in tvm.target.Target(target, host=target_host) instead.\n",
            "  \"target_host parameter is going to be deprecated. \"\n",
            "./usr/local/lib/python3.7/dist-packages/tvm/driver/build_module.py:268: UserWarning: target_host parameter is going to be deprecated. Please pass in tvm.target.Target(target, host=target_host) instead.\n",
            "  \"target_host parameter is going to be deprecated. \"\n",
            "..\n",
            "Time elapsed for measurement: 1.98 s\n",
            "----------------------------------------------------------------------\n",
            "------------------------------  [ Train cost model ]\n",
            "----------------------------------------------------------------------\n",
            "Time elapsed for training: 0.18 s\n",
            "----------------------------------------------------------------------\n",
            "------------------------------  [ Task Scheduler ]\n",
            "----------------------------------------------------------------------\n",
            "|  ID  |                       Task Description                        | Latency (ms) | Speed (GFLOPS) | Trials |\n",
            "-----------------------------------------------------------------------------------------------------------------\n",
            "|    0 |     vm_mod_fused_nn_contrib_depthwise_conv2d_NCHWc_add_clip_6 |        0.235 |           8.98 |      4 |\n",
            "|    1 |               vm_mod_fused_nn_contrib_conv2d_NCHWc_add_clip_9 |       11.393 |           9.03 |      4 |\n",
            "|    2 |     vm_mod_fused_nn_contrib_depthwise_conv2d_NCHWc_add_clip_5 |        0.230 |           4.58 |      4 |\n",
            "|    3 |     vm_mod_fused_nn_contrib_depthwise_conv2d_NCHWc_add_clip_3 |        0.439 |           4.80 |      4 |\n",
            "|    4 |                 vm_mod_fused_nn_contrib_conv2d_NCHWc_add_clip |        2.162 |          10.58 |      4 |\n",
            "|    5 |     vm_mod_fused_nn_contrib_depthwise_conv2d_NCHWc_add_clip_1 |        0.636 |           6.62 |      4 |\n",
            "|    6 |     vm_mod_fused_nn_contrib_depthwise_conv2d_NCHWc_add_clip_2 |        1.718 |           4.91 |      4 |\n",
            "|    7 |               vm_mod_fused_nn_contrib_conv2d_NCHWc_add_clip_8 |        7.420 |           6.95 |      4 |\n",
            "|    8 |               vm_mod_fused_nn_contrib_conv2d_NCHWc_add_clip_6 |        4.603 |          11.23 |      4 |\n",
            "|    9 |     vm_mod_fused_nn_contrib_depthwise_conv2d_NCHWc_add_clip_8 |        0.079 |          13.38 |      4 |\n",
            "|   10 |                                       vm_mod_fused_nn_softmax |        0.008 |           0.51 |      4 |\n",
            "|   11 |               vm_mod_fused_nn_contrib_conv2d_NCHWc_add_clip_3 |            - |              - |      0 |\n",
            "|   12 |               vm_mod_fused_nn_contrib_conv2d_NCHWc_add_clip_5 |            - |              - |      0 |\n",
            "|   13 |               vm_mod_fused_nn_contrib_conv2d_NCHWc_add_clip_2 |            - |              - |      0 |\n",
            "|   14 |                      vm_mod_fused_nn_contrib_conv2d_NCHWc_add |            - |              - |      0 |\n",
            "|   15 |               vm_mod_fused_nn_contrib_conv2d_NCHWc_add_clip_1 |            - |              - |      0 |\n",
            "|   16 |     vm_mod_fused_nn_contrib_depthwise_conv2d_NCHWc_add_clip_4 |            - |              - |      0 |\n",
            "|   17 |     vm_mod_fused_nn_contrib_depthwise_conv2d_NCHWc_add_clip_7 |            - |              - |      0 |\n",
            "|   18 |               vm_mod_fused_nn_contrib_conv2d_NCHWc_add_clip_4 |            - |              - |      0 |\n",
            "|   19 |       vm_mod_fused_nn_contrib_depthwise_conv2d_NCHWc_add_clip |            - |              - |      0 |\n",
            "|   20 |               vm_mod_fused_nn_contrib_conv2d_NCHWc_add_clip_7 |            - |              - |      0 |\n",
            "|   21 |                                    vm_mod_fused_nn_avg_pool2d |            - |              - |      0 |\n",
            "-----------------------------------------------------------------------------------------------------------------\n",
            "Estimated total latency: - ms\tTrials: 44\tUsed time : 557 s\tNext ID: 11\t\n",
            "----------------------------------------------------------------------\n",
            "------------------------------  [ Search ]\n",
            "----------------------------------------------------------------------\n",
            "Generate Sketches\t\t#s: 3\n",
            "Sample Initial Population\t#s: 2025\tfail_ct: 0\tTime elapsed: 5.69\n",
            "GA Iter: 0\tMax score: 0.9999\tMin score: 0.9974\t#Pop: 8\t#M+: 0\t#M-: 0\n",
            "GA Iter: 4\tMax score: 1.0000\tMin score: 0.9994\t#Pop: 8\t#M+: 1361\t#M-: 80\n",
            "EvolutionarySearch\t\t#s: 8\tTime elapsed: 24.16\n",
            "----------------------------------------------------------------------\n",
            "------------------------------  [ Measure ]\n",
            "----------------------------------------------------------------------\n",
            "Get 4 programs to measure:\n",
            "/usr/local/lib/python3.7/dist-packages/tvm/driver/build_module.py:268: UserWarning: target_host parameter is going to be deprecated. Please pass in tvm.target.Target(target, host=target_host) instead.\n",
            "  \"target_host parameter is going to be deprecated. \"\n",
            "./usr/local/lib/python3.7/dist-packages/tvm/driver/build_module.py:268: UserWarning: target_host parameter is going to be deprecated. Please pass in tvm.target.Target(target, host=target_host) instead.\n",
            "  \"target_host parameter is going to be deprecated. \"\n",
            "./usr/local/lib/python3.7/dist-packages/tvm/driver/build_module.py:268: UserWarning: target_host parameter is going to be deprecated. Please pass in tvm.target.Target(target, host=target_host) instead.\n",
            "  \"target_host parameter is going to be deprecated. \"\n",
            "./usr/local/lib/python3.7/dist-packages/tvm/driver/build_module.py:268: UserWarning: target_host parameter is going to be deprecated. Please pass in tvm.target.Target(target, host=target_host) instead.\n",
            "  \"target_host parameter is going to be deprecated. \"\n",
            ".\n",
            "Time elapsed for measurement: 8.57 s\n",
            "----------------------------------------------------------------------\n",
            "------------------------------  [ Train cost model ]\n",
            "----------------------------------------------------------------------\n",
            "Time elapsed for training: 0.23 s\n",
            "----------------------------------------------------------------------\n",
            "------------------------------  [ Task Scheduler ]\n",
            "----------------------------------------------------------------------\n",
            "|  ID  |                       Task Description                        | Latency (ms) | Speed (GFLOPS) | Trials |\n",
            "-----------------------------------------------------------------------------------------------------------------\n",
            "|    0 |     vm_mod_fused_nn_contrib_depthwise_conv2d_NCHWc_add_clip_6 |        0.235 |           8.98 |      4 |\n",
            "|    1 |               vm_mod_fused_nn_contrib_conv2d_NCHWc_add_clip_9 |       11.393 |           9.03 |      4 |\n",
            "|    2 |     vm_mod_fused_nn_contrib_depthwise_conv2d_NCHWc_add_clip_5 |        0.230 |           4.58 |      4 |\n",
            "|    3 |     vm_mod_fused_nn_contrib_depthwise_conv2d_NCHWc_add_clip_3 |        0.439 |           4.80 |      4 |\n",
            "|    4 |                 vm_mod_fused_nn_contrib_conv2d_NCHWc_add_clip |        2.162 |          10.58 |      4 |\n",
            "|    5 |     vm_mod_fused_nn_contrib_depthwise_conv2d_NCHWc_add_clip_1 |        0.636 |           6.62 |      4 |\n",
            "|    6 |     vm_mod_fused_nn_contrib_depthwise_conv2d_NCHWc_add_clip_2 |        1.718 |           4.91 |      4 |\n",
            "|    7 |               vm_mod_fused_nn_contrib_conv2d_NCHWc_add_clip_8 |        7.420 |           6.95 |      4 |\n",
            "|    8 |               vm_mod_fused_nn_contrib_conv2d_NCHWc_add_clip_6 |        4.603 |          11.23 |      4 |\n",
            "|    9 |     vm_mod_fused_nn_contrib_depthwise_conv2d_NCHWc_add_clip_8 |        0.079 |          13.38 |      4 |\n",
            "|   10 |                                       vm_mod_fused_nn_softmax |        0.008 |           0.51 |      4 |\n",
            "|   11 |               vm_mod_fused_nn_contrib_conv2d_NCHWc_add_clip_3 |       16.870 |           6.16 |      4 |\n",
            "|   12 |               vm_mod_fused_nn_contrib_conv2d_NCHWc_add_clip_5 |            - |              - |      0 |\n",
            "|   13 |               vm_mod_fused_nn_contrib_conv2d_NCHWc_add_clip_2 |            - |              - |      0 |\n",
            "|   14 |                      vm_mod_fused_nn_contrib_conv2d_NCHWc_add |            - |              - |      0 |\n",
            "|   15 |               vm_mod_fused_nn_contrib_conv2d_NCHWc_add_clip_1 |            - |              - |      0 |\n",
            "|   16 |     vm_mod_fused_nn_contrib_depthwise_conv2d_NCHWc_add_clip_4 |            - |              - |      0 |\n",
            "|   17 |     vm_mod_fused_nn_contrib_depthwise_conv2d_NCHWc_add_clip_7 |            - |              - |      0 |\n",
            "|   18 |               vm_mod_fused_nn_contrib_conv2d_NCHWc_add_clip_4 |            - |              - |      0 |\n",
            "|   19 |       vm_mod_fused_nn_contrib_depthwise_conv2d_NCHWc_add_clip |            - |              - |      0 |\n",
            "|   20 |               vm_mod_fused_nn_contrib_conv2d_NCHWc_add_clip_7 |            - |              - |      0 |\n",
            "|   21 |                                    vm_mod_fused_nn_avg_pool2d |            - |              - |      0 |\n",
            "-----------------------------------------------------------------------------------------------------------------\n",
            "Estimated total latency: - ms\tTrials: 48\tUsed time : 596 s\tNext ID: 12\t\n",
            "----------------------------------------------------------------------\n",
            "------------------------------  [ Search ]\n",
            "----------------------------------------------------------------------\n",
            "Generate Sketches\t\t#s: 3\n",
            "Sample Initial Population\t#s: 2029\tfail_ct: 0\tTime elapsed: 5.46\n",
            "GA Iter: 0\tMax score: 0.9998\tMin score: 0.9964\t#Pop: 8\t#M+: 0\t#M-: 0\n",
            "GA Iter: 4\tMax score: 0.9999\tMin score: 0.9995\t#Pop: 8\t#M+: 1369\t#M-: 81\n",
            "EvolutionarySearch\t\t#s: 8\tTime elapsed: 23.18\n",
            "----------------------------------------------------------------------\n",
            "------------------------------  [ Measure ]\n",
            "----------------------------------------------------------------------\n",
            "Get 4 programs to measure:\n",
            "/usr/local/lib/python3.7/dist-packages/tvm/driver/build_module.py:268: UserWarning: target_host parameter is going to be deprecated. Please pass in tvm.target.Target(target, host=target_host) instead.\n",
            "  \"target_host parameter is going to be deprecated. \"\n",
            "/usr/local/lib/python3.7/dist-packages/tvm/driver/build_module.py:268: UserWarning: target_host parameter is going to be deprecated. Please pass in tvm.target.Target(target, host=target_host) instead.\n",
            "  \"target_host parameter is going to be deprecated. \"\n",
            "./usr/local/lib/python3.7/dist-packages/tvm/driver/build_module.py:268: UserWarning: target_host parameter is going to be deprecated. Please pass in tvm.target.Target(target, host=target_host) instead.\n",
            "  \"target_host parameter is going to be deprecated. \"\n",
            "./usr/local/lib/python3.7/dist-packages/tvm/driver/build_module.py:268: UserWarning: target_host parameter is going to be deprecated. Please pass in tvm.target.Target(target, host=target_host) instead.\n",
            "  \"target_host parameter is going to be deprecated. \"\n",
            "..\n",
            "Time elapsed for measurement: 4.35 s\n",
            "----------------------------------------------------------------------\n",
            "------------------------------  [ Train cost model ]\n",
            "----------------------------------------------------------------------\n",
            "Time elapsed for training: 0.22 s\n",
            "----------------------------------------------------------------------\n",
            "------------------------------  [ Task Scheduler ]\n",
            "----------------------------------------------------------------------\n",
            "|  ID  |                       Task Description                        | Latency (ms) | Speed (GFLOPS) | Trials |\n",
            "-----------------------------------------------------------------------------------------------------------------\n",
            "|    0 |     vm_mod_fused_nn_contrib_depthwise_conv2d_NCHWc_add_clip_6 |        0.235 |           8.98 |      4 |\n",
            "|    1 |               vm_mod_fused_nn_contrib_conv2d_NCHWc_add_clip_9 |       11.393 |           9.03 |      4 |\n",
            "|    2 |     vm_mod_fused_nn_contrib_depthwise_conv2d_NCHWc_add_clip_5 |        0.230 |           4.58 |      4 |\n",
            "|    3 |     vm_mod_fused_nn_contrib_depthwise_conv2d_NCHWc_add_clip_3 |        0.439 |           4.80 |      4 |\n",
            "|    4 |                 vm_mod_fused_nn_contrib_conv2d_NCHWc_add_clip |        2.162 |          10.58 |      4 |\n",
            "|    5 |     vm_mod_fused_nn_contrib_depthwise_conv2d_NCHWc_add_clip_1 |        0.636 |           6.62 |      4 |\n",
            "|    6 |     vm_mod_fused_nn_contrib_depthwise_conv2d_NCHWc_add_clip_2 |        1.718 |           4.91 |      4 |\n",
            "|    7 |               vm_mod_fused_nn_contrib_conv2d_NCHWc_add_clip_8 |        7.420 |           6.95 |      4 |\n",
            "|    8 |               vm_mod_fused_nn_contrib_conv2d_NCHWc_add_clip_6 |        4.603 |          11.23 |      4 |\n",
            "|    9 |     vm_mod_fused_nn_contrib_depthwise_conv2d_NCHWc_add_clip_8 |        0.079 |          13.38 |      4 |\n",
            "|   10 |                                       vm_mod_fused_nn_softmax |        0.008 |           0.51 |      4 |\n",
            "|   11 |               vm_mod_fused_nn_contrib_conv2d_NCHWc_add_clip_3 |       16.870 |           6.16 |      4 |\n",
            "|   12 |               vm_mod_fused_nn_contrib_conv2d_NCHWc_add_clip_5 |       10.718 |           9.64 |      4 |\n",
            "|   13 |               vm_mod_fused_nn_contrib_conv2d_NCHWc_add_clip_2 |            - |              - |      0 |\n",
            "|   14 |                      vm_mod_fused_nn_contrib_conv2d_NCHWc_add |            - |              - |      0 |\n",
            "|   15 |               vm_mod_fused_nn_contrib_conv2d_NCHWc_add_clip_1 |            - |              - |      0 |\n",
            "|   16 |     vm_mod_fused_nn_contrib_depthwise_conv2d_NCHWc_add_clip_4 |            - |              - |      0 |\n",
            "|   17 |     vm_mod_fused_nn_contrib_depthwise_conv2d_NCHWc_add_clip_7 |            - |              - |      0 |\n",
            "|   18 |               vm_mod_fused_nn_contrib_conv2d_NCHWc_add_clip_4 |            - |              - |      0 |\n",
            "|   19 |       vm_mod_fused_nn_contrib_depthwise_conv2d_NCHWc_add_clip |            - |              - |      0 |\n",
            "|   20 |               vm_mod_fused_nn_contrib_conv2d_NCHWc_add_clip_7 |            - |              - |      0 |\n",
            "|   21 |                                    vm_mod_fused_nn_avg_pool2d |            - |              - |      0 |\n",
            "-----------------------------------------------------------------------------------------------------------------\n",
            "Estimated total latency: - ms\tTrials: 52\tUsed time : 629 s\tNext ID: 13\t\n",
            "----------------------------------------------------------------------\n",
            "------------------------------  [ Search ]\n",
            "----------------------------------------------------------------------\n",
            "Generate Sketches\t\t#s: 3\n",
            "Sample Initial Population\t#s: 2019\tfail_ct: 0\tTime elapsed: 5.67\n",
            "GA Iter: 0\tMax score: 0.9997\tMin score: 0.9956\t#Pop: 8\t#M+: 0\t#M-: 0\n",
            "GA Iter: 4\tMax score: 1.0000\tMin score: 0.9991\t#Pop: 8\t#M+: 1385\t#M-: 76\n",
            "EvolutionarySearch\t\t#s: 8\tTime elapsed: 24.15\n",
            "----------------------------------------------------------------------\n",
            "------------------------------  [ Measure ]\n",
            "----------------------------------------------------------------------\n",
            "Get 4 programs to measure:\n",
            "/usr/local/lib/python3.7/dist-packages/tvm/driver/build_module.py:268: UserWarning: target_host parameter is going to be deprecated. Please pass in tvm.target.Target(target, host=target_host) instead.\n",
            "  \"target_host parameter is going to be deprecated. \"\n",
            "/usr/local/lib/python3.7/dist-packages/tvm/driver/build_module.py:268: UserWarning: target_host parameter is going to be deprecated. Please pass in tvm.target.Target(target, host=target_host) instead.\n",
            "  \"target_host parameter is going to be deprecated. \"\n",
            "./usr/local/lib/python3.7/dist-packages/tvm/driver/build_module.py:268: UserWarning: target_host parameter is going to be deprecated. Please pass in tvm.target.Target(target, host=target_host) instead.\n",
            "  \"target_host parameter is going to be deprecated. \"\n",
            "./usr/local/lib/python3.7/dist-packages/tvm/driver/build_module.py:268: UserWarning: target_host parameter is going to be deprecated. Please pass in tvm.target.Target(target, host=target_host) instead.\n",
            "  \"target_host parameter is going to be deprecated. \"\n",
            "..\n",
            "Time elapsed for measurement: 5.51 s\n",
            "----------------------------------------------------------------------\n",
            "------------------------------  [ Train cost model ]\n",
            "----------------------------------------------------------------------\n",
            "Time elapsed for training: 0.27 s\n",
            "----------------------------------------------------------------------\n",
            "------------------------------  [ Task Scheduler ]\n",
            "----------------------------------------------------------------------\n",
            "|  ID  |                       Task Description                        | Latency (ms) | Speed (GFLOPS) | Trials |\n",
            "-----------------------------------------------------------------------------------------------------------------\n",
            "|    0 |     vm_mod_fused_nn_contrib_depthwise_conv2d_NCHWc_add_clip_6 |        0.235 |           8.98 |      4 |\n",
            "|    1 |               vm_mod_fused_nn_contrib_conv2d_NCHWc_add_clip_9 |       11.393 |           9.03 |      4 |\n",
            "|    2 |     vm_mod_fused_nn_contrib_depthwise_conv2d_NCHWc_add_clip_5 |        0.230 |           4.58 |      4 |\n",
            "|    3 |     vm_mod_fused_nn_contrib_depthwise_conv2d_NCHWc_add_clip_3 |        0.439 |           4.80 |      4 |\n",
            "|    4 |                 vm_mod_fused_nn_contrib_conv2d_NCHWc_add_clip |        2.162 |          10.58 |      4 |\n",
            "|    5 |     vm_mod_fused_nn_contrib_depthwise_conv2d_NCHWc_add_clip_1 |        0.636 |           6.62 |      4 |\n",
            "|    6 |     vm_mod_fused_nn_contrib_depthwise_conv2d_NCHWc_add_clip_2 |        1.718 |           4.91 |      4 |\n",
            "|    7 |               vm_mod_fused_nn_contrib_conv2d_NCHWc_add_clip_8 |        7.420 |           6.95 |      4 |\n",
            "|    8 |               vm_mod_fused_nn_contrib_conv2d_NCHWc_add_clip_6 |        4.603 |          11.23 |      4 |\n",
            "|    9 |     vm_mod_fused_nn_contrib_depthwise_conv2d_NCHWc_add_clip_8 |        0.079 |          13.38 |      4 |\n",
            "|   10 |                                       vm_mod_fused_nn_softmax |        0.008 |           0.51 |      4 |\n",
            "|   11 |               vm_mod_fused_nn_contrib_conv2d_NCHWc_add_clip_3 |       16.870 |           6.16 |      4 |\n",
            "|   12 |               vm_mod_fused_nn_contrib_conv2d_NCHWc_add_clip_5 |       10.718 |           9.64 |      4 |\n",
            "|   13 |               vm_mod_fused_nn_contrib_conv2d_NCHWc_add_clip_2 |        4.371 |          12.03 |      4 |\n",
            "|   14 |                      vm_mod_fused_nn_contrib_conv2d_NCHWc_add |            - |              - |      0 |\n",
            "|   15 |               vm_mod_fused_nn_contrib_conv2d_NCHWc_add_clip_1 |            - |              - |      0 |\n",
            "|   16 |     vm_mod_fused_nn_contrib_depthwise_conv2d_NCHWc_add_clip_4 |            - |              - |      0 |\n",
            "|   17 |     vm_mod_fused_nn_contrib_depthwise_conv2d_NCHWc_add_clip_7 |            - |              - |      0 |\n",
            "|   18 |               vm_mod_fused_nn_contrib_conv2d_NCHWc_add_clip_4 |            - |              - |      0 |\n",
            "|   19 |       vm_mod_fused_nn_contrib_depthwise_conv2d_NCHWc_add_clip |            - |              - |      0 |\n",
            "|   20 |               vm_mod_fused_nn_contrib_conv2d_NCHWc_add_clip_7 |            - |              - |      0 |\n",
            "|   21 |                                    vm_mod_fused_nn_avg_pool2d |            - |              - |      0 |\n",
            "-----------------------------------------------------------------------------------------------------------------\n",
            "Estimated total latency: - ms\tTrials: 56\tUsed time : 665 s\tNext ID: 14\t\n",
            "----------------------------------------------------------------------\n",
            "------------------------------  [ Search ]\n",
            "----------------------------------------------------------------------\n",
            "Generate Sketches\t\t#s: 3\n",
            "Sample Initial Population\t#s: 1189\tfail_ct: 565\tTime elapsed: 3.66\n",
            "GA Iter: 0\tMax score: 0.9986\tMin score: 0.9908\t#Pop: 8\t#M+: 0\t#M-: 0\n",
            "GA Iter: 4\tMax score: 1.0000\tMin score: 0.9989\t#Pop: 8\t#M+: 1372\t#M-: 69\n",
            "EvolutionarySearch\t\t#s: 8\tTime elapsed: 14.71\n",
            "----------------------------------------------------------------------\n",
            "------------------------------  [ Measure ]\n",
            "----------------------------------------------------------------------\n",
            "Get 4 programs to measure:\n",
            "/usr/local/lib/python3.7/dist-packages/tvm/driver/build_module.py:268: UserWarning: target_host parameter is going to be deprecated. Please pass in tvm.target.Target(target, host=target_host) instead.\n",
            "  \"target_host parameter is going to be deprecated. \"\n",
            "/usr/local/lib/python3.7/dist-packages/tvm/driver/build_module.py:268: UserWarning: target_host parameter is going to be deprecated. Please pass in tvm.target.Target(target, host=target_host) instead.\n",
            "  \"target_host parameter is going to be deprecated. \"\n",
            "./usr/local/lib/python3.7/dist-packages/tvm/driver/build_module.py:268: UserWarning: target_host parameter is going to be deprecated. Please pass in tvm.target.Target(target, host=target_host) instead.\n",
            "  \"target_host parameter is going to be deprecated. \"\n",
            "../usr/local/lib/python3.7/dist-packages/tvm/driver/build_module.py:268: UserWarning: target_host parameter is going to be deprecated. Please pass in tvm.target.Target(target, host=target_host) instead.\n",
            "  \"target_host parameter is going to be deprecated. \"\n",
            ".\n",
            "Time elapsed for measurement: 2.85 s\n",
            "----------------------------------------------------------------------\n",
            "------------------------------  [ Train cost model ]\n",
            "----------------------------------------------------------------------\n",
            "Time elapsed for training: 0.24 s\n",
            "----------------------------------------------------------------------\n",
            "------------------------------  [ Task Scheduler ]\n",
            "----------------------------------------------------------------------\n",
            "|  ID  |                       Task Description                        | Latency (ms) | Speed (GFLOPS) | Trials |\n",
            "-----------------------------------------------------------------------------------------------------------------\n",
            "|    0 |     vm_mod_fused_nn_contrib_depthwise_conv2d_NCHWc_add_clip_6 |        0.235 |           8.98 |      4 |\n",
            "|    1 |               vm_mod_fused_nn_contrib_conv2d_NCHWc_add_clip_9 |       11.393 |           9.03 |      4 |\n",
            "|    2 |     vm_mod_fused_nn_contrib_depthwise_conv2d_NCHWc_add_clip_5 |        0.230 |           4.58 |      4 |\n",
            "|    3 |     vm_mod_fused_nn_contrib_depthwise_conv2d_NCHWc_add_clip_3 |        0.439 |           4.80 |      4 |\n",
            "|    4 |                 vm_mod_fused_nn_contrib_conv2d_NCHWc_add_clip |        2.162 |          10.58 |      4 |\n",
            "|    5 |     vm_mod_fused_nn_contrib_depthwise_conv2d_NCHWc_add_clip_1 |        0.636 |           6.62 |      4 |\n",
            "|    6 |     vm_mod_fused_nn_contrib_depthwise_conv2d_NCHWc_add_clip_2 |        1.718 |           4.91 |      4 |\n",
            "|    7 |               vm_mod_fused_nn_contrib_conv2d_NCHWc_add_clip_8 |        7.420 |           6.95 |      4 |\n",
            "|    8 |               vm_mod_fused_nn_contrib_conv2d_NCHWc_add_clip_6 |        4.603 |          11.23 |      4 |\n",
            "|    9 |     vm_mod_fused_nn_contrib_depthwise_conv2d_NCHWc_add_clip_8 |        0.079 |          13.38 |      4 |\n",
            "|   10 |                                       vm_mod_fused_nn_softmax |        0.008 |           0.51 |      4 |\n",
            "|   11 |               vm_mod_fused_nn_contrib_conv2d_NCHWc_add_clip_3 |       16.870 |           6.16 |      4 |\n",
            "|   12 |               vm_mod_fused_nn_contrib_conv2d_NCHWc_add_clip_5 |       10.718 |           9.64 |      4 |\n",
            "|   13 |               vm_mod_fused_nn_contrib_conv2d_NCHWc_add_clip_2 |        4.371 |          12.03 |      4 |\n",
            "|   14 |                      vm_mod_fused_nn_contrib_conv2d_NCHWc_add |        0.383 |           5.36 |      4 |\n",
            "|   15 |               vm_mod_fused_nn_contrib_conv2d_NCHWc_add_clip_1 |            - |              - |      0 |\n",
            "|   16 |     vm_mod_fused_nn_contrib_depthwise_conv2d_NCHWc_add_clip_4 |            - |              - |      0 |\n",
            "|   17 |     vm_mod_fused_nn_contrib_depthwise_conv2d_NCHWc_add_clip_7 |            - |              - |      0 |\n",
            "|   18 |               vm_mod_fused_nn_contrib_conv2d_NCHWc_add_clip_4 |            - |              - |      0 |\n",
            "|   19 |       vm_mod_fused_nn_contrib_depthwise_conv2d_NCHWc_add_clip |            - |              - |      0 |\n",
            "|   20 |               vm_mod_fused_nn_contrib_conv2d_NCHWc_add_clip_7 |            - |              - |      0 |\n",
            "|   21 |                                    vm_mod_fused_nn_avg_pool2d |            - |              - |      0 |\n",
            "-----------------------------------------------------------------------------------------------------------------\n",
            "Estimated total latency: - ms\tTrials: 60\tUsed time : 686 s\tNext ID: 15\t\n",
            "----------------------------------------------------------------------\n",
            "------------------------------  [ Search ]\n",
            "----------------------------------------------------------------------\n",
            "Generate Sketches\t\t#s: 3\n",
            "Sample Initial Population\t#s: 2037\tfail_ct: 0\tTime elapsed: 5.80\n",
            "GA Iter: 0\tMax score: 1.0000\tMin score: 0.9947\t#Pop: 8\t#M+: 0\t#M-: 0\n",
            "GA Iter: 4\tMax score: 1.0000\tMin score: 0.9994\t#Pop: 8\t#M+: 1387\t#M-: 70\n",
            "EvolutionarySearch\t\t#s: 8\tTime elapsed: 24.23\n",
            "----------------------------------------------------------------------\n",
            "------------------------------  [ Measure ]\n",
            "----------------------------------------------------------------------\n",
            "Get 4 programs to measure:\n",
            "/usr/local/lib/python3.7/dist-packages/tvm/driver/build_module.py:268: UserWarning: target_host parameter is going to be deprecated. Please pass in tvm.target.Target(target, host=target_host) instead.\n",
            "  \"target_host parameter is going to be deprecated. \"\n",
            "/usr/local/lib/python3.7/dist-packages/tvm/driver/build_module.py:268: UserWarning: target_host parameter is going to be deprecated. Please pass in tvm.target.Target(target, host=target_host) instead.\n",
            "  \"target_host parameter is going to be deprecated. \"\n",
            "./usr/local/lib/python3.7/dist-packages/tvm/driver/build_module.py:268: UserWarning: target_host parameter is going to be deprecated. Please pass in tvm.target.Target(target, host=target_host) instead.\n",
            "  \"target_host parameter is going to be deprecated. \"\n",
            "./usr/local/lib/python3.7/dist-packages/tvm/driver/build_module.py:268: UserWarning: target_host parameter is going to be deprecated. Please pass in tvm.target.Target(target, host=target_host) instead.\n",
            "  \"target_host parameter is going to be deprecated. \"\n",
            "..\n",
            "Time elapsed for measurement: 3.13 s\n",
            "----------------------------------------------------------------------\n",
            "------------------------------  [ Train cost model ]\n",
            "----------------------------------------------------------------------\n",
            "Time elapsed for training: 0.27 s\n",
            "----------------------------------------------------------------------\n",
            "------------------------------  [ Task Scheduler ]\n",
            "----------------------------------------------------------------------\n",
            "|  ID  |                       Task Description                        | Latency (ms) | Speed (GFLOPS) | Trials |\n",
            "-----------------------------------------------------------------------------------------------------------------\n",
            "|    0 |     vm_mod_fused_nn_contrib_depthwise_conv2d_NCHWc_add_clip_6 |        0.235 |           8.98 |      4 |\n",
            "|    1 |               vm_mod_fused_nn_contrib_conv2d_NCHWc_add_clip_9 |       11.393 |           9.03 |      4 |\n",
            "|    2 |     vm_mod_fused_nn_contrib_depthwise_conv2d_NCHWc_add_clip_5 |        0.230 |           4.58 |      4 |\n",
            "|    3 |     vm_mod_fused_nn_contrib_depthwise_conv2d_NCHWc_add_clip_3 |        0.439 |           4.80 |      4 |\n",
            "|    4 |                 vm_mod_fused_nn_contrib_conv2d_NCHWc_add_clip |        2.162 |          10.58 |      4 |\n",
            "|    5 |     vm_mod_fused_nn_contrib_depthwise_conv2d_NCHWc_add_clip_1 |        0.636 |           6.62 |      4 |\n",
            "|    6 |     vm_mod_fused_nn_contrib_depthwise_conv2d_NCHWc_add_clip_2 |        1.718 |           4.91 |      4 |\n",
            "|    7 |               vm_mod_fused_nn_contrib_conv2d_NCHWc_add_clip_8 |        7.420 |           6.95 |      4 |\n",
            "|    8 |               vm_mod_fused_nn_contrib_conv2d_NCHWc_add_clip_6 |        4.603 |          11.23 |      4 |\n",
            "|    9 |     vm_mod_fused_nn_contrib_depthwise_conv2d_NCHWc_add_clip_8 |        0.079 |          13.38 |      4 |\n",
            "|   10 |                                       vm_mod_fused_nn_softmax |        0.008 |           0.51 |      4 |\n",
            "|   11 |               vm_mod_fused_nn_contrib_conv2d_NCHWc_add_clip_3 |       16.870 |           6.16 |      4 |\n",
            "|   12 |               vm_mod_fused_nn_contrib_conv2d_NCHWc_add_clip_5 |       10.718 |           9.64 |      4 |\n",
            "|   13 |               vm_mod_fused_nn_contrib_conv2d_NCHWc_add_clip_2 |        4.371 |          12.03 |      4 |\n",
            "|   14 |                      vm_mod_fused_nn_contrib_conv2d_NCHWc_add |        0.383 |           5.36 |      4 |\n",
            "|   15 |               vm_mod_fused_nn_contrib_conv2d_NCHWc_add_clip_1 |        6.037 |           8.91 |      4 |\n",
            "|   16 |     vm_mod_fused_nn_contrib_depthwise_conv2d_NCHWc_add_clip_4 |            - |              - |      0 |\n",
            "|   17 |     vm_mod_fused_nn_contrib_depthwise_conv2d_NCHWc_add_clip_7 |            - |              - |      0 |\n",
            "|   18 |               vm_mod_fused_nn_contrib_conv2d_NCHWc_add_clip_4 |            - |              - |      0 |\n",
            "|   19 |       vm_mod_fused_nn_contrib_depthwise_conv2d_NCHWc_add_clip |            - |              - |      0 |\n",
            "|   20 |               vm_mod_fused_nn_contrib_conv2d_NCHWc_add_clip_7 |            - |              - |      0 |\n",
            "|   21 |                                    vm_mod_fused_nn_avg_pool2d |            - |              - |      0 |\n",
            "-----------------------------------------------------------------------------------------------------------------\n",
            "Estimated total latency: - ms\tTrials: 64\tUsed time : 720 s\tNext ID: 16\t\n",
            "----------------------------------------------------------------------\n",
            "------------------------------  [ Search ]\n",
            "----------------------------------------------------------------------\n",
            "Generate Sketches\t\t#s: 3\n",
            "Sample Initial Population\t#s: 1811\tfail_ct: 0\tTime elapsed: 10.00\n",
            "GA Iter: 0\tMax score: 0.9998\tMin score: 0.9965\t#Pop: 8\t#M+: 0\t#M-: 0\n",
            "GA Iter: 4\tMax score: 0.9999\tMin score: 0.9996\t#Pop: 8\t#M+: 1392\t#M-: 42\n",
            "EvolutionarySearch\t\t#s: 8\tTime elapsed: 45.32\n",
            "----------------------------------------------------------------------\n",
            "------------------------------  [ Measure ]\n",
            "----------------------------------------------------------------------\n",
            "Get 4 programs to measure:\n",
            "/usr/local/lib/python3.7/dist-packages/tvm/driver/build_module.py:268: UserWarning: target_host parameter is going to be deprecated. Please pass in tvm.target.Target(target, host=target_host) instead.\n",
            "  \"target_host parameter is going to be deprecated. \"\n",
            "/usr/local/lib/python3.7/dist-packages/tvm/driver/build_module.py:268: UserWarning: target_host parameter is going to be deprecated. Please pass in tvm.target.Target(target, host=target_host) instead.\n",
            "  \"target_host parameter is going to be deprecated. \"\n",
            "./usr/local/lib/python3.7/dist-packages/tvm/driver/build_module.py:268: UserWarning: target_host parameter is going to be deprecated. Please pass in tvm.target.Target(target, host=target_host) instead.\n",
            "  \"target_host parameter is going to be deprecated. \"\n",
            "./usr/local/lib/python3.7/dist-packages/tvm/driver/build_module.py:268: UserWarning: target_host parameter is going to be deprecated. Please pass in tvm.target.Target(target, host=target_host) instead.\n",
            "  \"target_host parameter is going to be deprecated. \"\n",
            "..\n",
            "Time elapsed for measurement: 6.17 s\n",
            "----------------------------------------------------------------------\n",
            "------------------------------  [ Train cost model ]\n",
            "----------------------------------------------------------------------\n",
            "Time elapsed for training: 0.25 s\n",
            "----------------------------------------------------------------------\n",
            "------------------------------  [ Task Scheduler ]\n",
            "----------------------------------------------------------------------\n",
            "|  ID  |                       Task Description                        | Latency (ms) | Speed (GFLOPS) | Trials |\n",
            "-----------------------------------------------------------------------------------------------------------------\n",
            "|    0 |     vm_mod_fused_nn_contrib_depthwise_conv2d_NCHWc_add_clip_6 |        0.235 |           8.98 |      4 |\n",
            "|    1 |               vm_mod_fused_nn_contrib_conv2d_NCHWc_add_clip_9 |       11.393 |           9.03 |      4 |\n",
            "|    2 |     vm_mod_fused_nn_contrib_depthwise_conv2d_NCHWc_add_clip_5 |        0.230 |           4.58 |      4 |\n",
            "|    3 |     vm_mod_fused_nn_contrib_depthwise_conv2d_NCHWc_add_clip_3 |        0.439 |           4.80 |      4 |\n",
            "|    4 |                 vm_mod_fused_nn_contrib_conv2d_NCHWc_add_clip |        2.162 |          10.58 |      4 |\n",
            "|    5 |     vm_mod_fused_nn_contrib_depthwise_conv2d_NCHWc_add_clip_1 |        0.636 |           6.62 |      4 |\n",
            "|    6 |     vm_mod_fused_nn_contrib_depthwise_conv2d_NCHWc_add_clip_2 |        1.718 |           4.91 |      4 |\n",
            "|    7 |               vm_mod_fused_nn_contrib_conv2d_NCHWc_add_clip_8 |        7.420 |           6.95 |      4 |\n",
            "|    8 |               vm_mod_fused_nn_contrib_conv2d_NCHWc_add_clip_6 |        4.603 |          11.23 |      4 |\n",
            "|    9 |     vm_mod_fused_nn_contrib_depthwise_conv2d_NCHWc_add_clip_8 |        0.079 |          13.38 |      4 |\n",
            "|   10 |                                       vm_mod_fused_nn_softmax |        0.008 |           0.51 |      4 |\n",
            "|   11 |               vm_mod_fused_nn_contrib_conv2d_NCHWc_add_clip_3 |       16.870 |           6.16 |      4 |\n",
            "|   12 |               vm_mod_fused_nn_contrib_conv2d_NCHWc_add_clip_5 |       10.718 |           9.64 |      4 |\n",
            "|   13 |               vm_mod_fused_nn_contrib_conv2d_NCHWc_add_clip_2 |        4.371 |          12.03 |      4 |\n",
            "|   14 |                      vm_mod_fused_nn_contrib_conv2d_NCHWc_add |        0.383 |           5.36 |      4 |\n",
            "|   15 |               vm_mod_fused_nn_contrib_conv2d_NCHWc_add_clip_1 |        6.037 |           8.91 |      4 |\n",
            "|   16 |     vm_mod_fused_nn_contrib_depthwise_conv2d_NCHWc_add_clip_4 |        0.418 |          10.09 |      4 |\n",
            "|   17 |     vm_mod_fused_nn_contrib_depthwise_conv2d_NCHWc_add_clip_7 |            - |              - |      0 |\n",
            "|   18 |               vm_mod_fused_nn_contrib_conv2d_NCHWc_add_clip_4 |            - |              - |      0 |\n",
            "|   19 |       vm_mod_fused_nn_contrib_depthwise_conv2d_NCHWc_add_clip |            - |              - |      0 |\n",
            "|   20 |               vm_mod_fused_nn_contrib_conv2d_NCHWc_add_clip_7 |            - |              - |      0 |\n",
            "|   21 |                                    vm_mod_fused_nn_avg_pool2d |            - |              - |      0 |\n",
            "-----------------------------------------------------------------------------------------------------------------\n",
            "Estimated total latency: - ms\tTrials: 68\tUsed time : 781 s\tNext ID: 17\t\n",
            "----------------------------------------------------------------------\n",
            "------------------------------  [ Search ]\n",
            "----------------------------------------------------------------------\n",
            "Generate Sketches\t\t#s: 3\n",
            "Sample Initial Population\t#s: 1734\tfail_ct: 0\tTime elapsed: 8.07\n",
            "GA Iter: 0\tMax score: 0.9995\tMin score: 0.9948\t#Pop: 8\t#M+: 0\t#M-: 0\n",
            "GA Iter: 4\tMax score: 0.9999\tMin score: 0.9995\t#Pop: 8\t#M+: 1383\t#M-: 39\n",
            "EvolutionarySearch\t\t#s: 8\tTime elapsed: 36.88\n",
            "----------------------------------------------------------------------\n",
            "------------------------------  [ Measure ]\n",
            "----------------------------------------------------------------------\n",
            "Get 4 programs to measure:\n",
            "/usr/local/lib/python3.7/dist-packages/tvm/driver/build_module.py:268: UserWarning: target_host parameter is going to be deprecated. Please pass in tvm.target.Target(target, host=target_host) instead.\n",
            "  \"target_host parameter is going to be deprecated. \"\n",
            "./usr/local/lib/python3.7/dist-packages/tvm/driver/build_module.py:268: UserWarning: target_host parameter is going to be deprecated. Please pass in tvm.target.Target(target, host=target_host) instead.\n",
            "  \"target_host parameter is going to be deprecated. \"\n",
            "/usr/local/lib/python3.7/dist-packages/tvm/driver/build_module.py:268: UserWarning: target_host parameter is going to be deprecated. Please pass in tvm.target.Target(target, host=target_host) instead.\n",
            "  \"target_host parameter is going to be deprecated. \"\n",
            "../usr/local/lib/python3.7/dist-packages/tvm/driver/build_module.py:268: UserWarning: target_host parameter is going to be deprecated. Please pass in tvm.target.Target(target, host=target_host) instead.\n",
            "  \"target_host parameter is going to be deprecated. \"\n",
            ".\n",
            "Time elapsed for measurement: 5.34 s\n",
            "----------------------------------------------------------------------\n",
            "------------------------------  [ Train cost model ]\n",
            "----------------------------------------------------------------------\n",
            "Time elapsed for training: 0.28 s\n",
            "----------------------------------------------------------------------\n",
            "------------------------------  [ Task Scheduler ]\n",
            "----------------------------------------------------------------------\n",
            "|  ID  |                       Task Description                        | Latency (ms) | Speed (GFLOPS) | Trials |\n",
            "-----------------------------------------------------------------------------------------------------------------\n",
            "|    0 |     vm_mod_fused_nn_contrib_depthwise_conv2d_NCHWc_add_clip_6 |        0.235 |           8.98 |      4 |\n",
            "|    1 |               vm_mod_fused_nn_contrib_conv2d_NCHWc_add_clip_9 |       11.393 |           9.03 |      4 |\n",
            "|    2 |     vm_mod_fused_nn_contrib_depthwise_conv2d_NCHWc_add_clip_5 |        0.230 |           4.58 |      4 |\n",
            "|    3 |     vm_mod_fused_nn_contrib_depthwise_conv2d_NCHWc_add_clip_3 |        0.439 |           4.80 |      4 |\n",
            "|    4 |                 vm_mod_fused_nn_contrib_conv2d_NCHWc_add_clip |        2.162 |          10.58 |      4 |\n",
            "|    5 |     vm_mod_fused_nn_contrib_depthwise_conv2d_NCHWc_add_clip_1 |        0.636 |           6.62 |      4 |\n",
            "|    6 |     vm_mod_fused_nn_contrib_depthwise_conv2d_NCHWc_add_clip_2 |        1.718 |           4.91 |      4 |\n",
            "|    7 |               vm_mod_fused_nn_contrib_conv2d_NCHWc_add_clip_8 |        7.420 |           6.95 |      4 |\n",
            "|    8 |               vm_mod_fused_nn_contrib_conv2d_NCHWc_add_clip_6 |        4.603 |          11.23 |      4 |\n",
            "|    9 |     vm_mod_fused_nn_contrib_depthwise_conv2d_NCHWc_add_clip_8 |        0.079 |          13.38 |      4 |\n",
            "|   10 |                                       vm_mod_fused_nn_softmax |        0.008 |           0.51 |      4 |\n",
            "|   11 |               vm_mod_fused_nn_contrib_conv2d_NCHWc_add_clip_3 |       16.870 |           6.16 |      4 |\n",
            "|   12 |               vm_mod_fused_nn_contrib_conv2d_NCHWc_add_clip_5 |       10.718 |           9.64 |      4 |\n",
            "|   13 |               vm_mod_fused_nn_contrib_conv2d_NCHWc_add_clip_2 |        4.371 |          12.03 |      4 |\n",
            "|   14 |                      vm_mod_fused_nn_contrib_conv2d_NCHWc_add |        0.383 |           5.36 |      4 |\n",
            "|   15 |               vm_mod_fused_nn_contrib_conv2d_NCHWc_add_clip_1 |        6.037 |           8.91 |      4 |\n",
            "|   16 |     vm_mod_fused_nn_contrib_depthwise_conv2d_NCHWc_add_clip_4 |        0.418 |          10.09 |      4 |\n",
            "|   17 |     vm_mod_fused_nn_contrib_depthwise_conv2d_NCHWc_add_clip_7 |        0.082 |           6.46 |      4 |\n",
            "|   18 |               vm_mod_fused_nn_contrib_conv2d_NCHWc_add_clip_4 |            - |              - |      0 |\n",
            "|   19 |       vm_mod_fused_nn_contrib_depthwise_conv2d_NCHWc_add_clip |            - |              - |      0 |\n",
            "|   20 |               vm_mod_fused_nn_contrib_conv2d_NCHWc_add_clip_7 |            - |              - |      0 |\n",
            "|   21 |                                    vm_mod_fused_nn_avg_pool2d |            - |              - |      0 |\n",
            "-----------------------------------------------------------------------------------------------------------------\n",
            "Estimated total latency: - ms\tTrials: 72\tUsed time : 832 s\tNext ID: 18\t\n",
            "----------------------------------------------------------------------\n",
            "------------------------------  [ Search ]\n",
            "----------------------------------------------------------------------\n",
            "Generate Sketches\t\t#s: 3\n",
            "Sample Initial Population\t#s: 2019\tfail_ct: 0\tTime elapsed: 5.61\n",
            "GA Iter: 0\tMax score: 0.9997\tMin score: 0.9971\t#Pop: 8\t#M+: 0\t#M-: 0\n",
            "GA Iter: 4\tMax score: 1.0000\tMin score: 0.9997\t#Pop: 8\t#M+: 1382\t#M-: 77\n",
            "EvolutionarySearch\t\t#s: 8\tTime elapsed: 23.36\n",
            "----------------------------------------------------------------------\n",
            "------------------------------  [ Measure ]\n",
            "----------------------------------------------------------------------\n",
            "Get 4 programs to measure:\n",
            "/usr/local/lib/python3.7/dist-packages/tvm/driver/build_module.py:268: UserWarning: target_host parameter is going to be deprecated. Please pass in tvm.target.Target(target, host=target_host) instead.\n",
            "  \"target_host parameter is going to be deprecated. \"\n",
            "/usr/local/lib/python3.7/dist-packages/tvm/driver/build_module.py:268: UserWarning: target_host parameter is going to be deprecated. Please pass in tvm.target.Target(target, host=target_host) instead.\n",
            "  \"target_host parameter is going to be deprecated. \"\n",
            "./usr/local/lib/python3.7/dist-packages/tvm/driver/build_module.py:268: UserWarning: target_host parameter is going to be deprecated. Please pass in tvm.target.Target(target, host=target_host) instead.\n",
            "  \"target_host parameter is going to be deprecated. \"\n",
            "./usr/local/lib/python3.7/dist-packages/tvm/driver/build_module.py:268: UserWarning: target_host parameter is going to be deprecated. Please pass in tvm.target.Target(target, host=target_host) instead.\n",
            "  \"target_host parameter is going to be deprecated. \"\n",
            "..\n",
            "Time elapsed for measurement: 4.80 s\n",
            "----------------------------------------------------------------------\n",
            "------------------------------  [ Train cost model ]\n",
            "----------------------------------------------------------------------\n",
            "Time elapsed for training: 0.34 s\n",
            "----------------------------------------------------------------------\n",
            "------------------------------  [ Task Scheduler ]\n",
            "----------------------------------------------------------------------\n",
            "|  ID  |                       Task Description                        | Latency (ms) | Speed (GFLOPS) | Trials |\n",
            "-----------------------------------------------------------------------------------------------------------------\n",
            "|    0 |     vm_mod_fused_nn_contrib_depthwise_conv2d_NCHWc_add_clip_6 |        0.235 |           8.98 |      4 |\n",
            "|    1 |               vm_mod_fused_nn_contrib_conv2d_NCHWc_add_clip_9 |       11.393 |           9.03 |      4 |\n",
            "|    2 |     vm_mod_fused_nn_contrib_depthwise_conv2d_NCHWc_add_clip_5 |        0.230 |           4.58 |      4 |\n",
            "|    3 |     vm_mod_fused_nn_contrib_depthwise_conv2d_NCHWc_add_clip_3 |        0.439 |           4.80 |      4 |\n",
            "|    4 |                 vm_mod_fused_nn_contrib_conv2d_NCHWc_add_clip |        2.162 |          10.58 |      4 |\n",
            "|    5 |     vm_mod_fused_nn_contrib_depthwise_conv2d_NCHWc_add_clip_1 |        0.636 |           6.62 |      4 |\n",
            "|    6 |     vm_mod_fused_nn_contrib_depthwise_conv2d_NCHWc_add_clip_2 |        1.718 |           4.91 |      4 |\n",
            "|    7 |               vm_mod_fused_nn_contrib_conv2d_NCHWc_add_clip_8 |        7.420 |           6.95 |      4 |\n",
            "|    8 |               vm_mod_fused_nn_contrib_conv2d_NCHWc_add_clip_6 |        4.603 |          11.23 |      4 |\n",
            "|    9 |     vm_mod_fused_nn_contrib_depthwise_conv2d_NCHWc_add_clip_8 |        0.079 |          13.38 |      4 |\n",
            "|   10 |                                       vm_mod_fused_nn_softmax |        0.008 |           0.51 |      4 |\n",
            "|   11 |               vm_mod_fused_nn_contrib_conv2d_NCHWc_add_clip_3 |       16.870 |           6.16 |      4 |\n",
            "|   12 |               vm_mod_fused_nn_contrib_conv2d_NCHWc_add_clip_5 |       10.718 |           9.64 |      4 |\n",
            "|   13 |               vm_mod_fused_nn_contrib_conv2d_NCHWc_add_clip_2 |        4.371 |          12.03 |      4 |\n",
            "|   14 |                      vm_mod_fused_nn_contrib_conv2d_NCHWc_add |        0.383 |           5.36 |      4 |\n",
            "|   15 |               vm_mod_fused_nn_contrib_conv2d_NCHWc_add_clip_1 |        6.037 |           8.91 |      4 |\n",
            "|   16 |     vm_mod_fused_nn_contrib_depthwise_conv2d_NCHWc_add_clip_4 |        0.418 |          10.09 |      4 |\n",
            "|   17 |     vm_mod_fused_nn_contrib_depthwise_conv2d_NCHWc_add_clip_7 |        0.082 |           6.46 |      4 |\n",
            "|   18 |               vm_mod_fused_nn_contrib_conv2d_NCHWc_add_clip_4 |        4.171 |          12.46 |      4 |\n",
            "|   19 |       vm_mod_fused_nn_contrib_depthwise_conv2d_NCHWc_add_clip |            - |              - |      0 |\n",
            "|   20 |               vm_mod_fused_nn_contrib_conv2d_NCHWc_add_clip_7 |            - |              - |      0 |\n",
            "|   21 |                                    vm_mod_fused_nn_avg_pool2d |            - |              - |      0 |\n",
            "-----------------------------------------------------------------------------------------------------------------\n",
            "Estimated total latency: - ms\tTrials: 76\tUsed time : 866 s\tNext ID: 19\t\n",
            "----------------------------------------------------------------------\n",
            "------------------------------  [ Search ]\n",
            "----------------------------------------------------------------------\n",
            "Generate Sketches\t\t#s: 3\n",
            "Sample Initial Population\t#s: 1776\tfail_ct: 0\tTime elapsed: 10.31\n",
            "GA Iter: 0\tMax score: 0.9998\tMin score: 0.9960\t#Pop: 8\t#M+: 0\t#M-: 0\n",
            "GA Iter: 4\tMax score: 0.9999\tMin score: 0.9990\t#Pop: 8\t#M+: 1389\t#M-: 40\n",
            "EvolutionarySearch\t\t#s: 8\tTime elapsed: 46.98\n",
            "----------------------------------------------------------------------\n",
            "------------------------------  [ Measure ]\n",
            "----------------------------------------------------------------------\n",
            "Get 4 programs to measure:\n",
            "/usr/local/lib/python3.7/dist-packages/tvm/driver/build_module.py:268: UserWarning: target_host parameter is going to be deprecated. Please pass in tvm.target.Target(target, host=target_host) instead.\n",
            "  \"target_host parameter is going to be deprecated. \"\n",
            "/usr/local/lib/python3.7/dist-packages/tvm/driver/build_module.py:268: UserWarning: target_host parameter is going to be deprecated. Please pass in tvm.target.Target(target, host=target_host) instead.\n",
            "  \"target_host parameter is going to be deprecated. \"\n",
            "./usr/local/lib/python3.7/dist-packages/tvm/driver/build_module.py:268: UserWarning: target_host parameter is going to be deprecated. Please pass in tvm.target.Target(target, host=target_host) instead.\n",
            "  \"target_host parameter is going to be deprecated. \"\n",
            "./usr/local/lib/python3.7/dist-packages/tvm/driver/build_module.py:268: UserWarning: target_host parameter is going to be deprecated. Please pass in tvm.target.Target(target, host=target_host) instead.\n",
            "  \"target_host parameter is going to be deprecated. \"\n",
            "..\n",
            "Time elapsed for measurement: 7.00 s\n",
            "----------------------------------------------------------------------\n",
            "------------------------------  [ Train cost model ]\n",
            "----------------------------------------------------------------------\n",
            "Time elapsed for training: 0.33 s\n",
            "----------------------------------------------------------------------\n",
            "------------------------------  [ Task Scheduler ]\n",
            "----------------------------------------------------------------------\n",
            "|  ID  |                       Task Description                        | Latency (ms) | Speed (GFLOPS) | Trials |\n",
            "-----------------------------------------------------------------------------------------------------------------\n",
            "|    0 |     vm_mod_fused_nn_contrib_depthwise_conv2d_NCHWc_add_clip_6 |        0.235 |           8.98 |      4 |\n",
            "|    1 |               vm_mod_fused_nn_contrib_conv2d_NCHWc_add_clip_9 |       11.393 |           9.03 |      4 |\n",
            "|    2 |     vm_mod_fused_nn_contrib_depthwise_conv2d_NCHWc_add_clip_5 |        0.230 |           4.58 |      4 |\n",
            "|    3 |     vm_mod_fused_nn_contrib_depthwise_conv2d_NCHWc_add_clip_3 |        0.439 |           4.80 |      4 |\n",
            "|    4 |                 vm_mod_fused_nn_contrib_conv2d_NCHWc_add_clip |        2.162 |          10.58 |      4 |\n",
            "|    5 |     vm_mod_fused_nn_contrib_depthwise_conv2d_NCHWc_add_clip_1 |        0.636 |           6.62 |      4 |\n",
            "|    6 |     vm_mod_fused_nn_contrib_depthwise_conv2d_NCHWc_add_clip_2 |        1.718 |           4.91 |      4 |\n",
            "|    7 |               vm_mod_fused_nn_contrib_conv2d_NCHWc_add_clip_8 |        7.420 |           6.95 |      4 |\n",
            "|    8 |               vm_mod_fused_nn_contrib_conv2d_NCHWc_add_clip_6 |        4.603 |          11.23 |      4 |\n",
            "|    9 |     vm_mod_fused_nn_contrib_depthwise_conv2d_NCHWc_add_clip_8 |        0.079 |          13.38 |      4 |\n",
            "|   10 |                                       vm_mod_fused_nn_softmax |        0.008 |           0.51 |      4 |\n",
            "|   11 |               vm_mod_fused_nn_contrib_conv2d_NCHWc_add_clip_3 |       16.870 |           6.16 |      4 |\n",
            "|   12 |               vm_mod_fused_nn_contrib_conv2d_NCHWc_add_clip_5 |       10.718 |           9.64 |      4 |\n",
            "|   13 |               vm_mod_fused_nn_contrib_conv2d_NCHWc_add_clip_2 |        4.371 |          12.03 |      4 |\n",
            "|   14 |                      vm_mod_fused_nn_contrib_conv2d_NCHWc_add |        0.383 |           5.36 |      4 |\n",
            "|   15 |               vm_mod_fused_nn_contrib_conv2d_NCHWc_add_clip_1 |        6.037 |           8.91 |      4 |\n",
            "|   16 |     vm_mod_fused_nn_contrib_depthwise_conv2d_NCHWc_add_clip_4 |        0.418 |          10.09 |      4 |\n",
            "|   17 |     vm_mod_fused_nn_contrib_depthwise_conv2d_NCHWc_add_clip_7 |        0.082 |           6.46 |      4 |\n",
            "|   18 |               vm_mod_fused_nn_contrib_conv2d_NCHWc_add_clip_4 |        4.171 |          12.46 |      4 |\n",
            "|   19 |       vm_mod_fused_nn_contrib_depthwise_conv2d_NCHWc_add_clip |        0.672 |          12.55 |      4 |\n",
            "|   20 |               vm_mod_fused_nn_contrib_conv2d_NCHWc_add_clip_7 |            - |              - |      0 |\n",
            "|   21 |                                    vm_mod_fused_nn_avg_pool2d |            - |              - |      0 |\n",
            "-----------------------------------------------------------------------------------------------------------------\n",
            "Estimated total latency: - ms\tTrials: 80\tUsed time : 931 s\tNext ID: 20\t\n",
            "----------------------------------------------------------------------\n",
            "------------------------------  [ Search ]\n",
            "----------------------------------------------------------------------\n",
            "Generate Sketches\t\t#s: 3\n",
            "Sample Initial Population\t#s: 2009\tfail_ct: 0\tTime elapsed: 5.42\n",
            "GA Iter: 0\tMax score: 0.9999\tMin score: 0.9965\t#Pop: 8\t#M+: 0\t#M-: 0\n",
            "GA Iter: 4\tMax score: 0.9999\tMin score: 0.9991\t#Pop: 8\t#M+: 1377\t#M-: 71\n",
            "EvolutionarySearch\t\t#s: 8\tTime elapsed: 22.64\n",
            "----------------------------------------------------------------------\n",
            "------------------------------  [ Measure ]\n",
            "----------------------------------------------------------------------\n",
            "Get 4 programs to measure:\n",
            "/usr/local/lib/python3.7/dist-packages/tvm/driver/build_module.py:268: UserWarning: target_host parameter is going to be deprecated. Please pass in tvm.target.Target(target, host=target_host) instead.\n",
            "  \"target_host parameter is going to be deprecated. \"\n",
            "./usr/local/lib/python3.7/dist-packages/tvm/driver/build_module.py:268: UserWarning: target_host parameter is going to be deprecated. Please pass in tvm.target.Target(target, host=target_host) instead.\n",
            "  \"target_host parameter is going to be deprecated. \"\n",
            "./usr/local/lib/python3.7/dist-packages/tvm/driver/build_module.py:268: UserWarning: target_host parameter is going to be deprecated. Please pass in tvm.target.Target(target, host=target_host) instead.\n",
            "  \"target_host parameter is going to be deprecated. \"\n",
            "./usr/local/lib/python3.7/dist-packages/tvm/driver/build_module.py:268: UserWarning: target_host parameter is going to be deprecated. Please pass in tvm.target.Target(target, host=target_host) instead.\n",
            "  \"target_host parameter is going to be deprecated. \"\n",
            ".\n",
            "Time elapsed for measurement: 6.10 s\n",
            "----------------------------------------------------------------------\n",
            "------------------------------  [ Train cost model ]\n",
            "----------------------------------------------------------------------\n",
            "Time elapsed for training: 0.35 s\n",
            "----------------------------------------------------------------------\n",
            "------------------------------  [ Task Scheduler ]\n",
            "----------------------------------------------------------------------\n",
            "|  ID  |                       Task Description                        | Latency (ms) | Speed (GFLOPS) | Trials |\n",
            "-----------------------------------------------------------------------------------------------------------------\n",
            "|    0 |     vm_mod_fused_nn_contrib_depthwise_conv2d_NCHWc_add_clip_6 |        0.235 |           8.98 |      4 |\n",
            "|    1 |               vm_mod_fused_nn_contrib_conv2d_NCHWc_add_clip_9 |       11.393 |           9.03 |      4 |\n",
            "|    2 |     vm_mod_fused_nn_contrib_depthwise_conv2d_NCHWc_add_clip_5 |        0.230 |           4.58 |      4 |\n",
            "|    3 |     vm_mod_fused_nn_contrib_depthwise_conv2d_NCHWc_add_clip_3 |        0.439 |           4.80 |      4 |\n",
            "|    4 |                 vm_mod_fused_nn_contrib_conv2d_NCHWc_add_clip |        2.162 |          10.58 |      4 |\n",
            "|    5 |     vm_mod_fused_nn_contrib_depthwise_conv2d_NCHWc_add_clip_1 |        0.636 |           6.62 |      4 |\n",
            "|    6 |     vm_mod_fused_nn_contrib_depthwise_conv2d_NCHWc_add_clip_2 |        1.718 |           4.91 |      4 |\n",
            "|    7 |               vm_mod_fused_nn_contrib_conv2d_NCHWc_add_clip_8 |        7.420 |           6.95 |      4 |\n",
            "|    8 |               vm_mod_fused_nn_contrib_conv2d_NCHWc_add_clip_6 |        4.603 |          11.23 |      4 |\n",
            "|    9 |     vm_mod_fused_nn_contrib_depthwise_conv2d_NCHWc_add_clip_8 |        0.079 |          13.38 |      4 |\n",
            "|   10 |                                       vm_mod_fused_nn_softmax |        0.008 |           0.51 |      4 |\n",
            "|   11 |               vm_mod_fused_nn_contrib_conv2d_NCHWc_add_clip_3 |       16.870 |           6.16 |      4 |\n",
            "|   12 |               vm_mod_fused_nn_contrib_conv2d_NCHWc_add_clip_5 |       10.718 |           9.64 |      4 |\n",
            "|   13 |               vm_mod_fused_nn_contrib_conv2d_NCHWc_add_clip_2 |        4.371 |          12.03 |      4 |\n",
            "|   14 |                      vm_mod_fused_nn_contrib_conv2d_NCHWc_add |        0.383 |           5.36 |      4 |\n",
            "|   15 |               vm_mod_fused_nn_contrib_conv2d_NCHWc_add_clip_1 |        6.037 |           8.91 |      4 |\n",
            "|   16 |     vm_mod_fused_nn_contrib_depthwise_conv2d_NCHWc_add_clip_4 |        0.418 |          10.09 |      4 |\n",
            "|   17 |     vm_mod_fused_nn_contrib_depthwise_conv2d_NCHWc_add_clip_7 |        0.082 |           6.46 |      4 |\n",
            "|   18 |               vm_mod_fused_nn_contrib_conv2d_NCHWc_add_clip_4 |        4.171 |          12.46 |      4 |\n",
            "|   19 |       vm_mod_fused_nn_contrib_depthwise_conv2d_NCHWc_add_clip |        0.672 |          12.55 |      4 |\n",
            "|   20 |               vm_mod_fused_nn_contrib_conv2d_NCHWc_add_clip_7 |        5.059 |          20.37 |      4 |\n",
            "|   21 |                                    vm_mod_fused_nn_avg_pool2d |            - |              - |      0 |\n",
            "-----------------------------------------------------------------------------------------------------------------\n",
            "Estimated total latency: - ms\tTrials: 84\tUsed time : 965 s\tNext ID: 21\t\n",
            "----------------------------------------------------------------------\n",
            "------------------------------  [ Search ]\n",
            "----------------------------------------------------------------------\n",
            "Generate Sketches\t\t#s: 3\n",
            "Sample Initial Population\t#s: 624\tfail_ct: 1214\tTime elapsed: 2.95\n",
            "GA Iter: 0\tMax score: 0.9997\tMin score: 0.9839\t#Pop: 8\t#M+: 0\t#M-: 0\n",
            "GA Iter: 4\tMax score: 1.0000\tMin score: 0.9997\t#Pop: 8\t#M+: 1385\t#M-: 67\n",
            "EvolutionarySearch\t\t#s: 8\tTime elapsed: 13.65\n",
            "----------------------------------------------------------------------\n",
            "------------------------------  [ Measure ]\n",
            "----------------------------------------------------------------------\n",
            "Get 4 programs to measure:\n",
            "/usr/local/lib/python3.7/dist-packages/tvm/driver/build_module.py:268: UserWarning: target_host parameter is going to be deprecated. Please pass in tvm.target.Target(target, host=target_host) instead.\n",
            "  \"target_host parameter is going to be deprecated. \"\n",
            "/usr/local/lib/python3.7/dist-packages/tvm/driver/build_module.py:268: UserWarning: target_host parameter is going to be deprecated. Please pass in tvm.target.Target(target, host=target_host) instead.\n",
            "  \"target_host parameter is going to be deprecated. \"\n",
            "./usr/local/lib/python3.7/dist-packages/tvm/driver/build_module.py:268: UserWarning: target_host parameter is going to be deprecated. Please pass in tvm.target.Target(target, host=target_host) instead.\n",
            "  \"target_host parameter is going to be deprecated. \"\n",
            "./usr/local/lib/python3.7/dist-packages/tvm/driver/build_module.py:268: UserWarning: target_host parameter is going to be deprecated. Please pass in tvm.target.Target(target, host=target_host) instead.\n",
            "  \"target_host parameter is going to be deprecated. \"\n",
            "..\n",
            "Time elapsed for measurement: 2.22 s\n",
            "----------------------------------------------------------------------\n",
            "------------------------------  [ Train cost model ]\n",
            "----------------------------------------------------------------------\n",
            "Time elapsed for training: 0.35 s\n",
            "----------------------------------------------------------------------\n",
            "------------------------------  [ Task Scheduler ]\n",
            "----------------------------------------------------------------------\n",
            "|  ID  |                       Task Description                        | Latency (ms) | Speed (GFLOPS) | Trials |\n",
            "-----------------------------------------------------------------------------------------------------------------\n",
            "|    0 |     vm_mod_fused_nn_contrib_depthwise_conv2d_NCHWc_add_clip_6 |        0.235 |           8.98 |      4 |\n",
            "|    1 |               vm_mod_fused_nn_contrib_conv2d_NCHWc_add_clip_9 |       11.393 |           9.03 |      4 |\n",
            "|    2 |     vm_mod_fused_nn_contrib_depthwise_conv2d_NCHWc_add_clip_5 |        0.230 |           4.58 |      4 |\n",
            "|    3 |     vm_mod_fused_nn_contrib_depthwise_conv2d_NCHWc_add_clip_3 |        0.439 |           4.80 |      4 |\n",
            "|    4 |                 vm_mod_fused_nn_contrib_conv2d_NCHWc_add_clip |        2.162 |          10.58 |      4 |\n",
            "|    5 |     vm_mod_fused_nn_contrib_depthwise_conv2d_NCHWc_add_clip_1 |        0.636 |           6.62 |      4 |\n",
            "|    6 |     vm_mod_fused_nn_contrib_depthwise_conv2d_NCHWc_add_clip_2 |        1.718 |           4.91 |      4 |\n",
            "|    7 |               vm_mod_fused_nn_contrib_conv2d_NCHWc_add_clip_8 |        7.420 |           6.95 |      4 |\n",
            "|    8 |               vm_mod_fused_nn_contrib_conv2d_NCHWc_add_clip_6 |        4.603 |          11.23 |      4 |\n",
            "|    9 |     vm_mod_fused_nn_contrib_depthwise_conv2d_NCHWc_add_clip_8 |        0.079 |          13.38 |      4 |\n",
            "|   10 |                                       vm_mod_fused_nn_softmax |        0.008 |           0.51 |      4 |\n",
            "|   11 |               vm_mod_fused_nn_contrib_conv2d_NCHWc_add_clip_3 |       16.870 |           6.16 |      4 |\n",
            "|   12 |               vm_mod_fused_nn_contrib_conv2d_NCHWc_add_clip_5 |       10.718 |           9.64 |      4 |\n",
            "|   13 |               vm_mod_fused_nn_contrib_conv2d_NCHWc_add_clip_2 |        4.371 |          12.03 |      4 |\n",
            "|   14 |                      vm_mod_fused_nn_contrib_conv2d_NCHWc_add |        0.383 |           5.36 |      4 |\n",
            "|   15 |               vm_mod_fused_nn_contrib_conv2d_NCHWc_add_clip_1 |        6.037 |           8.91 |      4 |\n",
            "|   16 |     vm_mod_fused_nn_contrib_depthwise_conv2d_NCHWc_add_clip_4 |        0.418 |          10.09 |      4 |\n",
            "|   17 |     vm_mod_fused_nn_contrib_depthwise_conv2d_NCHWc_add_clip_7 |        0.082 |           6.46 |      4 |\n",
            "|   18 |               vm_mod_fused_nn_contrib_conv2d_NCHWc_add_clip_4 |        4.171 |          12.46 |      4 |\n",
            "|   19 |       vm_mod_fused_nn_contrib_depthwise_conv2d_NCHWc_add_clip |        0.672 |          12.55 |      4 |\n",
            "|   20 |               vm_mod_fused_nn_contrib_conv2d_NCHWc_add_clip_7 |        5.059 |          20.37 |      4 |\n",
            "|   21 |                                    vm_mod_fused_nn_avg_pool2d |        0.022 |           2.29 |      4 |\n",
            "-----------------------------------------------------------------------------------------------------------------\n",
            "Estimated total latency: 98.897 ms\tTrials: 88\tUsed time : 985 s\tNext ID: 20\t\n",
            "----------------------------------------------------------------------\n",
            "------------------------------  [ Search ]\n",
            "----------------------------------------------------------------------\n",
            "Sample Initial Population\t#s: 2006\tfail_ct: 0\tTime elapsed: 5.40\n",
            "GA Iter: 0\tMax score: 0.9998\tMin score: 0.9956\t#Pop: 8\t#M+: 0\t#M-: 0\n",
            "GA Iter: 4\tMax score: 0.9998\tMin score: 0.9981\t#Pop: 8\t#M+: 1387\t#M-: 77\n",
            "EvolutionarySearch\t\t#s: 8\tTime elapsed: 22.60\n",
            "----------------------------------------------------------------------\n",
            "------------------------------  [ Measure ]\n",
            "----------------------------------------------------------------------\n",
            "Get 4 programs to measure:\n",
            "/usr/local/lib/python3.7/dist-packages/tvm/driver/build_module.py:268: UserWarning: target_host parameter is going to be deprecated. Please pass in tvm.target.Target(target, host=target_host) instead.\n",
            "  \"target_host parameter is going to be deprecated. \"\n",
            "/usr/local/lib/python3.7/dist-packages/tvm/driver/build_module.py:268: UserWarning: target_host parameter is going to be deprecated. Please pass in tvm.target.Target(target, host=target_host) instead.\n",
            "  \"target_host parameter is going to be deprecated. \"\n",
            "../usr/local/lib/python3.7/dist-packages/tvm/driver/build_module.py:268: UserWarning: target_host parameter is going to be deprecated. Please pass in tvm.target.Target(target, host=target_host) instead.\n",
            "  \"target_host parameter is going to be deprecated. \"\n",
            "./usr/local/lib/python3.7/dist-packages/tvm/driver/build_module.py:268: UserWarning: target_host parameter is going to be deprecated. Please pass in tvm.target.Target(target, host=target_host) instead.\n",
            "  \"target_host parameter is going to be deprecated. \"\n",
            ".\n",
            "Time elapsed for measurement: 18.11 s\n",
            "----------------------------------------------------------------------\n",
            "------------------------------  [ Train cost model ]\n",
            "----------------------------------------------------------------------\n",
            "Time elapsed for training: 0.30 s\n",
            "----------------------------------------------------------------------\n",
            "------------------------------  [ Task Scheduler ]\n",
            "----------------------------------------------------------------------\n",
            "|  ID  |                       Task Description                        | Latency (ms) | Speed (GFLOPS) | Trials |\n",
            "-----------------------------------------------------------------------------------------------------------------\n",
            "|    0 |     vm_mod_fused_nn_contrib_depthwise_conv2d_NCHWc_add_clip_6 |        0.235 |           8.98 |      4 |\n",
            "|    1 |               vm_mod_fused_nn_contrib_conv2d_NCHWc_add_clip_9 |       11.393 |           9.03 |      4 |\n",
            "|    2 |     vm_mod_fused_nn_contrib_depthwise_conv2d_NCHWc_add_clip_5 |        0.230 |           4.58 |      4 |\n",
            "|    3 |     vm_mod_fused_nn_contrib_depthwise_conv2d_NCHWc_add_clip_3 |        0.439 |           4.80 |      4 |\n",
            "|    4 |                 vm_mod_fused_nn_contrib_conv2d_NCHWc_add_clip |        2.162 |          10.58 |      4 |\n",
            "|    5 |     vm_mod_fused_nn_contrib_depthwise_conv2d_NCHWc_add_clip_1 |        0.636 |           6.62 |      4 |\n",
            "|    6 |     vm_mod_fused_nn_contrib_depthwise_conv2d_NCHWc_add_clip_2 |        1.718 |           4.91 |      4 |\n",
            "|    7 |               vm_mod_fused_nn_contrib_conv2d_NCHWc_add_clip_8 |        7.420 |           6.95 |      4 |\n",
            "|    8 |               vm_mod_fused_nn_contrib_conv2d_NCHWc_add_clip_6 |        4.603 |          11.23 |      4 |\n",
            "|    9 |     vm_mod_fused_nn_contrib_depthwise_conv2d_NCHWc_add_clip_8 |        0.079 |          13.38 |      4 |\n",
            "|   10 |                                       vm_mod_fused_nn_softmax |        0.008 |           0.51 |      4 |\n",
            "|   11 |               vm_mod_fused_nn_contrib_conv2d_NCHWc_add_clip_3 |       16.870 |           6.16 |      4 |\n",
            "|   12 |               vm_mod_fused_nn_contrib_conv2d_NCHWc_add_clip_5 |       10.718 |           9.64 |      4 |\n",
            "|   13 |               vm_mod_fused_nn_contrib_conv2d_NCHWc_add_clip_2 |        4.371 |          12.03 |      4 |\n",
            "|   14 |                      vm_mod_fused_nn_contrib_conv2d_NCHWc_add |        0.383 |           5.36 |      4 |\n",
            "|   15 |               vm_mod_fused_nn_contrib_conv2d_NCHWc_add_clip_1 |        6.037 |           8.91 |      4 |\n",
            "|   16 |     vm_mod_fused_nn_contrib_depthwise_conv2d_NCHWc_add_clip_4 |        0.418 |          10.09 |      4 |\n",
            "|   17 |     vm_mod_fused_nn_contrib_depthwise_conv2d_NCHWc_add_clip_7 |        0.082 |           6.46 |      4 |\n",
            "|   18 |               vm_mod_fused_nn_contrib_conv2d_NCHWc_add_clip_4 |        4.171 |          12.46 |      4 |\n",
            "|   19 |       vm_mod_fused_nn_contrib_depthwise_conv2d_NCHWc_add_clip |        0.672 |          12.55 |      4 |\n",
            "|   20 |               vm_mod_fused_nn_contrib_conv2d_NCHWc_add_clip_7 |        5.059 |          20.37 |      8 |\n",
            "|   21 |                                    vm_mod_fused_nn_avg_pool2d |        0.022 |           2.29 |      4 |\n",
            "-----------------------------------------------------------------------------------------------------------------\n",
            "Estimated total latency: 98.897 ms\tTrials: 92\tUsed time : 1031 s\tNext ID: 11\t\n",
            "----------------------------------------------------------------------\n",
            "------------------------------  [ Search ]\n",
            "----------------------------------------------------------------------\n",
            "Sample Initial Population\t#s: 2027\tfail_ct: 0\tTime elapsed: 5.68\n",
            "GA Iter: 0\tMax score: 0.9722\tMin score: 0.9200\t#Pop: 8\t#M+: 0\t#M-: 0\n",
            "GA Iter: 4\tMax score: 1.0168\tMin score: 0.9842\t#Pop: 8\t#M+: 1384\t#M-: 72\n",
            "EvolutionarySearch\t\t#s: 8\tTime elapsed: 24.59\n",
            "----------------------------------------------------------------------\n",
            "------------------------------  [ Measure ]\n",
            "----------------------------------------------------------------------\n",
            "Get 4 programs to measure:\n",
            "/usr/local/lib/python3.7/dist-packages/tvm/driver/build_module.py:268: UserWarning: target_host parameter is going to be deprecated. Please pass in tvm.target.Target(target, host=target_host) instead.\n",
            "  \"target_host parameter is going to be deprecated. \"\n",
            "/usr/local/lib/python3.7/dist-packages/tvm/driver/build_module.py:268: UserWarning: target_host parameter is going to be deprecated. Please pass in tvm.target.Target(target, host=target_host) instead.\n",
            "  \"target_host parameter is going to be deprecated. \"\n",
            "./usr/local/lib/python3.7/dist-packages/tvm/driver/build_module.py:268: UserWarning: target_host parameter is going to be deprecated. Please pass in tvm.target.Target(target, host=target_host) instead.\n",
            "  \"target_host parameter is going to be deprecated. \"\n",
            "./usr/local/lib/python3.7/dist-packages/tvm/driver/build_module.py:268: UserWarning: target_host parameter is going to be deprecated. Please pass in tvm.target.Target(target, host=target_host) instead.\n",
            "  \"target_host parameter is going to be deprecated. \"\n",
            "..\n",
            "Time elapsed for measurement: 5.33 s\n",
            "----------------------------------------------------------------------\n",
            "------------------------------  [ Train cost model ]\n",
            "----------------------------------------------------------------------\n",
            "Time elapsed for training: 0.36 s\n",
            "----------------------------------------------------------------------\n",
            "------------------------------  [ Task Scheduler ]\n",
            "----------------------------------------------------------------------\n",
            "|  ID  |                       Task Description                        | Latency (ms) | Speed (GFLOPS) | Trials |\n",
            "-----------------------------------------------------------------------------------------------------------------\n",
            "|    0 |     vm_mod_fused_nn_contrib_depthwise_conv2d_NCHWc_add_clip_6 |        0.235 |           8.98 |      4 |\n",
            "|    1 |               vm_mod_fused_nn_contrib_conv2d_NCHWc_add_clip_9 |       11.393 |           9.03 |      4 |\n",
            "|    2 |     vm_mod_fused_nn_contrib_depthwise_conv2d_NCHWc_add_clip_5 |        0.230 |           4.58 |      4 |\n",
            "|    3 |     vm_mod_fused_nn_contrib_depthwise_conv2d_NCHWc_add_clip_3 |        0.439 |           4.80 |      4 |\n",
            "|    4 |                 vm_mod_fused_nn_contrib_conv2d_NCHWc_add_clip |        2.162 |          10.58 |      4 |\n",
            "|    5 |     vm_mod_fused_nn_contrib_depthwise_conv2d_NCHWc_add_clip_1 |        0.636 |           6.62 |      4 |\n",
            "|    6 |     vm_mod_fused_nn_contrib_depthwise_conv2d_NCHWc_add_clip_2 |        1.718 |           4.91 |      4 |\n",
            "|    7 |               vm_mod_fused_nn_contrib_conv2d_NCHWc_add_clip_8 |        7.420 |           6.95 |      4 |\n",
            "|    8 |               vm_mod_fused_nn_contrib_conv2d_NCHWc_add_clip_6 |        4.603 |          11.23 |      4 |\n",
            "|    9 |     vm_mod_fused_nn_contrib_depthwise_conv2d_NCHWc_add_clip_8 |        0.079 |          13.38 |      4 |\n",
            "|   10 |                                       vm_mod_fused_nn_softmax |        0.008 |           0.51 |      4 |\n",
            "|   11 |               vm_mod_fused_nn_contrib_conv2d_NCHWc_add_clip_3 |        6.173 |          16.84 |      8 |\n",
            "|   12 |               vm_mod_fused_nn_contrib_conv2d_NCHWc_add_clip_5 |       10.718 |           9.64 |      4 |\n",
            "|   13 |               vm_mod_fused_nn_contrib_conv2d_NCHWc_add_clip_2 |        4.371 |          12.03 |      4 |\n",
            "|   14 |                      vm_mod_fused_nn_contrib_conv2d_NCHWc_add |        0.383 |           5.36 |      4 |\n",
            "|   15 |               vm_mod_fused_nn_contrib_conv2d_NCHWc_add_clip_1 |        6.037 |           8.91 |      4 |\n",
            "|   16 |     vm_mod_fused_nn_contrib_depthwise_conv2d_NCHWc_add_clip_4 |        0.418 |          10.09 |      4 |\n",
            "|   17 |     vm_mod_fused_nn_contrib_depthwise_conv2d_NCHWc_add_clip_7 |        0.082 |           6.46 |      4 |\n",
            "|   18 |               vm_mod_fused_nn_contrib_conv2d_NCHWc_add_clip_4 |        4.171 |          12.46 |      4 |\n",
            "|   19 |       vm_mod_fused_nn_contrib_depthwise_conv2d_NCHWc_add_clip |        0.672 |          12.55 |      4 |\n",
            "|   20 |               vm_mod_fused_nn_contrib_conv2d_NCHWc_add_clip_7 |        5.059 |          20.37 |      8 |\n",
            "|   21 |                                    vm_mod_fused_nn_avg_pool2d |        0.022 |           2.29 |      4 |\n",
            "-----------------------------------------------------------------------------------------------------------------\n",
            "Estimated total latency: 88.201 ms\tTrials: 96\tUsed time : 1067 s\tNext ID: 20\t\n",
            "----------------------------------------------------------------------\n",
            "------------------------------  [ Search ]\n",
            "----------------------------------------------------------------------\n",
            "Sample Initial Population\t#s: 2014\tfail_ct: 0\tTime elapsed: 5.38\n",
            "GA Iter: 0\tMax score: 1.0262\tMin score: 0.8714\t#Pop: 8\t#M+: 0\t#M-: 0\n",
            "GA Iter: 4\tMax score: 1.0580\tMin score: 1.0197\t#Pop: 8\t#M+: 1380\t#M-: 81\n",
            "EvolutionarySearch\t\t#s: 8\tTime elapsed: 22.46\n",
            "----------------------------------------------------------------------\n",
            "------------------------------  [ Measure ]\n",
            "----------------------------------------------------------------------\n",
            "Get 4 programs to measure:\n",
            "/usr/local/lib/python3.7/dist-packages/tvm/driver/build_module.py:268: UserWarning: target_host parameter is going to be deprecated. Please pass in tvm.target.Target(target, host=target_host) instead.\n",
            "  \"target_host parameter is going to be deprecated. \"\n",
            "./usr/local/lib/python3.7/dist-packages/tvm/driver/build_module.py:268: UserWarning: target_host parameter is going to be deprecated. Please pass in tvm.target.Target(target, host=target_host) instead.\n",
            "  \"target_host parameter is going to be deprecated. \"\n",
            "/usr/local/lib/python3.7/dist-packages/tvm/driver/build_module.py:268: UserWarning: target_host parameter is going to be deprecated. Please pass in tvm.target.Target(target, host=target_host) instead.\n",
            "  \"target_host parameter is going to be deprecated. \"\n",
            "./usr/local/lib/python3.7/dist-packages/tvm/driver/build_module.py:268: UserWarning: target_host parameter is going to be deprecated. Please pass in tvm.target.Target(target, host=target_host) instead.\n",
            "  \"target_host parameter is going to be deprecated. \"\n",
            "..\n",
            "Time elapsed for measurement: 7.21 s\n",
            "----------------------------------------------------------------------\n",
            "------------------------------  [ Train cost model ]\n",
            "----------------------------------------------------------------------\n",
            "Time elapsed for training: 0.42 s\n"
          ]
        }
      ]
    },
    {
      "cell_type": "markdown",
      "source": [
        "#### 2.8.3 Tuning for Microcontrollers"
      ],
      "metadata": {
        "id": "DwMlHVGVVe6M"
      }
    },
    {
      "cell_type": "markdown",
      "source": [
        "Tuning support for MicroTVM using TVMC is not upstream yet."
      ],
      "metadata": {
        "id": "qm8jsIfdSmMc"
      }
    },
    {
      "cell_type": "markdown",
      "source": [
        "#### 2.8.4 Using the tuning results for optimizing a model"
      ],
      "metadata": {
        "id": "XPTSxaHaN7A9"
      }
    },
    {
      "cell_type": "markdown",
      "source": [
        "Do not forget to pass the generated tuning results to the TVM Compilation pipeline to make use of the tuning artifacts. Using the TVMC command line this can i.e. be achieved as follows by adding `--tuning-records autotvm_records.json` to the command line arguments\n",
        "\n"
      ],
      "metadata": {
        "id": "-D0mJpkNOA_8"
      }
    },
    {
      "cell_type": "markdown",
      "source": [
        "### 2.9 Accelerator Support"
      ],
      "metadata": {
        "id": "ITCqjgH5Smi2"
      }
    },
    {
      "cell_type": "markdown",
      "source": [
        "The Bring-your-own-Codegen (BYOC) interface allows extending TVM with custom backends using medium efforts. It allows integrating external accelerators into the TVM compilation as well as using specialized kernel libraries such as CMSIS-NN for ARM targets."
      ],
      "metadata": {
        "id": "uk74WlowQQYS"
      }
    },
    {
      "cell_type": "markdown",
      "source": [
        "As the development of BYOC backends is mostly based on C++, no example is provides here. Instead here is a short example for how to use the existing BYOC backends in TVM:"
      ],
      "metadata": {
        "id": "t-xAoMfGQ2ka"
      }
    },
    {
      "cell_type": "markdown",
      "source": [
        "Update the TVMC command line arguments to include `--target cmsis-nn,c --target-cmsis-nn-mcpu=cortex-m55` which will enable the MVE-Extension based ARM functions in the CMSIS-NN library."
      ],
      "metadata": {
        "id": "_hp3w8X6R0v2"
      }
    },
    {
      "cell_type": "markdown",
      "source": [
        "## 2.10 Deployment to Microcontrollers"
      ],
      "metadata": {
        "id": "vBDUMdFdrYWe"
      }
    },
    {
      "cell_type": "markdown",
      "source": [
        "#### 2.10.1 Deployment without MicroTVM"
      ],
      "metadata": {
        "id": "a_K1hFhERPLd"
      }
    },
    {
      "cell_type": "markdown",
      "source": [
        "The exported MLF artifact in the previous step contains all the relevant sources to build a static library for our TVM model which can be linked to any Target SW executable in the following development step."
      ],
      "metadata": {
        "id": "2S_HLMszRTm7"
      }
    },
    {
      "cell_type": "markdown",
      "source": [
        "### 2.10.2 Deployment via MicroTVM"
      ],
      "metadata": {
        "id": "g_GFFEbHeKbw"
      }
    },
    {
      "cell_type": "markdown",
      "source": [
        "MicroTVM provides an interface to compile/flash/run/tune models for baremetal microcontrollers in a straightforward fashion. The MicroTVM interface is available from Python or using the `tvmc micro` subcommand on the command line (as mentioned earlier in **Section 2.7**).\n",
        "\n",
        "Why using one of the existing MicroTVM Platforms such as ZephyrOS or Arduino, many possible targets can be used with TVM out of the box."
      ],
      "metadata": {
        "id": "a2XZ1N7kPE24"
      }
    },
    {
      "cell_type": "markdown",
      "source": [
        "As MicroTVM depends on real hardware targets, an interactive example can not be made available in this Colab notebook."
      ],
      "metadata": {
        "id": "h8KgIKtgP7xC"
      }
    }
  ],
  "metadata": {
    "accelerator": "GPU",
    "colab": {
      "provenance": [],
      "collapsed_sections": []
    },
    "gpuClass": "standard",
    "kernelspec": {
      "display_name": "Python 3",
      "name": "python3"
    },
    "language_info": {
      "name": "python"
    }
  },
  "nbformat": 4,
  "nbformat_minor": 0
}
